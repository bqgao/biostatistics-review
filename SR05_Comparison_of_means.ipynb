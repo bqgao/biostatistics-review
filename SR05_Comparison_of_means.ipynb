{
 "cells": [
  {
   "cell_type": "markdown",
   "metadata": {},
   "source": [
    "# Statistics review 5: Comparison of means\n",
    "\n",
    "R code accompanying [paper](https://www.ncbi.nlm.nih.gov/pmc/articles/PMC137324/pdf/cc1548.pdf)\n",
    "\n",
    "## Key learning points\n",
    "\n",
    "- The T test"
   ]
  },
  {
   "cell_type": "code",
   "execution_count": 1,
   "metadata": {
    "collapsed": true
   },
   "outputs": [],
   "source": [
    "suppressPackageStartupMessages(library(tidyverse))\n",
    "library(pwr)"
   ]
  },
  {
   "cell_type": "code",
   "execution_count": 141,
   "metadata": {
    "collapsed": true
   },
   "outputs": [],
   "source": [
    "options(repr.plot.width=4, repr.plot.height=3)"
   ]
  },
  {
   "cell_type": "markdown",
   "metadata": {},
   "source": [
    "## Comparison of a single mean with a hypothesized value"
   ]
  },
  {
   "cell_type": "code",
   "execution_count": 2,
   "metadata": {
    "collapsed": true
   },
   "outputs": [],
   "source": [
    "hb <- c(8.1, 10.1, 12.3, 9.7, 11.7, 11.3,\n",
    "        11.9, 9.3, 13.0, 10.5, 8.3, 8.8,\n",
    "        9.4, 6.4, 5.4)"
   ]
  },
  {
   "cell_type": "code",
   "execution_count": 10,
   "metadata": {},
   "outputs": [
    {
     "data": {
      "text/html": [
       "15"
      ],
      "text/latex": [
       "15"
      ],
      "text/markdown": [
       "15"
      ],
      "text/plain": [
       "[1] 15"
      ]
     },
     "metadata": {},
     "output_type": "display_data"
    }
   ],
   "source": [
    "n <- length(hb)\n",
    "n"
   ]
  },
  {
   "cell_type": "code",
   "execution_count": 8,
   "metadata": {},
   "outputs": [
    {
     "data": {
      "text/html": [
       "9.7"
      ],
      "text/latex": [
       "9.7"
      ],
      "text/markdown": [
       "9.7"
      ],
      "text/plain": [
       "[1] 9.7"
      ]
     },
     "metadata": {},
     "output_type": "display_data"
    }
   ],
   "source": [
    "mu <- round(mean(hb), 1)\n",
    "mu"
   ]
  },
  {
   "cell_type": "code",
   "execution_count": 40,
   "metadata": {},
   "outputs": [
    {
     "data": {
      "text/html": [
       "2.2"
      ],
      "text/latex": [
       "2.2"
      ],
      "text/markdown": [
       "2.2"
      ],
      "text/plain": [
       "[1] 2.2"
      ]
     },
     "metadata": {},
     "output_type": "display_data"
    }
   ],
   "source": [
    "sigma <- round(sd(hb), 1)\n",
    "sigma"
   ]
  },
  {
   "cell_type": "code",
   "execution_count": 41,
   "metadata": {},
   "outputs": [
    {
     "data": {
      "text/html": [
       "0.568037557443755"
      ],
      "text/latex": [
       "0.568037557443755"
      ],
      "text/markdown": [
       "0.568037557443755"
      ],
      "text/plain": [
       "[1] 0.5680376"
      ]
     },
     "metadata": {},
     "output_type": "display_data"
    }
   ],
   "source": [
    "se <- sigma/sqrt(n)\n",
    "se"
   ]
  },
  {
   "cell_type": "code",
   "execution_count": 42,
   "metadata": {},
   "outputs": [
    {
     "data": {
      "text/html": [
       "2.1447866879178"
      ],
      "text/latex": [
       "2.1447866879178"
      ],
      "text/markdown": [
       "2.1447866879178"
      ],
      "text/plain": [
       "[1] 2.144787"
      ]
     },
     "metadata": {},
     "output_type": "display_data"
    }
   ],
   "source": [
    "k <- qt(0.975, n-1)\n",
    "k"
   ]
  },
  {
   "cell_type": "code",
   "execution_count": 43,
   "metadata": {},
   "outputs": [
    {
     "data": {
      "text/html": [
       "<ol class=list-inline>\n",
       "\t<li>8.5</li>\n",
       "\t<li>10.9</li>\n",
       "</ol>\n"
      ],
      "text/latex": [
       "\\begin{enumerate*}\n",
       "\\item 8.5\n",
       "\\item 10.9\n",
       "\\end{enumerate*}\n"
      ],
      "text/markdown": [
       "1. 8.5\n",
       "2. 10.9\n",
       "\n",
       "\n"
      ],
      "text/plain": [
       "[1]  8.5 10.9"
      ]
     },
     "metadata": {},
     "output_type": "display_data"
    }
   ],
   "source": [
    "ci <- c(mu - k*se, mu + k*se)\n",
    "round(ci, 1)"
   ]
  },
  {
   "cell_type": "code",
   "execution_count": 44,
   "metadata": {
    "collapsed": true
   },
   "outputs": [],
   "source": [
    "population_mean = 15.0"
   ]
  },
  {
   "cell_type": "code",
   "execution_count": 45,
   "metadata": {},
   "outputs": [
    {
     "data": {
      "text/html": [
       "-9.3"
      ],
      "text/latex": [
       "-9.3"
      ],
      "text/markdown": [
       "-9.3"
      ],
      "text/plain": [
       "[1] -9.3"
      ]
     },
     "metadata": {},
     "output_type": "display_data"
    }
   ],
   "source": [
    "t = (mu - population_mean)/se\n",
    "round(t, 1)"
   ]
  },
  {
   "cell_type": "markdown",
   "metadata": {},
   "source": [
    "### Interpretation of T score\n",
    "\n",
    "The observed mean is 9.3 standard errors below the hypothesized population mean."
   ]
  },
  {
   "cell_type": "markdown",
   "metadata": {},
   "source": [
    "### Getting a p value"
   ]
  },
  {
   "cell_type": "code",
   "execution_count": 50,
   "metadata": {},
   "outputs": [
    {
     "data": {
      "text/html": [
       "2.18878727586969e-07"
      ],
      "text/latex": [
       "2.18878727586969e-07"
      ],
      "text/markdown": [
       "2.18878727586969e-07"
      ],
      "text/plain": [
       "[1] 2.188787e-07"
      ]
     },
     "metadata": {},
     "output_type": "display_data"
    }
   ],
   "source": [
    "2 * (1 - pt(abs(t), df = n-1))"
   ]
  },
  {
   "cell_type": "markdown",
   "metadata": {},
   "source": [
    "### In Practice: Using the t test"
   ]
  },
  {
   "cell_type": "code",
   "execution_count": 51,
   "metadata": {},
   "outputs": [
    {
     "data": {
      "text/plain": [
       "\n",
       "\tOne Sample t-test\n",
       "\n",
       "data:  hb - population_mean\n",
       "t = -9.4587, df = 14, p-value = 1.853e-07\n",
       "alternative hypothesis: true mean is not equal to 0\n",
       "95 percent confidence interval:\n",
       " -6.444537 -4.062130\n",
       "sample estimates:\n",
       "mean of x \n",
       "-5.253333 \n"
      ]
     },
     "metadata": {},
     "output_type": "display_data"
    }
   ],
   "source": [
    "t.test(x = hb - population_mean)"
   ]
  },
  {
   "cell_type": "markdown",
   "metadata": {},
   "source": [
    "## Comparison of two means arising from paired data"
   ]
  },
  {
   "cell_type": "code",
   "execution_count": 60,
   "metadata": {
    "collapsed": true
   },
   "outputs": [],
   "source": [
    "before <- c(39.7, 59.1, 56.1, 57.7, 60.6, 37.8, 58.2, 33.6, 56.0, 65.3)\n",
    "after <- c(52.9, 56.7, 61.9, 71.4, 67.7, 50.0, 60.7, 51.3, 59.5, 59.8)\n",
    "\n",
    "df <- data.frame(\"Subject\" = 1:length(before), \"Before\" = before, \"After\" = after)"
   ]
  },
  {
   "cell_type": "code",
   "execution_count": 63,
   "metadata": {},
   "outputs": [
    {
     "data": {
      "text/html": [
       "<table>\n",
       "<thead><tr><th scope=col>Subject</th><th scope=col>Before</th><th scope=col>After</th><th scope=col>Difference</th></tr></thead>\n",
       "<tbody>\n",
       "\t<tr><td> 1  </td><td>39.7</td><td>52.9</td><td>13.2</td></tr>\n",
       "\t<tr><td> 2  </td><td>59.1</td><td>56.7</td><td>-2.4</td></tr>\n",
       "\t<tr><td> 3  </td><td>56.1</td><td>61.9</td><td> 5.8</td></tr>\n",
       "\t<tr><td> 4  </td><td>57.7</td><td>71.4</td><td>13.7</td></tr>\n",
       "\t<tr><td> 5  </td><td>60.6</td><td>67.7</td><td> 7.1</td></tr>\n",
       "\t<tr><td> 6  </td><td>37.8</td><td>50.0</td><td>12.2</td></tr>\n",
       "\t<tr><td> 7  </td><td>58.2</td><td>60.7</td><td> 2.5</td></tr>\n",
       "\t<tr><td> 8  </td><td>33.6</td><td>51.3</td><td>17.7</td></tr>\n",
       "\t<tr><td> 9  </td><td>56.0</td><td>59.5</td><td> 3.5</td></tr>\n",
       "\t<tr><td>10  </td><td>65.3</td><td>59.8</td><td>-5.5</td></tr>\n",
       "</tbody>\n",
       "</table>\n"
      ],
      "text/latex": [
       "\\begin{tabular}{r|llll}\n",
       " Subject & Before & After & Difference\\\\\n",
       "\\hline\n",
       "\t  1   & 39.7 & 52.9 & 13.2\\\\\n",
       "\t  2   & 59.1 & 56.7 & -2.4\\\\\n",
       "\t  3   & 56.1 & 61.9 &  5.8\\\\\n",
       "\t  4   & 57.7 & 71.4 & 13.7\\\\\n",
       "\t  5   & 60.6 & 67.7 &  7.1\\\\\n",
       "\t  6   & 37.8 & 50.0 & 12.2\\\\\n",
       "\t  7   & 58.2 & 60.7 &  2.5\\\\\n",
       "\t  8   & 33.6 & 51.3 & 17.7\\\\\n",
       "\t  9   & 56.0 & 59.5 &  3.5\\\\\n",
       "\t 10   & 65.3 & 59.8 & -5.5\\\\\n",
       "\\end{tabular}\n"
      ],
      "text/markdown": [
       "\n",
       "Subject | Before | After | Difference | \n",
       "|---|---|---|---|---|---|---|---|---|---|\n",
       "|  1   | 39.7 | 52.9 | 13.2 | \n",
       "|  2   | 59.1 | 56.7 | -2.4 | \n",
       "|  3   | 56.1 | 61.9 |  5.8 | \n",
       "|  4   | 57.7 | 71.4 | 13.7 | \n",
       "|  5   | 60.6 | 67.7 |  7.1 | \n",
       "|  6   | 37.8 | 50.0 | 12.2 | \n",
       "|  7   | 58.2 | 60.7 |  2.5 | \n",
       "|  8   | 33.6 | 51.3 | 17.7 | \n",
       "|  9   | 56.0 | 59.5 |  3.5 | \n",
       "| 10   | 65.3 | 59.8 | -5.5 | \n",
       "\n",
       "\n"
      ],
      "text/plain": [
       "   Subject Before After Difference\n",
       "1   1      39.7   52.9  13.2      \n",
       "2   2      59.1   56.7  -2.4      \n",
       "3   3      56.1   61.9   5.8      \n",
       "4   4      57.7   71.4  13.7      \n",
       "5   5      60.6   67.7   7.1      \n",
       "6   6      37.8   50.0  12.2      \n",
       "7   7      58.2   60.7   2.5      \n",
       "8   8      33.6   51.3  17.7      \n",
       "9   9      56.0   59.5   3.5      \n",
       "10 10      65.3   59.8  -5.5      "
      ]
     },
     "metadata": {},
     "output_type": "display_data"
    }
   ],
   "source": [
    "df <- df %>% mutate(Difference = After - Before)\n",
    "df"
   ]
  },
  {
   "cell_type": "code",
   "execution_count": 68,
   "metadata": {},
   "outputs": [
    {
     "data": {
      "text/html": [
       "<dl class=dl-horizontal>\n",
       "\t<dt>Before</dt>\n",
       "\t\t<dd>52.41</dd>\n",
       "\t<dt>After</dt>\n",
       "\t\t<dd>59.19</dd>\n",
       "\t<dt>Difference</dt>\n",
       "\t\t<dd>6.78</dd>\n",
       "</dl>\n"
      ],
      "text/latex": [
       "\\begin{description*}\n",
       "\\item[Before] 52.41\n",
       "\\item[After] 59.19\n",
       "\\item[Difference] 6.78\n",
       "\\end{description*}\n"
      ],
      "text/markdown": [
       "Before\n",
       ":   52.41After\n",
       ":   59.19Difference\n",
       ":   6.78\n",
       "\n"
      ],
      "text/plain": [
       "    Before      After Difference \n",
       "     52.41      59.19       6.78 "
      ]
     },
     "metadata": {},
     "output_type": "display_data"
    }
   ],
   "source": [
    "apply(df[,2:4], 2, mean)"
   ]
  },
  {
   "cell_type": "code",
   "execution_count": 76,
   "metadata": {},
   "outputs": [
    {
     "data": {
      "text/html": [
       "2.87"
      ],
      "text/latex": [
       "2.87"
      ],
      "text/markdown": [
       "2.87"
      ],
      "text/plain": [
       "[1] 2.87"
      ]
     },
     "metadata": {},
     "output_type": "display_data"
    }
   ],
   "source": [
    "mu <- mean(df$Difference)\n",
    "se <- (sd(df$Difference)/sqrt(10))\n",
    "t <- mu/se\n",
    "round(t, 2)"
   ]
  },
  {
   "cell_type": "code",
   "execution_count": 84,
   "metadata": {},
   "outputs": [
    {
     "data": {
      "text/html": [
       "0.01853"
      ],
      "text/latex": [
       "0.01853"
      ],
      "text/markdown": [
       "0.01853"
      ],
      "text/plain": [
       "[1] 0.01853"
      ]
     },
     "metadata": {},
     "output_type": "display_data"
    }
   ],
   "source": [
    "p <- 2*(1 - pt(abs(t), 9))\n",
    "round(p, 5)"
   ]
  },
  {
   "cell_type": "code",
   "execution_count": 85,
   "metadata": {},
   "outputs": [
    {
     "data": {
      "text/html": [
       "2.26"
      ],
      "text/latex": [
       "2.26"
      ],
      "text/markdown": [
       "2.26"
      ],
      "text/plain": [
       "[1] 2.26"
      ]
     },
     "metadata": {},
     "output_type": "display_data"
    }
   ],
   "source": [
    "k <- qt(0.975, 9)\n",
    "round(k, 2)"
   ]
  },
  {
   "cell_type": "code",
   "execution_count": 86,
   "metadata": {},
   "outputs": [
    {
     "data": {
      "text/html": [
       "<ol class=list-inline>\n",
       "\t<li>1.4</li>\n",
       "\t<li>12.1</li>\n",
       "</ol>\n"
      ],
      "text/latex": [
       "\\begin{enumerate*}\n",
       "\\item 1.4\n",
       "\\item 12.1\n",
       "\\end{enumerate*}\n"
      ],
      "text/markdown": [
       "1. 1.4\n",
       "2. 12.1\n",
       "\n",
       "\n"
      ],
      "text/plain": [
       "[1]  1.4 12.1"
      ]
     },
     "metadata": {},
     "output_type": "display_data"
    }
   ],
   "source": [
    "ci <- c(mu - k*se, mu + k*se)\n",
    "round(ci, 1)"
   ]
  },
  {
   "cell_type": "markdown",
   "metadata": {},
   "source": [
    "### The paired and one-sample T test are the same"
   ]
  },
  {
   "cell_type": "code",
   "execution_count": 90,
   "metadata": {},
   "outputs": [
    {
     "data": {
      "text/plain": [
       "\n",
       "\tPaired t-test\n",
       "\n",
       "data:  df$After and df$Before\n",
       "t = 2.8681, df = 9, p-value = 0.01853\n",
       "alternative hypothesis: true difference in means is not equal to 0\n",
       "95 percent confidence interval:\n",
       "  1.432413 12.127587\n",
       "sample estimates:\n",
       "mean of the differences \n",
       "                   6.78 \n"
      ]
     },
     "metadata": {},
     "output_type": "display_data"
    }
   ],
   "source": [
    "t.test(df$After, df$Before, paired=TRUE)"
   ]
  },
  {
   "cell_type": "code",
   "execution_count": 89,
   "metadata": {},
   "outputs": [
    {
     "data": {
      "text/plain": [
       "\n",
       "\tOne Sample t-test\n",
       "\n",
       "data:  df$Difference\n",
       "t = 2.8681, df = 9, p-value = 0.01853\n",
       "alternative hypothesis: true mean is not equal to 0\n",
       "95 percent confidence interval:\n",
       "  1.432413 12.127587\n",
       "sample estimates:\n",
       "mean of x \n",
       "     6.78 \n"
      ]
     },
     "metadata": {},
     "output_type": "display_data"
    }
   ],
   "source": [
    "t.test(df$Difference)"
   ]
  },
  {
   "cell_type": "markdown",
   "metadata": {},
   "source": [
    "## Comparison of two means arising from unpaired data"
   ]
  },
  {
   "cell_type": "code",
   "execution_count": 91,
   "metadata": {
    "collapsed": true
   },
   "outputs": [],
   "source": [
    "n.x <- 119\n",
    "n.y <- 117\n",
    "mu.x <- 81\n",
    "mu.y <- 95\n",
    "sd.x <- 18\n",
    "sd.y <- 19"
   ]
  },
  {
   "cell_type": "code",
   "execution_count": 95,
   "metadata": {},
   "outputs": [
    {
     "data": {
      "text/html": [
       "1.96"
      ],
      "text/latex": [
       "1.96"
      ],
      "text/markdown": [
       "1.96"
      ],
      "text/plain": [
       "[1] 1.96"
      ]
     },
     "metadata": {},
     "output_type": "display_data"
    }
   ],
   "source": [
    "k <- qnorm(0.975)\n",
    "round(k, 2)"
   ]
  },
  {
   "cell_type": "code",
   "execution_count": 102,
   "metadata": {},
   "outputs": [
    {
     "data": {
      "text/html": [
       "<ol class=list-inline>\n",
       "\t<li>77.8</li>\n",
       "\t<li>84.2</li>\n",
       "</ol>\n"
      ],
      "text/latex": [
       "\\begin{enumerate*}\n",
       "\\item 77.8\n",
       "\\item 84.2\n",
       "\\end{enumerate*}\n"
      ],
      "text/markdown": [
       "1. 77.8\n",
       "2. 84.2\n",
       "\n",
       "\n"
      ],
      "text/plain": [
       "[1] 77.8 84.2"
      ]
     },
     "metadata": {},
     "output_type": "display_data"
    }
   ],
   "source": [
    "ci.x <- c(mu.x - k*sd.x/sqrt(n.x), mu.x + k*sd.x/sqrt(n.x))\n",
    "round(ci.x, 1)"
   ]
  },
  {
   "cell_type": "code",
   "execution_count": 103,
   "metadata": {},
   "outputs": [
    {
     "data": {
      "text/html": [
       "<ol class=list-inline>\n",
       "\t<li>91.6</li>\n",
       "\t<li>84.4</li>\n",
       "</ol>\n"
      ],
      "text/latex": [
       "\\begin{enumerate*}\n",
       "\\item 91.6\n",
       "\\item 84.4\n",
       "\\end{enumerate*}\n"
      ],
      "text/markdown": [
       "1. 91.6\n",
       "2. 84.4\n",
       "\n",
       "\n"
      ],
      "text/plain": [
       "[1] 91.6 84.4"
      ]
     },
     "metadata": {},
     "output_type": "display_data"
    }
   ],
   "source": [
    "ci.y <- c(mu.y - k*sd.y/sqrt(n.y), mu.x + k*sd.y/sqrt(n.y))\n",
    "round(ci.y, 1)"
   ]
  },
  {
   "cell_type": "code",
   "execution_count": 114,
   "metadata": {
    "collapsed": true
   },
   "outputs": [],
   "source": [
    "pooled.se <- function(s1, s2, n1, n2) {\n",
    "    sqrt(((n1-1)*s1^2 + (n2-1)*s2^2)/(n1+n2-2)) * sqrt(1/n1 + 1/n2)\n",
    "}"
   ]
  },
  {
   "cell_type": "code",
   "execution_count": 115,
   "metadata": {},
   "outputs": [
    {
     "data": {
      "text/html": [
       "2.41"
      ],
      "text/latex": [
       "2.41"
      ],
      "text/markdown": [
       "2.41"
      ],
      "text/plain": [
       "[1] 2.41"
      ]
     },
     "metadata": {},
     "output_type": "display_data"
    }
   ],
   "source": [
    "ps <- pooled.se(sd.x, sd.y, n.x, n.y)\n",
    "round(ps, 2)"
   ]
  },
  {
   "cell_type": "code",
   "execution_count": 118,
   "metadata": {},
   "outputs": [
    {
     "data": {
      "text/html": [
       "-14"
      ],
      "text/latex": [
       "-14"
      ],
      "text/markdown": [
       "-14"
      ],
      "text/plain": [
       "[1] -14"
      ]
     },
     "metadata": {},
     "output_type": "display_data"
    }
   ],
   "source": [
    "mu <- mu.x - mu.y\n",
    "mu"
   ]
  },
  {
   "cell_type": "code",
   "execution_count": 119,
   "metadata": {},
   "outputs": [
    {
     "data": {
      "text/html": [
       "<ol class=list-inline>\n",
       "\t<li>-18.7</li>\n",
       "\t<li>-9.4</li>\n",
       "</ol>\n"
      ],
      "text/latex": [
       "\\begin{enumerate*}\n",
       "\\item -18.7\n",
       "\\item -9.4\n",
       "\\end{enumerate*}\n"
      ],
      "text/markdown": [
       "1. -18.7\n",
       "2. -9.4\n",
       "\n",
       "\n"
      ],
      "text/plain": [
       "[1] -18.7  -9.4"
      ]
     },
     "metadata": {},
     "output_type": "display_data"
    }
   ],
   "source": [
    "ci <- c(mu - k*ps, mu + k*se)\n",
    "round(ci, 1)"
   ]
  },
  {
   "cell_type": "code",
   "execution_count": 121,
   "metadata": {},
   "outputs": [
    {
     "data": {
      "text/html": [
       "-5.81"
      ],
      "text/latex": [
       "-5.81"
      ],
      "text/markdown": [
       "-5.81"
      ],
      "text/plain": [
       "[1] -5.81"
      ]
     },
     "metadata": {},
     "output_type": "display_data"
    }
   ],
   "source": [
    "t <- mu/ps\n",
    "round(t, 2)"
   ]
  },
  {
   "cell_type": "code",
   "execution_count": 132,
   "metadata": {},
   "outputs": [
    {
     "data": {
      "text/html": [
       "2.01074956684977e-08"
      ],
      "text/latex": [
       "2.01074956684977e-08"
      ],
      "text/markdown": [
       "2.01074956684977e-08"
      ],
      "text/plain": [
       "[1] 2.01075e-08"
      ]
     },
     "metadata": {},
     "output_type": "display_data"
    }
   ],
   "source": [
    "2 * (1 - pt(abs(t), df = n.x+n.y-2))"
   ]
  },
  {
   "cell_type": "markdown",
   "metadata": {},
   "source": [
    "### The two-sample T test\n",
    "\n",
    "Normally you would just two vectors of data to the t.test function. We will simulate these since the original data is not provided just to illustrate."
   ]
  },
  {
   "cell_type": "code",
   "execution_count": 133,
   "metadata": {},
   "outputs": [
    {
     "data": {
      "text/plain": [
       "\n",
       "\tWelch Two Sample t-test\n",
       "\n",
       "data:  x and y\n",
       "t = -6.0677, df = 230.89, p-value = 5.268e-09\n",
       "alternative hypothesis: true difference in means is not equal to 0\n",
       "95 percent confidence interval:\n",
       " -21.26554 -10.84025\n",
       "sample estimates:\n",
       "mean of x mean of y \n",
       " 79.24579  95.29868 \n"
      ]
     },
     "metadata": {},
     "output_type": "display_data"
    }
   ],
   "source": [
    "x <- rnorm(n.x, mu.x, sd.x)\n",
    "y <- rnorm(n.y, mu.y, sd.y)\n",
    "t.test(x, y)"
   ]
  },
  {
   "cell_type": "markdown",
   "metadata": {},
   "source": [
    "## Assumptions and limitations\n",
    "\n",
    "- The one sample t-test requires that the data have an approximately Normal distribution, whereas the paired t-test requires that the distribution of the differences are approximately Normal. \n",
    "- The unpaired t-test relies on the assumption that the data from the two samples are both Normally distributed, and has the additional requirement that the SDs from the two samples are approximately equal."
   ]
  },
  {
   "cell_type": "markdown",
   "metadata": {},
   "source": [
    "### Testing for normality\n",
    "\n",
    "This is most commonly done visually with a QQ-plot of percentiles of sample versus percentiles of a standard normal distribution. If the sample distribution is normal, you should see a straight diagonal line. \n",
    "\n",
    "An alternative is the Shapiro-Wilk test for normality.\n",
    "\n",
    "For testing equal variance, you can use the `var.test` function in R."
   ]
  },
  {
   "cell_type": "code",
   "execution_count": 142,
   "metadata": {},
   "outputs": [
    {
     "data": {},
     "metadata": {},
     "output_type": "display_data"
    },
    {
     "data": {
      "image/png": "[encoded data removed]",
      "text/plain": [
       "plot without title"
      ]
     },
     "metadata": {},
     "output_type": "display_data"
    }
   ],
   "source": [
    "df <- data.frame(x=x)\n",
    "ggplot(df, aes(sample=x)) + stat_qq()"
   ]
  },
  {
   "cell_type": "code",
   "execution_count": 143,
   "metadata": {},
   "outputs": [
    {
     "data": {
      "text/plain": [
       "\n",
       "\tShapiro-Wilk normality test\n",
       "\n",
       "data:  df$x\n",
       "W = 0.99162, p-value = 0.6905\n"
      ]
     },
     "metadata": {},
     "output_type": "display_data"
    }
   ],
   "source": [
    "shapiro.test(df$x)"
   ]
  },
  {
   "cell_type": "code",
   "execution_count": 145,
   "metadata": {},
   "outputs": [
    {
     "data": {
      "text/plain": [
       "\n",
       "\tF test to compare two variances\n",
       "\n",
       "data:  x and y\n",
       "F = 0.81959, num df = 118, denom df = 116, p-value = 0.283\n",
       "alternative hypothesis: true ratio of variances is not equal to 1\n",
       "95 percent confidence interval:\n",
       " 0.5692599 1.1793311\n",
       "sample estimates:\n",
       "ratio of variances \n",
       "         0.8195921 \n"
      ]
     },
     "metadata": {},
     "output_type": "display_data"
    }
   ],
   "source": [
    "var.test(x, y)"
   ]
  },
  {
   "cell_type": "markdown",
   "metadata": {},
   "source": [
    "## Exercise"
   ]
  },
  {
   "cell_type": "code",
   "execution_count": 146,
   "metadata": {
    "collapsed": true
   },
   "outputs": [],
   "source": [
    "suppressPackageStartupMessages(library(MASS))"
   ]
  },
  {
   "cell_type": "code",
   "execution_count": 147,
   "metadata": {
    "collapsed": true
   },
   "outputs": [],
   "source": [
    "data(anorexia)"
   ]
  },
  {
   "cell_type": "code",
   "execution_count": 148,
   "metadata": {},
   "outputs": [
    {
     "data": {
      "text/html": [
       "<table>\n",
       "<thead><tr><th scope=col>Treat</th><th scope=col>Prewt</th><th scope=col>Postwt</th></tr></thead>\n",
       "<tbody>\n",
       "\t<tr><td>Cont</td><td>80.7</td><td>80.2</td></tr>\n",
       "\t<tr><td>Cont</td><td>89.4</td><td>80.1</td></tr>\n",
       "\t<tr><td>Cont</td><td>91.8</td><td>86.4</td></tr>\n",
       "\t<tr><td>Cont</td><td>74.0</td><td>86.3</td></tr>\n",
       "\t<tr><td>Cont</td><td>78.1</td><td>76.1</td></tr>\n",
       "\t<tr><td>Cont</td><td>88.3</td><td>78.1</td></tr>\n",
       "</tbody>\n",
       "</table>\n"
      ],
      "text/latex": [
       "\\begin{tabular}{r|lll}\n",
       " Treat & Prewt & Postwt\\\\\n",
       "\\hline\n",
       "\t Cont & 80.7 & 80.2\\\\\n",
       "\t Cont & 89.4 & 80.1\\\\\n",
       "\t Cont & 91.8 & 86.4\\\\\n",
       "\t Cont & 74.0 & 86.3\\\\\n",
       "\t Cont & 78.1 & 76.1\\\\\n",
       "\t Cont & 88.3 & 78.1\\\\\n",
       "\\end{tabular}\n"
      ],
      "text/markdown": [
       "\n",
       "Treat | Prewt | Postwt | \n",
       "|---|---|---|---|---|---|\n",
       "| Cont | 80.7 | 80.2 | \n",
       "| Cont | 89.4 | 80.1 | \n",
       "| Cont | 91.8 | 86.4 | \n",
       "| Cont | 74.0 | 86.3 | \n",
       "| Cont | 78.1 | 76.1 | \n",
       "| Cont | 88.3 | 78.1 | \n",
       "\n",
       "\n"
      ],
      "text/plain": [
       "  Treat Prewt Postwt\n",
       "1 Cont  80.7  80.2  \n",
       "2 Cont  89.4  80.1  \n",
       "3 Cont  91.8  86.4  \n",
       "4 Cont  74.0  86.3  \n",
       "5 Cont  78.1  76.1  \n",
       "6 Cont  88.3  78.1  "
      ]
     },
     "metadata": {},
     "output_type": "display_data"
    }
   ],
   "source": [
    "head(anorexia)"
   ]
  },
  {
   "cell_type": "code",
   "execution_count": 149,
   "metadata": {},
   "outputs": [
    {
     "name": "stdout",
     "output_type": "stream",
     "text": [
      "'data.frame':\t72 obs. of  3 variables:\n",
      " $ Treat : Factor w/ 3 levels \"CBT\",\"Cont\",\"FT\": 2 2 2 2 2 2 2 2 2 2 ...\n",
      " $ Prewt : num  80.7 89.4 91.8 74 78.1 88.3 87.3 75.1 80.6 78.4 ...\n",
      " $ Postwt: num  80.2 80.1 86.4 86.3 76.1 78.1 75.1 86.7 73.5 84.6 ...\n"
     ]
    }
   ],
   "source": [
    "str(anorexia)"
   ]
  },
  {
   "cell_type": "code",
   "execution_count": 167,
   "metadata": {},
   "outputs": [
    {
     "data": {},
     "metadata": {},
     "output_type": "display_data"
    },
    {
     "data": {
      "image/png": "[encoded data removed]",
      "text/plain": [
       "plot without title"
      ]
     },
     "metadata": {},
     "output_type": "display_data"
    }
   ],
   "source": [
    "ggplot(anorexia %>% gather(Time, Wt, -Treat), aes(y=Wt, x=Treat, fill=Time)) + \n",
    "geom_boxplot()"
   ]
  },
  {
   "cell_type": "markdown",
   "metadata": {},
   "source": [
    "**1**. There are 3 treatment groups for the anorexia data set. Calculate the confidence intervals and p-values for each treatment using the appropriate T test."
   ]
  },
  {
   "cell_type": "code",
   "execution_count": null,
   "metadata": {
    "collapsed": true
   },
   "outputs": [],
   "source": []
  },
  {
   "cell_type": "markdown",
   "metadata": {},
   "source": [
    "**2** Check if the normality assumptions are met for each treatment group."
   ]
  },
  {
   "cell_type": "code",
   "execution_count": null,
   "metadata": {
    "collapsed": true
   },
   "outputs": [],
   "source": []
  }
 ],
 "metadata": {
  "kernelspec": {
   "display_name": "R",
   "language": "R",
   "name": "ir"
  },
  "language_info": {
   "codemirror_mode": "r",
   "file_extension": ".r",
   "mimetype": "text/x-r-source",
   "name": "R",
   "pygments_lexer": "r",
   "version": "3.4.0"
  }
 },
 "nbformat": 4,
 "nbformat_minor": 2
}
