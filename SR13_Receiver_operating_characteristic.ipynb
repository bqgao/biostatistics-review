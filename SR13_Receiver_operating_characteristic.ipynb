{
 "cells": [
  {
   "cell_type": "markdown",
   "metadata": {},
   "source": [
    "# Statistics review 13: Receiver operating characteristic\n",
    "\n",
    "R code accompanying [paper](https://www.ncbi.nlm.nih.gov/pmc/articles/PMC1065080/pdf/cc3000.pdf)\n",
    "\n",
    "## Key learning points\n",
    "\n",
    "- Methods for assessing the performance of a diagnostic test\n",
    "- Sensitivity, specificity and likelihood ratio of a test\n",
    "- Receiver operating characteristic curve and the area under the curve"
   ]
  },
  {
   "cell_type": "code",
   "execution_count": 1,
   "metadata": {
    "collapsed": true
   },
   "outputs": [],
   "source": [
    "suppressPackageStartupMessages(library(tidyverse))"
   ]
  },
  {
   "cell_type": "code",
   "execution_count": 2,
   "metadata": {
    "collapsed": true
   },
   "outputs": [],
   "source": [
    "options(repr.plot.width=4, repr.plot.height=3)"
   ]
  },
  {
   "cell_type": "markdown",
   "metadata": {},
   "source": [
    "## Data"
   ]
  },
  {
   "cell_type": "code",
   "execution_count": 6,
   "metadata": {},
   "outputs": [
    {
     "data": {
      "text/html": [
       "<table>\n",
       "<thead><tr><th></th><th scope=col>died</th><th scope=col>survived</th></tr></thead>\n",
       "<tbody>\n",
       "\t<tr><th scope=row>Lactate &gt;1.5 mmol/l</th><td>81 </td><td>591</td></tr>\n",
       "\t<tr><th scope=row>Lactate ≤1.5 mmol/l</th><td>45 </td><td>674</td></tr>\n",
       "</tbody>\n",
       "</table>\n"
      ],
      "text/latex": [
       "\\begin{tabular}{r|ll}\n",
       "  & died & survived\\\\\n",
       "\\hline\n",
       "\tLactate >1.5 mmol/l & 81  & 591\\\\\n",
       "\tLactate ≤1.5 mmol/l & 45  & 674\\\\\n",
       "\\end{tabular}\n"
      ],
      "text/markdown": [
       "\n",
       "| <!--/--> | died | survived | \n",
       "|---|---|\n",
       "| Lactate >1.5 mmol/l | 81  | 591 | \n",
       "| Lactate ≤1.5 mmol/l | 45  | 674 | \n",
       "\n",
       "\n"
      ],
      "text/plain": [
       "                    died survived\n",
       "Lactate >1.5 mmol/l 81   591     \n",
       "Lactate ≤1.5 mmol/l 45   674     "
      ]
     },
     "metadata": {},
     "output_type": "display_data"
    }
   ],
   "source": [
    "died <- c(81, 45)\n",
    "survived <- c(591, 674)\n",
    "\n",
    "df1 <- data.frame(died=died, survived=survived,\n",
    "                  row.names=c(\"Lactate >1.5 mmol/l\", \"Lactate ≤1.5 mmol/l\"))\n",
    "df1"
   ]
  },
  {
   "cell_type": "markdown",
   "metadata": {},
   "source": [
    "### Data set with different prevalence"
   ]
  },
  {
   "cell_type": "code",
   "execution_count": 7,
   "metadata": {},
   "outputs": [
    {
     "data": {
      "text/html": [
       "<table>\n",
       "<thead><tr><th></th><th scope=col>died</th><th scope=col>survived</th></tr></thead>\n",
       "<tbody>\n",
       "\t<tr><th scope=row>Lactate &gt;1.5 mmol/l</th><td>386</td><td>370</td></tr>\n",
       "\t<tr><th scope=row>Lactate ≤1.5 mmol/l</th><td>214</td><td>421</td></tr>\n",
       "</tbody>\n",
       "</table>\n"
      ],
      "text/latex": [
       "\\begin{tabular}{r|ll}\n",
       "  & died & survived\\\\\n",
       "\\hline\n",
       "\tLactate >1.5 mmol/l & 386 & 370\\\\\n",
       "\tLactate ≤1.5 mmol/l & 214 & 421\\\\\n",
       "\\end{tabular}\n"
      ],
      "text/markdown": [
       "\n",
       "| <!--/--> | died | survived | \n",
       "|---|---|\n",
       "| Lactate >1.5 mmol/l | 386 | 370 | \n",
       "| Lactate ≤1.5 mmol/l | 214 | 421 | \n",
       "\n",
       "\n"
      ],
      "text/plain": [
       "                    died survived\n",
       "Lactate >1.5 mmol/l 386  370     \n",
       "Lactate ≤1.5 mmol/l 214  421     "
      ]
     },
     "metadata": {},
     "output_type": "display_data"
    }
   ],
   "source": [
    "died <- c(386, 214)\n",
    "survived <- c(370, 421)\n",
    "\n",
    "df2 <- data.frame(died=died, survived=survived,\n",
    "                  row.names=c(\"Lactate >1.5 mmol/l\", \"Lactate ≤1.5 mmol/l\"))\n",
    "df2"
   ]
  },
  {
   "cell_type": "markdown",
   "metadata": {},
   "source": [
    "## Sensitivity and specificity"
   ]
  },
  {
   "cell_type": "code",
   "execution_count": 57,
   "metadata": {
    "collapsed": true
   },
   "outputs": [],
   "source": [
    "prop.ci <- function(p, n, alpha=0.05) {\n",
    "    se <- sqrt(p*(1-p)/n)\n",
    "    k <- qnorm(1 - alpha/2)\n",
    "    round(c(p - k*se, p + k*se), 2)\n",
    "}"
   ]
  },
  {
   "cell_type": "code",
   "execution_count": 72,
   "metadata": {},
   "outputs": [],
   "source": [
    "sens <- function(tbl) {\n",
    "    a <- tbl[1,1]\n",
    "    b <- tbl[1,2]\n",
    "    c <- tbl[2,1]\n",
    "    d <- tbl[2,2]\n",
    "    n <- a + c   \n",
    "    p <- a/n\n",
    "   \n",
    "    round(p, 2)\n",
    "}"
   ]
  },
  {
   "cell_type": "code",
   "execution_count": 73,
   "metadata": {},
   "outputs": [
    {
     "data": {
      "text/html": [
       "0.64"
      ],
      "text/latex": [
       "0.64"
      ],
      "text/markdown": [
       "0.64"
      ],
      "text/plain": [
       "[1] 0.64"
      ]
     },
     "metadata": {},
     "output_type": "display_data"
    }
   ],
   "source": [
    "sens(df1)"
   ]
  },
  {
   "cell_type": "code",
   "execution_count": 74,
   "metadata": {},
   "outputs": [
    {
     "data": {
      "text/html": [
       "<ol class=list-inline>\n",
       "\t<li>0.61</li>\n",
       "\t<li>0.67</li>\n",
       "</ol>\n"
      ],
      "text/latex": [
       "\\begin{enumerate*}\n",
       "\\item 0.61\n",
       "\\item 0.67\n",
       "\\end{enumerate*}\n"
      ],
      "text/markdown": [
       "1. 0.61\n",
       "2. 0.67\n",
       "\n",
       "\n"
      ],
      "text/plain": [
       "[1] 0.61 0.67"
      ]
     },
     "metadata": {},
     "output_type": "display_data"
    }
   ],
   "source": [
    "p <- sens(df1)\n",
    "n <- sum(df1)\n",
    "prop.ci(p, n)"
   ]
  },
  {
   "cell_type": "code",
   "execution_count": 75,
   "metadata": {
    "collapsed": true
   },
   "outputs": [],
   "source": [
    "spec <- function(tbl) {\n",
    "    a <- tbl[1,1]\n",
    "    b <- tbl[1,2]\n",
    "    c <- tbl[2,1]\n",
    "    d <- tbl[2,2]\n",
    "    n <- b + d\n",
    "    \n",
    "    p <- d/n\n",
    "    round(p, 2)\n",
    "}"
   ]
  },
  {
   "cell_type": "code",
   "execution_count": 61,
   "metadata": {},
   "outputs": [
    {
     "data": {
      "text/html": [
       "0.53"
      ],
      "text/latex": [
       "0.53"
      ],
      "text/markdown": [
       "0.53"
      ],
      "text/plain": [
       "[1] 0.53"
      ]
     },
     "metadata": {},
     "output_type": "display_data"
    }
   ],
   "source": [
    "spec(df1)"
   ]
  },
  {
   "cell_type": "markdown",
   "metadata": {},
   "source": [
    "## Positive and negative predictive values"
   ]
  },
  {
   "cell_type": "code",
   "execution_count": 64,
   "metadata": {
    "collapsed": true
   },
   "outputs": [],
   "source": [
    "ppv <- function(tbl) {\n",
    "    a <- tbl[1,1]\n",
    "    b <- tbl[1,2]\n",
    "    c <- tbl[2,1]\n",
    "    d <- tbl[2,2]\n",
    "    n <- a + b\n",
    "    p <- a/n\n",
    "    \n",
    "    round(p, 2)\n",
    "}"
   ]
  },
  {
   "cell_type": "code",
   "execution_count": 65,
   "metadata": {},
   "outputs": [
    {
     "data": {
      "text/html": [
       "0.12"
      ],
      "text/latex": [
       "0.12"
      ],
      "text/markdown": [
       "0.12"
      ],
      "text/plain": [
       "[1] 0.12"
      ]
     },
     "metadata": {},
     "output_type": "display_data"
    }
   ],
   "source": [
    "ppv(df1)"
   ]
  },
  {
   "cell_type": "code",
   "execution_count": 66,
   "metadata": {
    "collapsed": true
   },
   "outputs": [],
   "source": [
    "npv <- function(tbl, alpha=0.05) {\n",
    "    a <- tbl[1,1]\n",
    "    b <- tbl[1,2]\n",
    "    c <- tbl[2,1]\n",
    "    d <- tbl[2,2]\n",
    "    n <- c + d\n",
    "    \n",
    "    p <- d/n    \n",
    "    round(p, 2)\n",
    "}"
   ]
  },
  {
   "cell_type": "code",
   "execution_count": 67,
   "metadata": {},
   "outputs": [
    {
     "data": {
      "text/html": [
       "0.94"
      ],
      "text/latex": [
       "0.94"
      ],
      "text/markdown": [
       "0.94"
      ],
      "text/plain": [
       "[1] 0.94"
      ]
     },
     "metadata": {},
     "output_type": "display_data"
    }
   ],
   "source": [
    "npv(df1)"
   ]
  },
  {
   "cell_type": "markdown",
   "metadata": {},
   "source": [
    "## Effect of prevalence"
   ]
  },
  {
   "cell_type": "code",
   "execution_count": 32,
   "metadata": {},
   "outputs": [
    {
     "data": {
      "text/html": [
       "<ol class=list-inline>\n",
       "\t<li>0.64</li>\n",
       "\t<li>0.64</li>\n",
       "</ol>\n"
      ],
      "text/latex": [
       "\\begin{enumerate*}\n",
       "\\item 0.64\n",
       "\\item 0.64\n",
       "\\end{enumerate*}\n"
      ],
      "text/markdown": [
       "1. 0.64\n",
       "2. 0.64\n",
       "\n",
       "\n"
      ],
      "text/plain": [
       "[1] 0.64 0.64"
      ]
     },
     "metadata": {},
     "output_type": "display_data"
    }
   ],
   "source": [
    "c(sens(df1)[1], sens(df2)[1])"
   ]
  },
  {
   "cell_type": "code",
   "execution_count": 33,
   "metadata": {},
   "outputs": [
    {
     "data": {
      "text/html": [
       "<ol class=list-inline>\n",
       "\t<li>0.53</li>\n",
       "\t<li>0.53</li>\n",
       "</ol>\n"
      ],
      "text/latex": [
       "\\begin{enumerate*}\n",
       "\\item 0.53\n",
       "\\item 0.53\n",
       "\\end{enumerate*}\n"
      ],
      "text/markdown": [
       "1. 0.53\n",
       "2. 0.53\n",
       "\n",
       "\n"
      ],
      "text/plain": [
       "[1] 0.53 0.53"
      ]
     },
     "metadata": {},
     "output_type": "display_data"
    }
   ],
   "source": [
    "c(spec(df1)[1], spec(df2)[1])"
   ]
  },
  {
   "cell_type": "code",
   "execution_count": 34,
   "metadata": {},
   "outputs": [
    {
     "data": {
      "text/html": [
       "<ol class=list-inline>\n",
       "\t<li>0.12</li>\n",
       "\t<li>0.51</li>\n",
       "</ol>\n"
      ],
      "text/latex": [
       "\\begin{enumerate*}\n",
       "\\item 0.12\n",
       "\\item 0.51\n",
       "\\end{enumerate*}\n"
      ],
      "text/markdown": [
       "1. 0.12\n",
       "2. 0.51\n",
       "\n",
       "\n"
      ],
      "text/plain": [
       "[1] 0.12 0.51"
      ]
     },
     "metadata": {},
     "output_type": "display_data"
    }
   ],
   "source": [
    "c(ppv(df1)[1], ppv(df2)[1])"
   ]
  },
  {
   "cell_type": "code",
   "execution_count": 35,
   "metadata": {},
   "outputs": [
    {
     "data": {
      "text/html": [
       "<ol class=list-inline>\n",
       "\t<li>0.94</li>\n",
       "\t<li>0.66</li>\n",
       "</ol>\n"
      ],
      "text/latex": [
       "\\begin{enumerate*}\n",
       "\\item 0.94\n",
       "\\item 0.66\n",
       "\\end{enumerate*}\n"
      ],
      "text/markdown": [
       "1. 0.94\n",
       "2. 0.66\n",
       "\n",
       "\n"
      ],
      "text/plain": [
       "[1] 0.94 0.66"
      ]
     },
     "metadata": {},
     "output_type": "display_data"
    }
   ],
   "source": [
    "c(npv(df1)[1], npv(df2)[1])"
   ]
  },
  {
   "cell_type": "markdown",
   "metadata": {},
   "source": [
    "## Likelihood ratios"
   ]
  },
  {
   "cell_type": "code",
   "execution_count": 45,
   "metadata": {},
   "outputs": [],
   "source": [
    "lr <- function(tbl) {\n",
    "    round(sens(tbl)[1]/(1 - spec(tbl)[1]), 2)\n",
    "}"
   ]
  },
  {
   "cell_type": "code",
   "execution_count": 46,
   "metadata": {},
   "outputs": [
    {
     "data": {
      "text/html": [
       "1.36"
      ],
      "text/latex": [
       "1.36"
      ],
      "text/markdown": [
       "1.36"
      ],
      "text/plain": [
       "[1] 1.36"
      ]
     },
     "metadata": {},
     "output_type": "display_data"
    }
   ],
   "source": [
    "lr(df1)"
   ]
  },
  {
   "cell_type": "markdown",
   "metadata": {},
   "source": [
    "## Receiver operating characteristic curve (ROC) "
   ]
  },
  {
   "cell_type": "code",
   "execution_count": 50,
   "metadata": {},
   "outputs": [
    {
     "data": {
      "text/html": [
       "<table>\n",
       "<thead><tr><th scope=col>threshold</th><th scope=col>died</th><th scope=col>survived</th></tr></thead>\n",
       "<tbody>\n",
       "\t<tr><td> 0.0</td><td>126 </td><td>1265</td></tr>\n",
       "\t<tr><td> 1.0</td><td>114 </td><td> 996</td></tr>\n",
       "\t<tr><td> 1.5</td><td> 81 </td><td> 591</td></tr>\n",
       "\t<tr><td> 2.0</td><td> 58 </td><td> 329</td></tr>\n",
       "\t<tr><td> 3.0</td><td> 37 </td><td> 131</td></tr>\n",
       "\t<tr><td> 5.0</td><td> 19 </td><td>  27</td></tr>\n",
       "\t<tr><td>25.0</td><td>  0 </td><td>   0</td></tr>\n",
       "</tbody>\n",
       "</table>\n"
      ],
      "text/latex": [
       "\\begin{tabular}{r|lll}\n",
       " threshold & died & survived\\\\\n",
       "\\hline\n",
       "\t  0.0 & 126  & 1265\\\\\n",
       "\t  1.0 & 114  &  996\\\\\n",
       "\t  1.5 &  81  &  591\\\\\n",
       "\t  2.0 &  58  &  329\\\\\n",
       "\t  3.0 &  37  &  131\\\\\n",
       "\t  5.0 &  19  &   27\\\\\n",
       "\t 25.0 &   0  &    0\\\\\n",
       "\\end{tabular}\n"
      ],
      "text/markdown": [
       "\n",
       "threshold | died | survived | \n",
       "|---|---|---|---|---|---|---|\n",
       "|  0.0 | 126  | 1265 | \n",
       "|  1.0 | 114  |  996 | \n",
       "|  1.5 |  81  |  591 | \n",
       "|  2.0 |  58  |  329 | \n",
       "|  3.0 |  37  |  131 | \n",
       "|  5.0 |  19  |   27 | \n",
       "| 25.0 |   0  |    0 | \n",
       "\n",
       "\n"
      ],
      "text/plain": [
       "  threshold died survived\n",
       "1  0.0      126  1265    \n",
       "2  1.0      114   996    \n",
       "3  1.5       81   591    \n",
       "4  2.0       58   329    \n",
       "5  3.0       37   131    \n",
       "6  5.0       19    27    \n",
       "7 25.0        0     0    "
      ]
     },
     "metadata": {},
     "output_type": "display_data"
    }
   ],
   "source": [
    "threshold <- c(0,1,1.5,2,3,5,25)\n",
    "died <- c(126,114,81,58,37,19,0)\n",
    "survived <- c(1265,996,591,329,131,27,0)\n",
    "\n",
    "df3 <- data.frame(threshold=threshold, died=died, survived=survived)\n",
    "df3"
   ]
  },
  {
   "cell_type": "code",
   "execution_count": 68,
   "metadata": {
    "collapsed": true
   },
   "outputs": [],
   "source": [
    "n.died <- 126\n",
    "n.survived <- 1265"
   ]
  },
  {
   "cell_type": "code",
   "execution_count": 80,
   "metadata": {},
   "outputs": [],
   "source": [
    "sens.1 <-function(died, ndied) {\n",
    "    a <- died\n",
    "    c <- ndied-died\n",
    "    a/(a + c)\n",
    "}"
   ]
  },
  {
   "cell_type": "code",
   "execution_count": 85,
   "metadata": {
    "collapsed": true
   },
   "outputs": [],
   "source": [
    "spec.1 <-function(survived, nsurvived) {\n",
    "    b <- survived\n",
    "    d <- nsurvived - survived\n",
    "    b/(b+d)\n",
    "}"
   ]
  },
  {
   "cell_type": "code",
   "execution_count": 110,
   "metadata": {},
   "outputs": [
    {
     "data": {
      "text/html": [
       "<table>\n",
       "<thead><tr><th scope=col>threshold</th><th scope=col>died</th><th scope=col>survived</th><th scope=col>sens</th><th scope=col>one.minus.spec</th></tr></thead>\n",
       "<tbody>\n",
       "\t<tr><td> 0.0      </td><td>126       </td><td>1265      </td><td>1.0000000 </td><td>1.00000000</td></tr>\n",
       "\t<tr><td> 1.0      </td><td>114       </td><td> 996      </td><td>0.9047619 </td><td>0.78735178</td></tr>\n",
       "\t<tr><td> 1.5      </td><td> 81       </td><td> 591      </td><td>0.6428571 </td><td>0.46719368</td></tr>\n",
       "\t<tr><td> 2.0      </td><td> 58       </td><td> 329      </td><td>0.4603175 </td><td>0.26007905</td></tr>\n",
       "\t<tr><td> 3.0      </td><td> 37       </td><td> 131      </td><td>0.2936508 </td><td>0.10355731</td></tr>\n",
       "\t<tr><td> 5.0      </td><td> 19       </td><td>  27      </td><td>0.1507937 </td><td>0.02134387</td></tr>\n",
       "\t<tr><td>25.0      </td><td>  0       </td><td>   0      </td><td>0.0000000 </td><td>0.00000000</td></tr>\n",
       "</tbody>\n",
       "</table>\n"
      ],
      "text/latex": [
       "\\begin{tabular}{r|lllll}\n",
       " threshold & died & survived & sens & one.minus.spec\\\\\n",
       "\\hline\n",
       "\t  0.0       & 126        & 1265       & 1.0000000  & 1.00000000\\\\\n",
       "\t  1.0       & 114        &  996       & 0.9047619  & 0.78735178\\\\\n",
       "\t  1.5       &  81        &  591       & 0.6428571  & 0.46719368\\\\\n",
       "\t  2.0       &  58        &  329       & 0.4603175  & 0.26007905\\\\\n",
       "\t  3.0       &  37        &  131       & 0.2936508  & 0.10355731\\\\\n",
       "\t  5.0       &  19        &   27       & 0.1507937  & 0.02134387\\\\\n",
       "\t 25.0       &   0        &    0       & 0.0000000  & 0.00000000\\\\\n",
       "\\end{tabular}\n"
      ],
      "text/markdown": [
       "\n",
       "threshold | died | survived | sens | one.minus.spec | \n",
       "|---|---|---|---|---|---|---|\n",
       "|  0.0       | 126        | 1265       | 1.0000000  | 1.00000000 | \n",
       "|  1.0       | 114        |  996       | 0.9047619  | 0.78735178 | \n",
       "|  1.5       |  81        |  591       | 0.6428571  | 0.46719368 | \n",
       "|  2.0       |  58        |  329       | 0.4603175  | 0.26007905 | \n",
       "|  3.0       |  37        |  131       | 0.2936508  | 0.10355731 | \n",
       "|  5.0       |  19        |   27       | 0.1507937  | 0.02134387 | \n",
       "| 25.0       |   0        |    0       | 0.0000000  | 0.00000000 | \n",
       "\n",
       "\n"
      ],
      "text/plain": [
       "  threshold died survived sens      one.minus.spec\n",
       "1  0.0      126  1265     1.0000000 1.00000000    \n",
       "2  1.0      114   996     0.9047619 0.78735178    \n",
       "3  1.5       81   591     0.6428571 0.46719368    \n",
       "4  2.0       58   329     0.4603175 0.26007905    \n",
       "5  3.0       37   131     0.2936508 0.10355731    \n",
       "6  5.0       19    27     0.1507937 0.02134387    \n",
       "7 25.0        0     0     0.0000000 0.00000000    "
      ]
     },
     "metadata": {},
     "output_type": "display_data"
    }
   ],
   "source": [
    "df4 <- df3 %>% mutate(sens=sens.1(died, n.died), one.minus.spec=spec.1(survived, n.survived)) \n",
    "df4"
   ]
  },
  {
   "cell_type": "code",
   "execution_count": 111,
   "metadata": {},
   "outputs": [
    {
     "data": {},
     "metadata": {},
     "output_type": "display_data"
    },
    {
     "data": {
      "image/png": "[encoded data removed]",
      "text/plain": [
       "plot without title"
      ]
     },
     "metadata": {},
     "output_type": "display_data"
    }
   ],
   "source": [
    "ggplot(df4, aes(x=one.minus.spec, y=sens)) + geom_point() + geom_line() +\n",
    "geom_abline(intercept = 0, slope = 1, color='grey', linetype='dashed') +\n",
    "coord_fixed()"
   ]
  },
  {
   "cell_type": "markdown",
   "metadata": {},
   "source": [
    "### Area under the curve (AUCROC)"
   ]
  },
  {
   "cell_type": "code",
   "execution_count": 118,
   "metadata": {},
   "outputs": [],
   "source": [
    "suppressPackageStartupMessages(require(pracma))"
   ]
  },
  {
   "cell_type": "code",
   "execution_count": 119,
   "metadata": {},
   "outputs": [
    {
     "data": {
      "text/html": [
       "0.64"
      ],
      "text/latex": [
       "0.64"
      ],
      "text/markdown": [
       "0.64"
      ],
      "text/plain": [
       "[1] 0.64"
      ]
     },
     "metadata": {},
     "output_type": "display_data"
    }
   ],
   "source": [
    "round(-1 * trapz(x=df4$one.minus.spec, y=df4$sens), 2)"
   ]
  }
 ],
 "metadata": {
  "kernelspec": {
   "display_name": "R",
   "language": "R",
   "name": "ir"
  },
  "language_info": {
   "codemirror_mode": "r",
   "file_extension": ".r",
   "mimetype": "text/x-r-source",
   "name": "R",
   "pygments_lexer": "r",
   "version": "3.4.0"
  }
 },
 "nbformat": 4,
 "nbformat_minor": 2
}
