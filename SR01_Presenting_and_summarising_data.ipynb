{
 "cells": [
  {
   "cell_type": "markdown",
   "metadata": {},
   "source": [
    "# Statistics review 1: Presenting and summarising data\n",
    "\n",
    "R code to accompany [paper](https://www.ncbi.nlm.nih.gov/pmc/articles/PMC137399/pdf/cc1455.pdf)\n",
    "\n",
    "## Key learning points\n",
    "\n",
    "- The first step in any analysis is to describe and summarize the data\n",
    "- Understand the following\n",
    "    - qualitative data (unordered and ordered) and quantitative data (discrete and continuous)\n",
    "    - how these types of data can be represented figuratively\n",
    "    - the two important features of a quantitative dataset (location and variability)\n",
    "    - the measures of location (mean, median and mode)\n",
    "    - the measures of variability (range, interquartile range, standard deviation and variance) \n",
    "    - common distributions of clinical data\n",
    "    - simple transformations of positively skewed data."
   ]
  },
  {
   "cell_type": "code",
   "execution_count": 1,
   "metadata": {
    "collapsed": true
   },
   "outputs": [],
   "source": [
    "suppressPackageStartupMessages(library(tidyverse))"
   ]
  },
  {
   "cell_type": "markdown",
   "metadata": {},
   "source": [
    "#### Set default plot size to 4\" by 3\""
   ]
  },
  {
   "cell_type": "code",
   "execution_count": 2,
   "metadata": {
    "collapsed": true
   },
   "outputs": [],
   "source": [
    "options(repr.plot.width=4, repr.plot.height=3)"
   ]
  },
  {
   "cell_type": "markdown",
   "metadata": {},
   "source": [
    "## Summary Statistics"
   ]
  },
  {
   "cell_type": "markdown",
   "metadata": {},
   "source": [
    "### Read in data set from file"
   ]
  },
  {
   "cell_type": "code",
   "execution_count": 3,
   "metadata": {
    "collapsed": true
   },
   "outputs": [],
   "source": [
    "df1 <- read.csv('data/haemoglobin.csv', header=FALSE, col.names=c(\"hb\"))"
   ]
  },
  {
   "cell_type": "markdown",
   "metadata": {},
   "source": [
    "#### Working with data frames"
   ]
  },
  {
   "cell_type": "code",
   "execution_count": 4,
   "metadata": {},
   "outputs": [
    {
     "data": {
      "text/html": [
       "'data.frame'"
      ],
      "text/latex": [
       "'data.frame'"
      ],
      "text/markdown": [
       "'data.frame'"
      ],
      "text/plain": [
       "[1] \"data.frame\""
      ]
     },
     "metadata": {},
     "output_type": "display_data"
    }
   ],
   "source": [
    "class(df1)"
   ]
  },
  {
   "cell_type": "code",
   "execution_count": 5,
   "metadata": {},
   "outputs": [
    {
     "data": {
      "text/html": [
       "<table>\n",
       "<thead><tr><th scope=col>hb</th></tr></thead>\n",
       "<tbody>\n",
       "\t<tr><td>5.4</td></tr>\n",
       "\t<tr><td>8.2</td></tr>\n",
       "\t<tr><td>6.4</td></tr>\n",
       "\t<tr><td>8.3</td></tr>\n",
       "\t<tr><td>6.4</td></tr>\n",
       "\t<tr><td>8.3</td></tr>\n",
       "</tbody>\n",
       "</table>\n"
      ],
      "text/latex": [
       "\\begin{tabular}{r|l}\n",
       " hb\\\\\n",
       "\\hline\n",
       "\t 5.4\\\\\n",
       "\t 8.2\\\\\n",
       "\t 6.4\\\\\n",
       "\t 8.3\\\\\n",
       "\t 6.4\\\\\n",
       "\t 8.3\\\\\n",
       "\\end{tabular}\n"
      ],
      "text/markdown": [
       "\n",
       "hb | \n",
       "|---|---|---|---|---|---|\n",
       "| 5.4 | \n",
       "| 8.2 | \n",
       "| 6.4 | \n",
       "| 8.3 | \n",
       "| 6.4 | \n",
       "| 8.3 | \n",
       "\n",
       "\n"
      ],
      "text/plain": [
       "  hb \n",
       "1 5.4\n",
       "2 8.2\n",
       "3 6.4\n",
       "4 8.3\n",
       "5 6.4\n",
       "6 8.3"
      ]
     },
     "metadata": {},
     "output_type": "display_data"
    }
   ],
   "source": [
    "head(df1)"
   ]
  },
  {
   "cell_type": "code",
   "execution_count": 6,
   "metadata": {},
   "outputs": [
    {
     "name": "stdout",
     "output_type": "stream",
     "text": [
      "'data.frame':\t48 obs. of  1 variable:\n",
      " $ hb: num  5.4 8.2 6.4 8.3 6.4 8.3 7 8.6 7.1 8.8 ...\n"
     ]
    }
   ],
   "source": [
    "str(df1)"
   ]
  },
  {
   "cell_type": "code",
   "execution_count": 7,
   "metadata": {},
   "outputs": [
    {
     "data": {
      "text/html": [
       "<ol class=list-inline>\n",
       "\t<li>48</li>\n",
       "\t<li>1</li>\n",
       "</ol>\n"
      ],
      "text/latex": [
       "\\begin{enumerate*}\n",
       "\\item 48\n",
       "\\item 1\n",
       "\\end{enumerate*}\n"
      ],
      "text/markdown": [
       "1. 48\n",
       "2. 1\n",
       "\n",
       "\n"
      ],
      "text/plain": [
       "[1] 48  1"
      ]
     },
     "metadata": {},
     "output_type": "display_data"
    }
   ],
   "source": [
    "dim(df1)"
   ]
  },
  {
   "cell_type": "code",
   "execution_count": 8,
   "metadata": {},
   "outputs": [
    {
     "data": {
      "text/plain": [
       "       hb        \n",
       " Min.   : 5.400  \n",
       " 1st Qu.: 8.750  \n",
       " Median : 9.800  \n",
       " Mean   : 9.869  \n",
       " 3rd Qu.:10.800  \n",
       " Max.   :14.100  "
      ]
     },
     "metadata": {},
     "output_type": "display_data"
    }
   ],
   "source": [
    "summary(df1)"
   ]
  },
  {
   "cell_type": "markdown",
   "metadata": {},
   "source": [
    "#### Dataframe indexing"
   ]
  },
  {
   "cell_type": "code",
   "execution_count": 9,
   "metadata": {},
   "outputs": [
    {
     "data": {
      "text/html": [
       "<ol class=list-inline>\n",
       "\t<li>5.4</li>\n",
       "\t<li>8.2</li>\n",
       "\t<li>6.4</li>\n",
       "\t<li>8.3</li>\n",
       "\t<li>6.4</li>\n",
       "\t<li>8.3</li>\n",
       "\t<li>7</li>\n",
       "\t<li>8.6</li>\n",
       "\t<li>7.1</li>\n",
       "\t<li>8.8</li>\n",
       "\t<li>7.3</li>\n",
       "\t<li>8.9</li>\n",
       "\t<li>7.7</li>\n",
       "\t<li>9.1</li>\n",
       "\t<li>8.1</li>\n",
       "\t<li>9.3</li>\n",
       "\t<li>9.3</li>\n",
       "\t<li>9.9</li>\n",
       "\t<li>9.4</li>\n",
       "\t<li>9.9</li>\n",
       "\t<li>9.4</li>\n",
       "\t<li>9.9</li>\n",
       "\t<li>9.4</li>\n",
       "\t<li>10.1</li>\n",
       "\t<li>9.4</li>\n",
       "\t<li>10.3</li>\n",
       "\t<li>9.5</li>\n",
       "\t<li>10.3</li>\n",
       "\t<li>9.7</li>\n",
       "\t<li>10.4</li>\n",
       "\t<li>9.7</li>\n",
       "\t<li>10.4</li>\n",
       "\t<li>10.5</li>\n",
       "\t<li>11.9</li>\n",
       "\t<li>10.5</li>\n",
       "\t<li>12.3</li>\n",
       "\t<li>10.6</li>\n",
       "\t<li>12.6</li>\n",
       "\t<li>10.8</li>\n",
       "\t<li>12.7</li>\n",
       "\t<li>10.8</li>\n",
       "\t<li>13</li>\n",
       "\t<li>11.3</li>\n",
       "\t<li>13.3</li>\n",
       "\t<li>11.7</li>\n",
       "\t<li>14</li>\n",
       "\t<li>11.7</li>\n",
       "\t<li>14.1</li>\n",
       "</ol>\n"
      ],
      "text/latex": [
       "\\begin{enumerate*}\n",
       "\\item 5.4\n",
       "\\item 8.2\n",
       "\\item 6.4\n",
       "\\item 8.3\n",
       "\\item 6.4\n",
       "\\item 8.3\n",
       "\\item 7\n",
       "\\item 8.6\n",
       "\\item 7.1\n",
       "\\item 8.8\n",
       "\\item 7.3\n",
       "\\item 8.9\n",
       "\\item 7.7\n",
       "\\item 9.1\n",
       "\\item 8.1\n",
       "\\item 9.3\n",
       "\\item 9.3\n",
       "\\item 9.9\n",
       "\\item 9.4\n",
       "\\item 9.9\n",
       "\\item 9.4\n",
       "\\item 9.9\n",
       "\\item 9.4\n",
       "\\item 10.1\n",
       "\\item 9.4\n",
       "\\item 10.3\n",
       "\\item 9.5\n",
       "\\item 10.3\n",
       "\\item 9.7\n",
       "\\item 10.4\n",
       "\\item 9.7\n",
       "\\item 10.4\n",
       "\\item 10.5\n",
       "\\item 11.9\n",
       "\\item 10.5\n",
       "\\item 12.3\n",
       "\\item 10.6\n",
       "\\item 12.6\n",
       "\\item 10.8\n",
       "\\item 12.7\n",
       "\\item 10.8\n",
       "\\item 13\n",
       "\\item 11.3\n",
       "\\item 13.3\n",
       "\\item 11.7\n",
       "\\item 14\n",
       "\\item 11.7\n",
       "\\item 14.1\n",
       "\\end{enumerate*}\n"
      ],
      "text/markdown": [
       "1. 5.4\n",
       "2. 8.2\n",
       "3. 6.4\n",
       "4. 8.3\n",
       "5. 6.4\n",
       "6. 8.3\n",
       "7. 7\n",
       "8. 8.6\n",
       "9. 7.1\n",
       "10. 8.8\n",
       "11. 7.3\n",
       "12. 8.9\n",
       "13. 7.7\n",
       "14. 9.1\n",
       "15. 8.1\n",
       "16. 9.3\n",
       "17. 9.3\n",
       "18. 9.9\n",
       "19. 9.4\n",
       "20. 9.9\n",
       "21. 9.4\n",
       "22. 9.9\n",
       "23. 9.4\n",
       "24. 10.1\n",
       "25. 9.4\n",
       "26. 10.3\n",
       "27. 9.5\n",
       "28. 10.3\n",
       "29. 9.7\n",
       "30. 10.4\n",
       "31. 9.7\n",
       "32. 10.4\n",
       "33. 10.5\n",
       "34. 11.9\n",
       "35. 10.5\n",
       "36. 12.3\n",
       "37. 10.6\n",
       "38. 12.6\n",
       "39. 10.8\n",
       "40. 12.7\n",
       "41. 10.8\n",
       "42. 13\n",
       "43. 11.3\n",
       "44. 13.3\n",
       "45. 11.7\n",
       "46. 14\n",
       "47. 11.7\n",
       "48. 14.1\n",
       "\n",
       "\n"
      ],
      "text/plain": [
       " [1]  5.4  8.2  6.4  8.3  6.4  8.3  7.0  8.6  7.1  8.8  7.3  8.9  7.7  9.1  8.1\n",
       "[16]  9.3  9.3  9.9  9.4  9.9  9.4  9.9  9.4 10.1  9.4 10.3  9.5 10.3  9.7 10.4\n",
       "[31]  9.7 10.4 10.5 11.9 10.5 12.3 10.6 12.6 10.8 12.7 10.8 13.0 11.3 13.3 11.7\n",
       "[46] 14.0 11.7 14.1"
      ]
     },
     "metadata": {},
     "output_type": "display_data"
    }
   ],
   "source": [
    "df1$hb"
   ]
  },
  {
   "cell_type": "code",
   "execution_count": 10,
   "metadata": {},
   "outputs": [
    {
     "data": {
      "text/html": [
       "<ol class=list-inline>\n",
       "\t<li>5.4</li>\n",
       "\t<li>8.2</li>\n",
       "\t<li>6.4</li>\n",
       "\t<li>8.3</li>\n",
       "\t<li>6.4</li>\n",
       "\t<li>8.3</li>\n",
       "\t<li>7</li>\n",
       "\t<li>8.6</li>\n",
       "\t<li>7.1</li>\n",
       "\t<li>8.8</li>\n",
       "\t<li>7.3</li>\n",
       "\t<li>8.9</li>\n",
       "\t<li>7.7</li>\n",
       "\t<li>9.1</li>\n",
       "\t<li>8.1</li>\n",
       "\t<li>9.3</li>\n",
       "\t<li>9.3</li>\n",
       "\t<li>9.9</li>\n",
       "\t<li>9.4</li>\n",
       "\t<li>9.9</li>\n",
       "\t<li>9.4</li>\n",
       "\t<li>9.9</li>\n",
       "\t<li>9.4</li>\n",
       "\t<li>10.1</li>\n",
       "\t<li>9.4</li>\n",
       "\t<li>10.3</li>\n",
       "\t<li>9.5</li>\n",
       "\t<li>10.3</li>\n",
       "\t<li>9.7</li>\n",
       "\t<li>10.4</li>\n",
       "\t<li>9.7</li>\n",
       "\t<li>10.4</li>\n",
       "\t<li>10.5</li>\n",
       "\t<li>11.9</li>\n",
       "\t<li>10.5</li>\n",
       "\t<li>12.3</li>\n",
       "\t<li>10.6</li>\n",
       "\t<li>12.6</li>\n",
       "\t<li>10.8</li>\n",
       "\t<li>12.7</li>\n",
       "\t<li>10.8</li>\n",
       "\t<li>13</li>\n",
       "\t<li>11.3</li>\n",
       "\t<li>13.3</li>\n",
       "\t<li>11.7</li>\n",
       "\t<li>14</li>\n",
       "\t<li>11.7</li>\n",
       "\t<li>14.1</li>\n",
       "</ol>\n"
      ],
      "text/latex": [
       "\\begin{enumerate*}\n",
       "\\item 5.4\n",
       "\\item 8.2\n",
       "\\item 6.4\n",
       "\\item 8.3\n",
       "\\item 6.4\n",
       "\\item 8.3\n",
       "\\item 7\n",
       "\\item 8.6\n",
       "\\item 7.1\n",
       "\\item 8.8\n",
       "\\item 7.3\n",
       "\\item 8.9\n",
       "\\item 7.7\n",
       "\\item 9.1\n",
       "\\item 8.1\n",
       "\\item 9.3\n",
       "\\item 9.3\n",
       "\\item 9.9\n",
       "\\item 9.4\n",
       "\\item 9.9\n",
       "\\item 9.4\n",
       "\\item 9.9\n",
       "\\item 9.4\n",
       "\\item 10.1\n",
       "\\item 9.4\n",
       "\\item 10.3\n",
       "\\item 9.5\n",
       "\\item 10.3\n",
       "\\item 9.7\n",
       "\\item 10.4\n",
       "\\item 9.7\n",
       "\\item 10.4\n",
       "\\item 10.5\n",
       "\\item 11.9\n",
       "\\item 10.5\n",
       "\\item 12.3\n",
       "\\item 10.6\n",
       "\\item 12.6\n",
       "\\item 10.8\n",
       "\\item 12.7\n",
       "\\item 10.8\n",
       "\\item 13\n",
       "\\item 11.3\n",
       "\\item 13.3\n",
       "\\item 11.7\n",
       "\\item 14\n",
       "\\item 11.7\n",
       "\\item 14.1\n",
       "\\end{enumerate*}\n"
      ],
      "text/markdown": [
       "1. 5.4\n",
       "2. 8.2\n",
       "3. 6.4\n",
       "4. 8.3\n",
       "5. 6.4\n",
       "6. 8.3\n",
       "7. 7\n",
       "8. 8.6\n",
       "9. 7.1\n",
       "10. 8.8\n",
       "11. 7.3\n",
       "12. 8.9\n",
       "13. 7.7\n",
       "14. 9.1\n",
       "15. 8.1\n",
       "16. 9.3\n",
       "17. 9.3\n",
       "18. 9.9\n",
       "19. 9.4\n",
       "20. 9.9\n",
       "21. 9.4\n",
       "22. 9.9\n",
       "23. 9.4\n",
       "24. 10.1\n",
       "25. 9.4\n",
       "26. 10.3\n",
       "27. 9.5\n",
       "28. 10.3\n",
       "29. 9.7\n",
       "30. 10.4\n",
       "31. 9.7\n",
       "32. 10.4\n",
       "33. 10.5\n",
       "34. 11.9\n",
       "35. 10.5\n",
       "36. 12.3\n",
       "37. 10.6\n",
       "38. 12.6\n",
       "39. 10.8\n",
       "40. 12.7\n",
       "41. 10.8\n",
       "42. 13\n",
       "43. 11.3\n",
       "44. 13.3\n",
       "45. 11.7\n",
       "46. 14\n",
       "47. 11.7\n",
       "48. 14.1\n",
       "\n",
       "\n"
      ],
      "text/plain": [
       " [1]  5.4  8.2  6.4  8.3  6.4  8.3  7.0  8.6  7.1  8.8  7.3  8.9  7.7  9.1  8.1\n",
       "[16]  9.3  9.3  9.9  9.4  9.9  9.4  9.9  9.4 10.1  9.4 10.3  9.5 10.3  9.7 10.4\n",
       "[31]  9.7 10.4 10.5 11.9 10.5 12.3 10.6 12.6 10.8 12.7 10.8 13.0 11.3 13.3 11.7\n",
       "[46] 14.0 11.7 14.1"
      ]
     },
     "metadata": {},
     "output_type": "display_data"
    }
   ],
   "source": [
    "df1[,1]"
   ]
  },
  {
   "cell_type": "code",
   "execution_count": 11,
   "metadata": {},
   "outputs": [
    {
     "data": {
      "text/html": [
       "5.4"
      ],
      "text/latex": [
       "5.4"
      ],
      "text/markdown": [
       "5.4"
      ],
      "text/plain": [
       "[1] 5.4"
      ]
     },
     "metadata": {},
     "output_type": "display_data"
    }
   ],
   "source": [
    "df1[1,]"
   ]
  },
  {
   "cell_type": "code",
   "execution_count": 12,
   "metadata": {},
   "outputs": [
    {
     "data": {
      "text/html": [
       "<ol class=list-inline>\n",
       "\t<li>6.4</li>\n",
       "\t<li>8.3</li>\n",
       "\t<li>7</li>\n",
       "\t<li>8.6</li>\n",
       "\t<li>7.1</li>\n",
       "\t<li>8.8</li>\n",
       "</ol>\n"
      ],
      "text/latex": [
       "\\begin{enumerate*}\n",
       "\\item 6.4\n",
       "\\item 8.3\n",
       "\\item 7\n",
       "\\item 8.6\n",
       "\\item 7.1\n",
       "\\item 8.8\n",
       "\\end{enumerate*}\n"
      ],
      "text/markdown": [
       "1. 6.4\n",
       "2. 8.3\n",
       "3. 7\n",
       "4. 8.6\n",
       "5. 7.1\n",
       "6. 8.8\n",
       "\n",
       "\n"
      ],
      "text/plain": [
       "[1] 6.4 8.3 7.0 8.6 7.1 8.8"
      ]
     },
     "metadata": {},
     "output_type": "display_data"
    }
   ],
   "source": [
    "df1[5:10,]"
   ]
  },
  {
   "cell_type": "markdown",
   "metadata": {},
   "source": [
    "### Measuring location"
   ]
  },
  {
   "cell_type": "markdown",
   "metadata": {},
   "source": [
    "#### Using a custom function"
   ]
  },
  {
   "cell_type": "code",
   "execution_count": 13,
   "metadata": {
    "collapsed": true
   },
   "outputs": [],
   "source": [
    "sr.mean <- function(x) {\n",
    "    sum(x)/length(x)\n",
    "}"
   ]
  },
  {
   "cell_type": "code",
   "execution_count": 14,
   "metadata": {},
   "outputs": [
    {
     "data": {
      "text/html": [
       "9.86875"
      ],
      "text/latex": [
       "9.86875"
      ],
      "text/markdown": [
       "9.86875"
      ],
      "text/plain": [
       "[1] 9.86875"
      ]
     },
     "metadata": {},
     "output_type": "display_data"
    }
   ],
   "source": [
    "sr.mean(df1$hb)"
   ]
  },
  {
   "cell_type": "markdown",
   "metadata": {},
   "source": [
    "#### Using built-in functions"
   ]
  },
  {
   "cell_type": "code",
   "execution_count": 15,
   "metadata": {},
   "outputs": [
    {
     "data": {
      "text/html": [
       "<table>\n",
       "<thead><tr><th scope=col>mean</th><th scope=col>median</th><th scope=col>mode</th></tr></thead>\n",
       "<tbody>\n",
       "\t<tr><td>9.86875</td><td>9.8    </td><td>numeric</td></tr>\n",
       "</tbody>\n",
       "</table>\n"
      ],
      "text/latex": [
       "\\begin{tabular}{r|lll}\n",
       " mean & median & mode\\\\\n",
       "\\hline\n",
       "\t 9.86875 & 9.8     & numeric\\\\\n",
       "\\end{tabular}\n"
      ],
      "text/markdown": [
       "\n",
       "mean | median | mode | \n",
       "|---|\n",
       "| 9.86875 | 9.8     | numeric | \n",
       "\n",
       "\n"
      ],
      "text/plain": [
       "  mean    median mode   \n",
       "1 9.86875 9.8    numeric"
      ]
     },
     "metadata": {},
     "output_type": "display_data"
    }
   ],
   "source": [
    "df1 %>% summarize(mean=mean(hb), median=median(hb), mode=mode(hb))"
   ]
  },
  {
   "cell_type": "markdown",
   "metadata": {},
   "source": [
    "#### Visualizing the data distribution"
   ]
  },
  {
   "cell_type": "code",
   "execution_count": 16,
   "metadata": {},
   "outputs": [
    {
     "data": {},
     "metadata": {},
     "output_type": "display_data"
    },
    {
     "data": {
      "image/png": "[encoded data removed]",
      "text/plain": [
       "plot without title"
      ]
     },
     "metadata": {},
     "output_type": "display_data"
    }
   ],
   "source": [
    "ggplot(df1, aes(x=hb)) +\n",
    "geom_histogram(binwidth=0.5, fill=\"grey\", color=\"darkgrey\")"
   ]
  },
  {
   "cell_type": "markdown",
   "metadata": {},
   "source": [
    "### Measuring variability"
   ]
  },
  {
   "cell_type": "code",
   "execution_count": 17,
   "metadata": {},
   "outputs": [
    {
     "data": {
      "text/html": [
       "<ol class=list-inline>\n",
       "\t<li>5.4</li>\n",
       "\t<li>14.1</li>\n",
       "</ol>\n"
      ],
      "text/latex": [
       "\\begin{enumerate*}\n",
       "\\item 5.4\n",
       "\\item 14.1\n",
       "\\end{enumerate*}\n"
      ],
      "text/markdown": [
       "1. 5.4\n",
       "2. 14.1\n",
       "\n",
       "\n"
      ],
      "text/plain": [
       "[1]  5.4 14.1"
      ]
     },
     "metadata": {},
     "output_type": "display_data"
    }
   ],
   "source": [
    "range(df1$hb)"
   ]
  },
  {
   "cell_type": "code",
   "execution_count": 18,
   "metadata": {},
   "outputs": [
    {
     "data": {
      "text/html": [
       "<dl class=dl-horizontal>\n",
       "\t<dt>25%</dt>\n",
       "\t\t<dd>8.75</dd>\n",
       "\t<dt>75%</dt>\n",
       "\t\t<dd>10.8</dd>\n",
       "</dl>\n"
      ],
      "text/latex": [
       "\\begin{description*}\n",
       "\\item[25\\textbackslash{}\\%] 8.75\n",
       "\\item[75\\textbackslash{}\\%] 10.8\n",
       "\\end{description*}\n"
      ],
      "text/markdown": [
       "25%\n",
       ":   8.7575%\n",
       ":   10.8\n",
       "\n"
      ],
      "text/plain": [
       "  25%   75% \n",
       " 8.75 10.80 "
      ]
     },
     "metadata": {},
     "output_type": "display_data"
    }
   ],
   "source": [
    "quantile(df1$hb, c(0.25, 0.75))"
   ]
  },
  {
   "cell_type": "code",
   "execution_count": 19,
   "metadata": {},
   "outputs": [
    {
     "data": {
      "text/html": [
       "1.97291837512189"
      ],
      "text/latex": [
       "1.97291837512189"
      ],
      "text/markdown": [
       "1.97291837512189"
      ],
      "text/plain": [
       "[1] 1.972918"
      ]
     },
     "metadata": {},
     "output_type": "display_data"
    }
   ],
   "source": [
    "sd(df1$hb)"
   ]
  },
  {
   "cell_type": "code",
   "execution_count": 20,
   "metadata": {},
   "outputs": [
    {
     "data": {
      "text/html": [
       "3.89240691489362"
      ],
      "text/latex": [
       "3.89240691489362"
      ],
      "text/markdown": [
       "3.89240691489362"
      ],
      "text/plain": [
       "[1] 3.892407"
      ]
     },
     "metadata": {},
     "output_type": "display_data"
    }
   ],
   "source": [
    "var(df1$hb)"
   ]
  },
  {
   "cell_type": "code",
   "execution_count": 21,
   "metadata": {},
   "outputs": [
    {
     "data": {
      "text/html": [
       "<table>\n",
       "<thead><tr><th scope=col>min</th><th scope=col>max</th><th scope=col>iqr</th><th scope=col>sd</th><th scope=col>var</th></tr></thead>\n",
       "<tbody>\n",
       "\t<tr><td>5.4     </td><td>14.1    </td><td>2.05    </td><td>1.972918</td><td>3.892407</td></tr>\n",
       "</tbody>\n",
       "</table>\n"
      ],
      "text/latex": [
       "\\begin{tabular}{r|lllll}\n",
       " min & max & iqr & sd & var\\\\\n",
       "\\hline\n",
       "\t 5.4      & 14.1     & 2.05     & 1.972918 & 3.892407\\\\\n",
       "\\end{tabular}\n"
      ],
      "text/markdown": [
       "\n",
       "min | max | iqr | sd | var | \n",
       "|---|\n",
       "| 5.4      | 14.1     | 2.05     | 1.972918 | 3.892407 | \n",
       "\n",
       "\n"
      ],
      "text/plain": [
       "  min max  iqr  sd       var     \n",
       "1 5.4 14.1 2.05 1.972918 3.892407"
      ]
     },
     "metadata": {},
     "output_type": "display_data"
    }
   ],
   "source": [
    "df1 %>% summarize(min=min(hb), \n",
    "                 max=max(hb), \n",
    "                 iqr=quantile(hb, 0.75)- quantile(hb, 0.25), \n",
    "                 sd=sd(hb),\n",
    "                 var=var(hb))"
   ]
  },
  {
   "cell_type": "markdown",
   "metadata": {},
   "source": [
    "### Using a convenience function"
   ]
  },
  {
   "cell_type": "code",
   "execution_count": 22,
   "metadata": {},
   "outputs": [
    {
     "data": {
      "text/plain": [
       "       hb        \n",
       " Min.   : 5.400  \n",
       " 1st Qu.: 8.750  \n",
       " Median : 9.800  \n",
       " Mean   : 9.869  \n",
       " 3rd Qu.:10.800  \n",
       " Max.   :14.100  "
      ]
     },
     "metadata": {},
     "output_type": "display_data"
    }
   ],
   "source": [
    "summary(df1)"
   ]
  },
  {
   "cell_type": "markdown",
   "metadata": {},
   "source": [
    "## Common distributions and simple transformations"
   ]
  },
  {
   "cell_type": "markdown",
   "metadata": {},
   "source": [
    "**Exercise**. Read in the `urea.csv` data file into a data frame `df2` and name the column `urea`."
   ]
  },
  {
   "cell_type": "code",
   "execution_count": 23,
   "metadata": {
    "collapsed": true
   },
   "outputs": [],
   "source": [
    "df2 <- read.csv(\"data/urea.csv\", header=FALSE, col.names=c(\"urea\"))"
   ]
  },
  {
   "cell_type": "code",
   "execution_count": 24,
   "metadata": {},
   "outputs": [
    {
     "data": {
      "text/html": [
       "<table>\n",
       "<thead><tr><th scope=col>urea</th></tr></thead>\n",
       "<tbody>\n",
       "\t<tr><td>16.007049</td></tr>\n",
       "\t<tr><td>13.647212</td></tr>\n",
       "\t<tr><td> 6.653046</td></tr>\n",
       "</tbody>\n",
       "</table>\n"
      ],
      "text/latex": [
       "\\begin{tabular}{r|l}\n",
       " urea\\\\\n",
       "\\hline\n",
       "\t 16.007049\\\\\n",
       "\t 13.647212\\\\\n",
       "\t  6.653046\\\\\n",
       "\\end{tabular}\n"
      ],
      "text/markdown": [
       "\n",
       "urea | \n",
       "|---|---|---|\n",
       "| 16.007049 | \n",
       "| 13.647212 | \n",
       "|  6.653046 | \n",
       "\n",
       "\n"
      ],
      "text/plain": [
       "  urea     \n",
       "1 16.007049\n",
       "2 13.647212\n",
       "3  6.653046"
      ]
     },
     "metadata": {},
     "output_type": "display_data"
    }
   ],
   "source": [
    "head(df2, n=3)"
   ]
  },
  {
   "cell_type": "code",
   "execution_count": 25,
   "metadata": {},
   "outputs": [
    {
     "data": {},
     "metadata": {},
     "output_type": "display_data"
    },
    {
     "data": {
      "image/png": "[encoded data removed]",
      "text/plain": [
       "plot without title"
      ]
     },
     "metadata": {},
     "output_type": "display_data"
    }
   ],
   "source": [
    "g <- ggplot(df2, aes(x=urea)) \n",
    "g <- g + geom_histogram(binwidth=1, fill=\"grey\", color=\"darkgrey\")\n",
    "g"
   ]
  },
  {
   "cell_type": "markdown",
   "metadata": {},
   "source": [
    "#### Skewness\n",
    "\n",
    "We say the data has a positive or right skew. This name comes from the fact that there is a statistical measure called skewness that is positive for long right tails, and negative for long left tails."
   ]
  },
  {
   "cell_type": "code",
   "execution_count": 26,
   "metadata": {},
   "outputs": [
    {
     "name": "stdout",
     "output_type": "stream",
     "text": [
      "\n",
      "The downloaded binary packages are in\n",
      "\t/var/folders/3l/tbmzdkss71152d8t9n1f8nx40000gn/T//RtmpdeIh9P/downloaded_packages\n"
     ]
    }
   ],
   "source": [
    "install.packages(\"e1071\", repos = \"http://cran.r-project.org\")\n",
    "library(e1071)"
   ]
  },
  {
   "cell_type": "code",
   "execution_count": 27,
   "metadata": {},
   "outputs": [
    {
     "data": {
      "text/html": [
       "1.80179083039024"
      ],
      "text/latex": [
       "1.80179083039024"
      ],
      "text/markdown": [
       "1.80179083039024"
      ],
      "text/plain": [
       "[1] 1.801791"
      ]
     },
     "metadata": {},
     "output_type": "display_data"
    }
   ],
   "source": [
    "skewness(df2$urea)"
   ]
  },
  {
   "cell_type": "markdown",
   "metadata": {},
   "source": [
    "#### Log transform of the data"
   ]
  },
  {
   "cell_type": "code",
   "execution_count": 28,
   "metadata": {
    "collapsed": true
   },
   "outputs": [],
   "source": [
    "df2['trans'] = log(df2['urea'])"
   ]
  },
  {
   "cell_type": "code",
   "execution_count": 29,
   "metadata": {},
   "outputs": [
    {
     "data": {},
     "metadata": {},
     "output_type": "display_data"
    },
    {
     "data": {
      "image/png": "[encoded data removed]",
      "text/plain": [
       "plot without title"
      ]
     },
     "metadata": {},
     "output_type": "display_data"
    }
   ],
   "source": [
    "g <- ggplot(df2, aes(x=trans)) \n",
    "g <- g + geom_histogram(binwidth=0.3, fill=\"grey\", color=\"darkgrey\")\n",
    "g"
   ]
  },
  {
   "cell_type": "code",
   "execution_count": 30,
   "metadata": {},
   "outputs": [
    {
     "data": {
      "text/html": [
       "<table>\n",
       "<thead><tr><th scope=col>urea</th><th scope=col>trans</th></tr></thead>\n",
       "<tbody>\n",
       "\t<tr><td>16.007049</td><td>2.773029 </td></tr>\n",
       "\t<tr><td>13.647212</td><td>2.613535 </td></tr>\n",
       "\t<tr><td> 6.653046</td><td>1.895075 </td></tr>\n",
       "\t<tr><td> 5.107674</td><td>1.630744 </td></tr>\n",
       "\t<tr><td>19.325193</td><td>2.961410 </td></tr>\n",
       "\t<tr><td>10.141074</td><td>2.316594 </td></tr>\n",
       "</tbody>\n",
       "</table>\n"
      ],
      "text/latex": [
       "\\begin{tabular}{r|ll}\n",
       " urea & trans\\\\\n",
       "\\hline\n",
       "\t 16.007049 & 2.773029 \\\\\n",
       "\t 13.647212 & 2.613535 \\\\\n",
       "\t  6.653046 & 1.895075 \\\\\n",
       "\t  5.107674 & 1.630744 \\\\\n",
       "\t 19.325193 & 2.961410 \\\\\n",
       "\t 10.141074 & 2.316594 \\\\\n",
       "\\end{tabular}\n"
      ],
      "text/markdown": [
       "\n",
       "urea | trans | \n",
       "|---|---|---|---|---|---|\n",
       "| 16.007049 | 2.773029  | \n",
       "| 13.647212 | 2.613535  | \n",
       "|  6.653046 | 1.895075  | \n",
       "|  5.107674 | 1.630744  | \n",
       "| 19.325193 | 2.961410  | \n",
       "| 10.141074 | 2.316594  | \n",
       "\n",
       "\n"
      ],
      "text/plain": [
       "  urea      trans   \n",
       "1 16.007049 2.773029\n",
       "2 13.647212 2.613535\n",
       "3  6.653046 1.895075\n",
       "4  5.107674 1.630744\n",
       "5 19.325193 2.961410\n",
       "6 10.141074 2.316594"
      ]
     },
     "metadata": {},
     "output_type": "display_data"
    }
   ],
   "source": [
    "head(df2)"
   ]
  },
  {
   "cell_type": "markdown",
   "metadata": {},
   "source": [
    "#### Finding geometric mean"
   ]
  },
  {
   "cell_type": "code",
   "execution_count": 31,
   "metadata": {
    "collapsed": true
   },
   "outputs": [],
   "source": [
    "gm  <- function(x) {\n",
    "    return(exp(mean(log(x))))\n",
    "}"
   ]
  },
  {
   "cell_type": "code",
   "execution_count": 32,
   "metadata": {},
   "outputs": [
    {
     "data": {
      "text/html": [
       "<table>\n",
       "<thead><tr><th scope=col>mean</th><th scope=col>geom.mean</th></tr></thead>\n",
       "<tbody>\n",
       "\t<tr><td>10.97242</td><td>8.504802</td></tr>\n",
       "</tbody>\n",
       "</table>\n"
      ],
      "text/latex": [
       "\\begin{tabular}{r|ll}\n",
       " mean & geom.mean\\\\\n",
       "\\hline\n",
       "\t 10.97242 & 8.504802\\\\\n",
       "\\end{tabular}\n"
      ],
      "text/markdown": [
       "\n",
       "mean | geom.mean | \n",
       "|---|\n",
       "| 10.97242 | 8.504802 | \n",
       "\n",
       "\n"
      ],
      "text/plain": [
       "  mean     geom.mean\n",
       "1 10.97242 8.504802 "
      ]
     },
     "metadata": {},
     "output_type": "display_data"
    }
   ],
   "source": [
    "df2 %>% summarise(mean=mean(urea), geom.mean=gm(urea))"
   ]
  },
  {
   "cell_type": "markdown",
   "metadata": {},
   "source": [
    "###  Exercise"
   ]
  },
  {
   "cell_type": "markdown",
   "metadata": {},
   "source": [
    "**1** Load the file \"ph.csv\" into a data frame called `df`. Label the column `ph`."
   ]
  },
  {
   "cell_type": "code",
   "execution_count": null,
   "metadata": {
    "collapsed": true
   },
   "outputs": [],
   "source": []
  },
  {
   "cell_type": "markdown",
   "metadata": {},
   "source": [
    "**2**. Plot a histogram of the data. Calculate the skewness of the `ph` column."
   ]
  },
  {
   "cell_type": "code",
   "execution_count": null,
   "metadata": {
    "collapsed": true
   },
   "outputs": [],
   "source": []
  },
  {
   "cell_type": "markdown",
   "metadata": {},
   "source": [
    "**3** Left skewed data can sometimes be made more \"normal\" by an exponential transformation. That is, if the original data is $x$, the transformed data is $e^x$. Create another column named `trasn` with the transformed data."
   ]
  },
  {
   "cell_type": "code",
   "execution_count": null,
   "metadata": {
    "collapsed": true
   },
   "outputs": [],
   "source": []
  },
  {
   "cell_type": "markdown",
   "metadata": {},
   "source": [
    "**4**. Plot a histogram of the transformed data."
   ]
  },
  {
   "cell_type": "code",
   "execution_count": null,
   "metadata": {
    "collapsed": true
   },
   "outputs": [],
   "source": []
  },
  {
   "cell_type": "markdown",
   "metadata": {},
   "source": [
    "**5** Write your own function called `sr.sd` to calculate the standard deviation using the formula in Table 3."
   ]
  },
  {
   "cell_type": "code",
   "execution_count": null,
   "metadata": {
    "collapsed": true
   },
   "outputs": [],
   "source": []
  },
  {
   "cell_type": "markdown",
   "metadata": {},
   "source": [
    "**6**. Create a new table using the `summarise` function with the mean and standard deviation of both original and transformed data values. This data frame should have 1 row and 4 columns named `orig.mean`, `orig.sd`, `trans.mean`, `trans.sd`."
   ]
  },
  {
   "cell_type": "code",
   "execution_count": null,
   "metadata": {
    "collapsed": true
   },
   "outputs": [],
   "source": []
  }
 ],
 "metadata": {
  "kernelspec": {
   "display_name": "R",
   "language": "R",
   "name": "ir"
  },
  "language_info": {
   "codemirror_mode": "r",
   "file_extension": ".r",
   "mimetype": "text/x-r-source",
   "name": "R",
   "pygments_lexer": "r",
   "version": "3.4.0"
  }
 },
 "nbformat": 4,
 "nbformat_minor": 2
}
