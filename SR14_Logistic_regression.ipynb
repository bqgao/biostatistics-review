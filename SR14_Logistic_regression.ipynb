{
 "cells": [
  {
   "cell_type": "markdown",
   "metadata": {},
   "source": [
    "# Statistics review 14: Logistic regression\n",
    "\n",
    "R code accompanying [paper](https://www.ncbi.nlm.nih.gov/pmc/articles/PMC1065119/pdf/cc3045.pdf)\n",
    "\n",
    "## Key learning points\n",
    "\n",
    "- Modeling the dependence of a binary response variable on one or more explanatory variables"
   ]
  },
  {
   "cell_type": "code",
   "execution_count": 1,
   "metadata": {
    "collapsed": true
   },
   "outputs": [],
   "source": [
    "suppressPackageStartupMessages(library(tidyverse))"
   ]
  },
  {
   "cell_type": "code",
   "execution_count": 2,
   "metadata": {
    "collapsed": true
   },
   "outputs": [],
   "source": [
    "options(repr.plot.width=4, repr.plot.height=3)"
   ]
  },
  {
   "cell_type": "code",
   "execution_count": 3,
   "metadata": {},
   "outputs": [
    {
     "data": {
      "text/html": [
       "<table>\n",
       "<thead><tr><th scope=col>marker</th><th scope=col>patients</th><th scope=col>deaths</th></tr></thead>\n",
       "<tbody>\n",
       "\t<tr><td>0.75</td><td>182 </td><td>  7 </td></tr>\n",
       "\t<tr><td>1.25</td><td>233 </td><td> 27 </td></tr>\n",
       "\t<tr><td>1.75</td><td>224 </td><td> 44 </td></tr>\n",
       "\t<tr><td>2.25</td><td>236 </td><td> 91 </td></tr>\n",
       "\t<tr><td>2.75</td><td>225 </td><td>130 </td></tr>\n",
       "\t<tr><td>3.25</td><td>215 </td><td>168 </td></tr>\n",
       "\t<tr><td>3.75</td><td>221 </td><td>194 </td></tr>\n",
       "\t<tr><td>4.25</td><td>200 </td><td>191 </td></tr>\n",
       "\t<tr><td>4.75</td><td>264 </td><td>260 </td></tr>\n",
       "</tbody>\n",
       "</table>\n"
      ],
      "text/latex": [
       "\\begin{tabular}{r|lll}\n",
       " marker & patients & deaths\\\\\n",
       "\\hline\n",
       "\t 0.75 & 182  &   7 \\\\\n",
       "\t 1.25 & 233  &  27 \\\\\n",
       "\t 1.75 & 224  &  44 \\\\\n",
       "\t 2.25 & 236  &  91 \\\\\n",
       "\t 2.75 & 225  & 130 \\\\\n",
       "\t 3.25 & 215  & 168 \\\\\n",
       "\t 3.75 & 221  & 194 \\\\\n",
       "\t 4.25 & 200  & 191 \\\\\n",
       "\t 4.75 & 264  & 260 \\\\\n",
       "\\end{tabular}\n"
      ],
      "text/markdown": [
       "\n",
       "marker | patients | deaths | \n",
       "|---|---|---|---|---|---|---|---|---|\n",
       "| 0.75 | 182  |   7  | \n",
       "| 1.25 | 233  |  27  | \n",
       "| 1.75 | 224  |  44  | \n",
       "| 2.25 | 236  |  91  | \n",
       "| 2.75 | 225  | 130  | \n",
       "| 3.25 | 215  | 168  | \n",
       "| 3.75 | 221  | 194  | \n",
       "| 4.25 | 200  | 191  | \n",
       "| 4.75 | 264  | 260  | \n",
       "\n",
       "\n"
      ],
      "text/plain": [
       "  marker patients deaths\n",
       "1 0.75   182        7   \n",
       "2 1.25   233       27   \n",
       "3 1.75   224       44   \n",
       "4 2.25   236       91   \n",
       "5 2.75   225      130   \n",
       "6 3.25   215      168   \n",
       "7 3.75   221      194   \n",
       "8 4.25   200      191   \n",
       "9 4.75   264      260   "
      ]
     },
     "metadata": {},
     "output_type": "display_data"
    }
   ],
   "source": [
    "marker <- seq(0.75, 4.75, by=0.5)\n",
    "patients <- c(182, 233, 224, 236, 225, 215, 221, 200, 264)\n",
    "deaths <- c(7, 27, 44, 91, 130, 168, 194, 191, 260)\n",
    "\n",
    "df <- data.frame(marker=marker, patients=patients, deaths=deaths)\n",
    "df"
   ]
  },
  {
   "cell_type": "code",
   "execution_count": 4,
   "metadata": {},
   "outputs": [
    {
     "data": {
      "text/html": [
       "<table>\n",
       "<thead><tr><th scope=col>marker</th><th scope=col>patients</th><th scope=col>deaths</th><th scope=col>prop</th></tr></thead>\n",
       "<tbody>\n",
       "\t<tr><td>0.75      </td><td>182       </td><td>  7       </td><td>0.03846154</td></tr>\n",
       "\t<tr><td>1.25      </td><td>233       </td><td> 27       </td><td>0.11587983</td></tr>\n",
       "\t<tr><td>1.75      </td><td>224       </td><td> 44       </td><td>0.19642857</td></tr>\n",
       "\t<tr><td>2.25      </td><td>236       </td><td> 91       </td><td>0.38559322</td></tr>\n",
       "\t<tr><td>2.75      </td><td>225       </td><td>130       </td><td>0.57777778</td></tr>\n",
       "\t<tr><td>3.25      </td><td>215       </td><td>168       </td><td>0.78139535</td></tr>\n",
       "\t<tr><td>3.75      </td><td>221       </td><td>194       </td><td>0.87782805</td></tr>\n",
       "\t<tr><td>4.25      </td><td>200       </td><td>191       </td><td>0.95500000</td></tr>\n",
       "\t<tr><td>4.75      </td><td>264       </td><td>260       </td><td>0.98484848</td></tr>\n",
       "</tbody>\n",
       "</table>\n"
      ],
      "text/latex": [
       "\\begin{tabular}{r|llll}\n",
       " marker & patients & deaths & prop\\\\\n",
       "\\hline\n",
       "\t 0.75       & 182        &   7        & 0.03846154\\\\\n",
       "\t 1.25       & 233        &  27        & 0.11587983\\\\\n",
       "\t 1.75       & 224        &  44        & 0.19642857\\\\\n",
       "\t 2.25       & 236        &  91        & 0.38559322\\\\\n",
       "\t 2.75       & 225        & 130        & 0.57777778\\\\\n",
       "\t 3.25       & 215        & 168        & 0.78139535\\\\\n",
       "\t 3.75       & 221        & 194        & 0.87782805\\\\\n",
       "\t 4.25       & 200        & 191        & 0.95500000\\\\\n",
       "\t 4.75       & 264        & 260        & 0.98484848\\\\\n",
       "\\end{tabular}\n"
      ],
      "text/markdown": [
       "\n",
       "marker | patients | deaths | prop | \n",
       "|---|---|---|---|---|---|---|---|---|\n",
       "| 0.75       | 182        |   7        | 0.03846154 | \n",
       "| 1.25       | 233        |  27        | 0.11587983 | \n",
       "| 1.75       | 224        |  44        | 0.19642857 | \n",
       "| 2.25       | 236        |  91        | 0.38559322 | \n",
       "| 2.75       | 225        | 130        | 0.57777778 | \n",
       "| 3.25       | 215        | 168        | 0.78139535 | \n",
       "| 3.75       | 221        | 194        | 0.87782805 | \n",
       "| 4.25       | 200        | 191        | 0.95500000 | \n",
       "| 4.75       | 264        | 260        | 0.98484848 | \n",
       "\n",
       "\n"
      ],
      "text/plain": [
       "  marker patients deaths prop      \n",
       "1 0.75   182        7    0.03846154\n",
       "2 1.25   233       27    0.11587983\n",
       "3 1.75   224       44    0.19642857\n",
       "4 2.25   236       91    0.38559322\n",
       "5 2.75   225      130    0.57777778\n",
       "6 3.25   215      168    0.78139535\n",
       "7 3.75   221      194    0.87782805\n",
       "8 4.25   200      191    0.95500000\n",
       "9 4.75   264      260    0.98484848"
      ]
     },
     "metadata": {},
     "output_type": "display_data"
    }
   ],
   "source": [
    "df1 <- df %>% mutate(prop=deaths/patients)\n",
    "df1"
   ]
  },
  {
   "cell_type": "code",
   "execution_count": 5,
   "metadata": {},
   "outputs": [
    {
     "data": {},
     "metadata": {},
     "output_type": "display_data"
    },
    {
     "data": {
      "image/png": "[encoded data removed]",
      "text/plain": [
       "plot without title"
      ]
     },
     "metadata": {},
     "output_type": "display_data"
    }
   ],
   "source": [
    "ggplot(df1, aes(x=marker, y=prop)) + geom_point()"
   ]
  },
  {
   "cell_type": "code",
   "execution_count": 6,
   "metadata": {},
   "outputs": [
    {
     "data": {
      "text/html": [
       "<table>\n",
       "<thead><tr><th scope=col>marker</th><th scope=col>patients</th><th scope=col>deaths</th><th scope=col>prop</th><th scope=col>logit</th></tr></thead>\n",
       "<tbody>\n",
       "\t<tr><td>0.75      </td><td>182       </td><td>  7       </td><td>0.03846154</td><td>-3.2188758</td></tr>\n",
       "\t<tr><td>1.25      </td><td>233       </td><td> 27       </td><td>0.11587983</td><td>-2.0320393</td></tr>\n",
       "\t<tr><td>1.75      </td><td>224       </td><td> 44       </td><td>0.19642857</td><td>-1.4087672</td></tr>\n",
       "\t<tr><td>2.25      </td><td>236       </td><td> 91       </td><td>0.38559322</td><td>-0.4658742</td></tr>\n",
       "\t<tr><td>2.75      </td><td>225       </td><td>130       </td><td>0.57777778</td><td> 0.3136576</td></tr>\n",
       "\t<tr><td>3.25      </td><td>215       </td><td>168       </td><td>0.78139535</td><td> 1.2738164</td></tr>\n",
       "\t<tr><td>3.75      </td><td>221       </td><td>194       </td><td>0.87782805</td><td> 1.9720213</td></tr>\n",
       "\t<tr><td>4.25      </td><td>200       </td><td>191       </td><td>0.95500000</td><td> 3.0550489</td></tr>\n",
       "\t<tr><td>4.75      </td><td>264       </td><td>260       </td><td>0.98484848</td><td> 4.1743873</td></tr>\n",
       "</tbody>\n",
       "</table>\n"
      ],
      "text/latex": [
       "\\begin{tabular}{r|lllll}\n",
       " marker & patients & deaths & prop & logit\\\\\n",
       "\\hline\n",
       "\t 0.75       & 182        &   7        & 0.03846154 & -3.2188758\\\\\n",
       "\t 1.25       & 233        &  27        & 0.11587983 & -2.0320393\\\\\n",
       "\t 1.75       & 224        &  44        & 0.19642857 & -1.4087672\\\\\n",
       "\t 2.25       & 236        &  91        & 0.38559322 & -0.4658742\\\\\n",
       "\t 2.75       & 225        & 130        & 0.57777778 &  0.3136576\\\\\n",
       "\t 3.25       & 215        & 168        & 0.78139535 &  1.2738164\\\\\n",
       "\t 3.75       & 221        & 194        & 0.87782805 &  1.9720213\\\\\n",
       "\t 4.25       & 200        & 191        & 0.95500000 &  3.0550489\\\\\n",
       "\t 4.75       & 264        & 260        & 0.98484848 &  4.1743873\\\\\n",
       "\\end{tabular}\n"
      ],
      "text/markdown": [
       "\n",
       "marker | patients | deaths | prop | logit | \n",
       "|---|---|---|---|---|---|---|---|---|\n",
       "| 0.75       | 182        |   7        | 0.03846154 | -3.2188758 | \n",
       "| 1.25       | 233        |  27        | 0.11587983 | -2.0320393 | \n",
       "| 1.75       | 224        |  44        | 0.19642857 | -1.4087672 | \n",
       "| 2.25       | 236        |  91        | 0.38559322 | -0.4658742 | \n",
       "| 2.75       | 225        | 130        | 0.57777778 |  0.3136576 | \n",
       "| 3.25       | 215        | 168        | 0.78139535 |  1.2738164 | \n",
       "| 3.75       | 221        | 194        | 0.87782805 |  1.9720213 | \n",
       "| 4.25       | 200        | 191        | 0.95500000 |  3.0550489 | \n",
       "| 4.75       | 264        | 260        | 0.98484848 |  4.1743873 | \n",
       "\n",
       "\n"
      ],
      "text/plain": [
       "  marker patients deaths prop       logit     \n",
       "1 0.75   182        7    0.03846154 -3.2188758\n",
       "2 1.25   233       27    0.11587983 -2.0320393\n",
       "3 1.75   224       44    0.19642857 -1.4087672\n",
       "4 2.25   236       91    0.38559322 -0.4658742\n",
       "5 2.75   225      130    0.57777778  0.3136576\n",
       "6 3.25   215      168    0.78139535  1.2738164\n",
       "7 3.75   221      194    0.87782805  1.9720213\n",
       "8 4.25   200      191    0.95500000  3.0550489\n",
       "9 4.75   264      260    0.98484848  4.1743873"
      ]
     },
     "metadata": {},
     "output_type": "display_data"
    }
   ],
   "source": [
    "df2 <- df1 %>% mutate(logit=log(prop/(1-prop)))\n",
    "df2"
   ]
  },
  {
   "cell_type": "code",
   "execution_count": 7,
   "metadata": {},
   "outputs": [
    {
     "data": {},
     "metadata": {},
     "output_type": "display_data"
    },
    {
     "data": {
      "image/png": "[encoded data removed]",
      "text/plain": [
       "plot without title"
      ]
     },
     "metadata": {},
     "output_type": "display_data"
    }
   ],
   "source": [
    "ggplot(df2, aes(x=marker, y=logit)) + geom_point()"
   ]
  },
  {
   "cell_type": "markdown",
   "metadata": {},
   "source": [
    "## Maximum likelihood estimation"
   ]
  },
  {
   "cell_type": "markdown",
   "metadata": {},
   "source": [
    "The parameters of many statistical models are estimated by maximizing the likelihood. This likelihood is a function of the unnormalized probability density after having observed some data. We will illustrate by example to give some intuition."
   ]
  },
  {
   "cell_type": "markdown",
   "metadata": {},
   "source": [
    "### Simulating sample data come from a population  "
   ]
  },
  {
   "cell_type": "code",
   "execution_count": 8,
   "metadata": {},
   "outputs": [],
   "source": [
    "mu <- 4\n",
    "sigma <- 1\n",
    "x <- rnorm(100, mu, sigma)"
   ]
  },
  {
   "cell_type": "code",
   "execution_count": 9,
   "metadata": {},
   "outputs": [
    {
     "data": {},
     "metadata": {},
     "output_type": "display_data"
    },
    {
     "data": {
      "image/png": "[encoded data removed]",
      "text/plain": [
       "plot without title"
      ]
     },
     "metadata": {},
     "output_type": "display_data"
    }
   ],
   "source": [
    "ggplot(data.frame(x=x), aes(x=x)) + geom_histogram(binwidth=0.5, color='grey')"
   ]
  },
  {
   "cell_type": "markdown",
   "metadata": {},
   "source": [
    "### Likelihood\n",
    "\n",
    "We have 100 samples independently drawn from the same normal distribution - that is, the samples are IID (independent identically distributed). The conditional probability of of a single sample $x_i$ is $N(\\mu, \\sigma \\mid x_i)$. Because the samples are independent, the likelihood of seeing all 100 samples is just the product of 100 such conditional probabilities. \n",
    "\n",
    "If we fix the standard deviation to be 1 and vary the mean, we see that the likelihood function has a maximum near the true population mean ($\\mu = 4$). Hence we can get a good estimate of $\\mu$ by maximizing the likelihood. Typically, a numerical optimization algorithm is used to find the maximum - the value of $\\mu$ (or other parameter) where this maximum occurs is the **maximum likelihood estimate** (MLE) of the population parameter."
   ]
  },
  {
   "cell_type": "code",
   "execution_count": 10,
   "metadata": {},
   "outputs": [],
   "source": [
    "mus <- seq(0, 8, length.out = 100)\n",
    "lik <- vector('numeric', length=100)\n",
    "for (i in 1:100) {\n",
    "    lik[i] <- prod(dnorm(x, mean=mus[i], sd=1))\n",
    "}"
   ]
  },
  {
   "cell_type": "code",
   "execution_count": 11,
   "metadata": {},
   "outputs": [
    {
     "data": {},
     "metadata": {},
     "output_type": "display_data"
    },
    {
     "data": {
      "image/png": "[encoded data removed]",
      "text/plain": [
       "plot without title"
      ]
     },
     "metadata": {},
     "output_type": "display_data"
    }
   ],
   "source": [
    "ggplot(data.frame(mu=mus, lik=lik), aes(x=mu, y=lik)) + geom_line()"
   ]
  },
  {
   "cell_type": "markdown",
   "metadata": {},
   "source": [
    "### Working in log space\n",
    "\n",
    "In practice, multiplying lots of small numbers to get a likelihood results in underflow because of the discreteness of computer arithmetic. So we work with log probabilities and sum them rather than take products, but the basic idea of maximizing the (log) likelihood is the same."
   ]
  },
  {
   "cell_type": "code",
   "execution_count": 12,
   "metadata": {
    "collapsed": true
   },
   "outputs": [],
   "source": [
    "mus <- seq(0, 8, length.out = 100)\n",
    "loglik <- vector('numeric', length=100)\n",
    "for (i in 1:100) {\n",
    "    loglik[i] <- sum(log(dnorm(x, mean=mus[i], sd=1)))\n",
    "}"
   ]
  },
  {
   "cell_type": "code",
   "execution_count": 13,
   "metadata": {},
   "outputs": [
    {
     "data": {},
     "metadata": {},
     "output_type": "display_data"
    },
    {
     "data": {
      "image/png": "[encoded data removed]",
      "text/plain": [
       "plot without title"
      ]
     },
     "metadata": {},
     "output_type": "display_data"
    }
   ],
   "source": [
    "ggplot(data.frame(mu=mus, lik=loglik), aes(x=mu, y=lik)) + geom_line()"
   ]
  },
  {
   "cell_type": "markdown",
   "metadata": {},
   "source": [
    "## Data with binary outcomes\n",
    "\n",
    "We will try to predict admission to graduate school based on GRE, GPA and class rank. Rank is the prestige of the undergraduate institution, with 1 = most prestigious and 4 = least prestigious."
   ]
  },
  {
   "cell_type": "code",
   "execution_count": 14,
   "metadata": {
    "collapsed": true
   },
   "outputs": [],
   "source": [
    "admit <- read.csv(\"http://stats.idre.ucla.edu/stat/data/binary.csv\")"
   ]
  },
  {
   "cell_type": "code",
   "execution_count": 15,
   "metadata": {
    "collapsed": true
   },
   "outputs": [],
   "source": [
    "admit$rank <- as.factor(admit$rank)"
   ]
  },
  {
   "cell_type": "code",
   "execution_count": 16,
   "metadata": {},
   "outputs": [
    {
     "name": "stdout",
     "output_type": "stream",
     "text": [
      "'data.frame':\t400 obs. of  4 variables:\n",
      " $ admit: int  0 1 1 1 0 1 1 0 1 0 ...\n",
      " $ gre  : int  380 660 800 640 520 760 560 400 540 700 ...\n",
      " $ gpa  : num  3.61 3.67 4 3.19 2.93 3 2.98 3.08 3.39 3.92 ...\n",
      " $ rank : Factor w/ 4 levels \"1\",\"2\",\"3\",\"4\": 3 3 1 4 4 2 1 2 3 2 ...\n"
     ]
    }
   ],
   "source": [
    "str(admit)"
   ]
  },
  {
   "cell_type": "code",
   "execution_count": 17,
   "metadata": {},
   "outputs": [
    {
     "data": {
      "text/html": [
       "<table>\n",
       "<thead><tr><th scope=col>admit</th><th scope=col>gre</th><th scope=col>gpa</th><th scope=col>rank</th></tr></thead>\n",
       "<tbody>\n",
       "\t<tr><td>0   </td><td>380 </td><td>3.61</td><td>3   </td></tr>\n",
       "\t<tr><td>1   </td><td>660 </td><td>3.67</td><td>3   </td></tr>\n",
       "\t<tr><td>1   </td><td>800 </td><td>4.00</td><td>1   </td></tr>\n",
       "\t<tr><td>1   </td><td>640 </td><td>3.19</td><td>4   </td></tr>\n",
       "\t<tr><td>0   </td><td>520 </td><td>2.93</td><td>4   </td></tr>\n",
       "\t<tr><td>1   </td><td>760 </td><td>3.00</td><td>2   </td></tr>\n",
       "</tbody>\n",
       "</table>\n"
      ],
      "text/latex": [
       "\\begin{tabular}{r|llll}\n",
       " admit & gre & gpa & rank\\\\\n",
       "\\hline\n",
       "\t 0    & 380  & 3.61 & 3   \\\\\n",
       "\t 1    & 660  & 3.67 & 3   \\\\\n",
       "\t 1    & 800  & 4.00 & 1   \\\\\n",
       "\t 1    & 640  & 3.19 & 4   \\\\\n",
       "\t 0    & 520  & 2.93 & 4   \\\\\n",
       "\t 1    & 760  & 3.00 & 2   \\\\\n",
       "\\end{tabular}\n"
      ],
      "text/markdown": [
       "\n",
       "admit | gre | gpa | rank | \n",
       "|---|---|---|---|---|---|\n",
       "| 0    | 380  | 3.61 | 3    | \n",
       "| 1    | 660  | 3.67 | 3    | \n",
       "| 1    | 800  | 4.00 | 1    | \n",
       "| 1    | 640  | 3.19 | 4    | \n",
       "| 0    | 520  | 2.93 | 4    | \n",
       "| 1    | 760  | 3.00 | 2    | \n",
       "\n",
       "\n"
      ],
      "text/plain": [
       "  admit gre gpa  rank\n",
       "1 0     380 3.61 3   \n",
       "2 1     660 3.67 3   \n",
       "3 1     800 4.00 1   \n",
       "4 1     640 3.19 4   \n",
       "5 0     520 2.93 4   \n",
       "6 1     760 3.00 2   "
      ]
     },
     "metadata": {},
     "output_type": "display_data"
    }
   ],
   "source": [
    "head(admit)"
   ]
  },
  {
   "cell_type": "code",
   "execution_count": 18,
   "metadata": {
    "collapsed": true
   },
   "outputs": [],
   "source": [
    "m <- glm(admit ~ gre + gpa + rank, data=admit, family=\"binomial\")"
   ]
  },
  {
   "cell_type": "code",
   "execution_count": 19,
   "metadata": {},
   "outputs": [
    {
     "data": {
      "text/plain": [
       "\n",
       "Call:\n",
       "glm(formula = admit ~ gre + gpa + rank, family = \"binomial\", \n",
       "    data = admit)\n",
       "\n",
       "Deviance Residuals: \n",
       "    Min       1Q   Median       3Q      Max  \n",
       "-1.6268  -0.8662  -0.6388   1.1490   2.0790  \n",
       "\n",
       "Coefficients:\n",
       "             Estimate Std. Error z value Pr(>|z|)    \n",
       "(Intercept) -3.989979   1.139951  -3.500 0.000465 ***\n",
       "gre          0.002264   0.001094   2.070 0.038465 *  \n",
       "gpa          0.804038   0.331819   2.423 0.015388 *  \n",
       "rank2       -0.675443   0.316490  -2.134 0.032829 *  \n",
       "rank3       -1.340204   0.345306  -3.881 0.000104 ***\n",
       "rank4       -1.551464   0.417832  -3.713 0.000205 ***\n",
       "---\n",
       "Signif. codes:  0 ‘***’ 0.001 ‘**’ 0.01 ‘*’ 0.05 ‘.’ 0.1 ‘ ’ 1\n",
       "\n",
       "(Dispersion parameter for binomial family taken to be 1)\n",
       "\n",
       "    Null deviance: 499.98  on 399  degrees of freedom\n",
       "Residual deviance: 458.52  on 394  degrees of freedom\n",
       "AIC: 470.52\n",
       "\n",
       "Number of Fisher Scoring iterations: 4\n"
      ]
     },
     "metadata": {},
     "output_type": "display_data"
    }
   ],
   "source": [
    "summary(m)"
   ]
  },
  {
   "cell_type": "code",
   "execution_count": 20,
   "metadata": {},
   "outputs": [
    {
     "name": "stderr",
     "output_type": "stream",
     "text": [
      "Waiting for profiling to be done...\n"
     ]
    },
    {
     "data": {
      "text/html": [
       "<table>\n",
       "<thead><tr><th></th><th scope=col>2.5 %</th><th scope=col>97.5 %</th></tr></thead>\n",
       "<tbody>\n",
       "\t<tr><th scope=row>(Intercept)</th><td>-6.2716</td><td>-1.7925</td></tr>\n",
       "\t<tr><th scope=row>gre</th><td> 0.0001</td><td> 0.0044</td></tr>\n",
       "\t<tr><th scope=row>gpa</th><td> 0.1603</td><td> 1.4641</td></tr>\n",
       "\t<tr><th scope=row>rank2</th><td>-1.3009</td><td>-0.0567</td></tr>\n",
       "\t<tr><th scope=row>rank3</th><td>-2.0277</td><td>-0.6704</td></tr>\n",
       "\t<tr><th scope=row>rank4</th><td>-2.4000</td><td>-0.7535</td></tr>\n",
       "</tbody>\n",
       "</table>\n"
      ],
      "text/latex": [
       "\\begin{tabular}{r|ll}\n",
       "  & 2.5 \\% & 97.5 \\%\\\\\n",
       "\\hline\n",
       "\t(Intercept) & -6.2716 & -1.7925\\\\\n",
       "\tgre &  0.0001 &  0.0044\\\\\n",
       "\tgpa &  0.1603 &  1.4641\\\\\n",
       "\trank2 & -1.3009 & -0.0567\\\\\n",
       "\trank3 & -2.0277 & -0.6704\\\\\n",
       "\trank4 & -2.4000 & -0.7535\\\\\n",
       "\\end{tabular}\n"
      ],
      "text/markdown": [
       "\n",
       "| <!--/--> | 2.5 % | 97.5 % | \n",
       "|---|---|---|---|---|---|\n",
       "| (Intercept) | -6.2716 | -1.7925 | \n",
       "| gre |  0.0001 |  0.0044 | \n",
       "| gpa |  0.1603 |  1.4641 | \n",
       "| rank2 | -1.3009 | -0.0567 | \n",
       "| rank3 | -2.0277 | -0.6704 | \n",
       "| rank4 | -2.4000 | -0.7535 | \n",
       "\n",
       "\n"
      ],
      "text/plain": [
       "            2.5 %   97.5 % \n",
       "(Intercept) -6.2716 -1.7925\n",
       "gre          0.0001  0.0044\n",
       "gpa          0.1603  1.4641\n",
       "rank2       -1.3009 -0.0567\n",
       "rank3       -2.0277 -0.6704\n",
       "rank4       -2.4000 -0.7535"
      ]
     },
     "metadata": {},
     "output_type": "display_data"
    }
   ],
   "source": [
    "round(confint(m), 4)"
   ]
  },
  {
   "cell_type": "code",
   "execution_count": 21,
   "metadata": {
    "collapsed": true
   },
   "outputs": [],
   "source": [
    "library(aod)"
   ]
  },
  {
   "cell_type": "markdown",
   "metadata": {},
   "source": [
    "### Test significance of GRE"
   ]
  },
  {
   "cell_type": "code",
   "execution_count": 22,
   "metadata": {},
   "outputs": [
    {
     "data": {
      "text/plain": [
       "Wald test:\n",
       "----------\n",
       "\n",
       "Chi-squared test:\n",
       "X2 = 4.3, df = 1, P(> X2) = 0.038"
      ]
     },
     "metadata": {},
     "output_type": "display_data"
    }
   ],
   "source": [
    "wald.test(b = coef(m), Sigma = vcov(m), Terms = 2)"
   ]
  },
  {
   "cell_type": "markdown",
   "metadata": {},
   "source": [
    "### Test significance of GPA"
   ]
  },
  {
   "cell_type": "code",
   "execution_count": 23,
   "metadata": {},
   "outputs": [
    {
     "data": {
      "text/plain": [
       "Wald test:\n",
       "----------\n",
       "\n",
       "Chi-squared test:\n",
       "X2 = 5.9, df = 1, P(> X2) = 0.015"
      ]
     },
     "metadata": {},
     "output_type": "display_data"
    }
   ],
   "source": [
    "wald.test(b = coef(m), Sigma = vcov(m), Terms = 3)"
   ]
  },
  {
   "cell_type": "markdown",
   "metadata": {},
   "source": [
    "### Test significance of Rank"
   ]
  },
  {
   "cell_type": "code",
   "execution_count": 24,
   "metadata": {},
   "outputs": [
    {
     "data": {
      "text/plain": [
       "Wald test:\n",
       "----------\n",
       "\n",
       "Chi-squared test:\n",
       "X2 = 20.9, df = 3, P(> X2) = 0.00011"
      ]
     },
     "metadata": {},
     "output_type": "display_data"
    }
   ],
   "source": [
    "wald.test(b = coef(m), Sigma = vcov(m), Terms = 4:6)"
   ]
  },
  {
   "cell_type": "markdown",
   "metadata": {},
   "source": [
    "## Getting odds ratios"
   ]
  },
  {
   "cell_type": "code",
   "execution_count": 25,
   "metadata": {},
   "outputs": [
    {
     "name": "stderr",
     "output_type": "stream",
     "text": [
      "Waiting for profiling to be done...\n"
     ]
    },
    {
     "data": {
      "text/html": [
       "<table>\n",
       "<thead><tr><th></th><th scope=col>OR</th><th scope=col>2.5 %</th><th scope=col>97.5 %</th></tr></thead>\n",
       "<tbody>\n",
       "\t<tr><th scope=row>(Intercept)</th><td>0.0185</td><td>0.0019</td><td>0.1665</td></tr>\n",
       "\t<tr><th scope=row>gre</th><td>1.0023</td><td>1.0001</td><td>1.0044</td></tr>\n",
       "\t<tr><th scope=row>gpa</th><td>2.2345</td><td>1.1739</td><td>4.3238</td></tr>\n",
       "\t<tr><th scope=row>rank2</th><td>0.5089</td><td>0.2723</td><td>0.9448</td></tr>\n",
       "\t<tr><th scope=row>rank3</th><td>0.2618</td><td>0.1316</td><td>0.5115</td></tr>\n",
       "\t<tr><th scope=row>rank4</th><td>0.2119</td><td>0.0907</td><td>0.4707</td></tr>\n",
       "</tbody>\n",
       "</table>\n"
      ],
      "text/latex": [
       "\\begin{tabular}{r|lll}\n",
       "  & OR & 2.5 \\% & 97.5 \\%\\\\\n",
       "\\hline\n",
       "\t(Intercept) & 0.0185 & 0.0019 & 0.1665\\\\\n",
       "\tgre & 1.0023 & 1.0001 & 1.0044\\\\\n",
       "\tgpa & 2.2345 & 1.1739 & 4.3238\\\\\n",
       "\trank2 & 0.5089 & 0.2723 & 0.9448\\\\\n",
       "\trank3 & 0.2618 & 0.1316 & 0.5115\\\\\n",
       "\trank4 & 0.2119 & 0.0907 & 0.4707\\\\\n",
       "\\end{tabular}\n"
      ],
      "text/markdown": [
       "\n",
       "| <!--/--> | OR | 2.5 % | 97.5 % | \n",
       "|---|---|---|---|---|---|\n",
       "| (Intercept) | 0.0185 | 0.0019 | 0.1665 | \n",
       "| gre | 1.0023 | 1.0001 | 1.0044 | \n",
       "| gpa | 2.2345 | 1.1739 | 4.3238 | \n",
       "| rank2 | 0.5089 | 0.2723 | 0.9448 | \n",
       "| rank3 | 0.2618 | 0.1316 | 0.5115 | \n",
       "| rank4 | 0.2119 | 0.0907 | 0.4707 | \n",
       "\n",
       "\n"
      ],
      "text/plain": [
       "            OR     2.5 %  97.5 %\n",
       "(Intercept) 0.0185 0.0019 0.1665\n",
       "gre         1.0023 1.0001 1.0044\n",
       "gpa         2.2345 1.1739 4.3238\n",
       "rank2       0.5089 0.2723 0.9448\n",
       "rank3       0.2618 0.1316 0.5115\n",
       "rank4       0.2119 0.0907 0.4707"
      ]
     },
     "metadata": {},
     "output_type": "display_data"
    }
   ],
   "source": [
    "round(exp(cbind(OR = coef(m), confint(m))), 4)"
   ]
  },
  {
   "cell_type": "markdown",
   "metadata": {},
   "source": [
    "#### Interpretation\n",
    "\n",
    "For every unit increase in GPA, the odds of being admitted increase by a factor of 2.2345."
   ]
  },
  {
   "cell_type": "markdown",
   "metadata": {},
   "source": [
    "## Making predictions"
   ]
  },
  {
   "cell_type": "code",
   "execution_count": 26,
   "metadata": {},
   "outputs": [
    {
     "data": {
      "text/html": [
       "<table>\n",
       "<thead><tr><th scope=col>admit</th><th scope=col>gre</th><th scope=col>gpa</th><th scope=col>rank</th></tr></thead>\n",
       "<tbody>\n",
       "\t<tr><td>0   </td><td>380 </td><td>3.61</td><td>3   </td></tr>\n",
       "\t<tr><td>1   </td><td>660 </td><td>3.67</td><td>3   </td></tr>\n",
       "\t<tr><td>1   </td><td>800 </td><td>4.00</td><td>1   </td></tr>\n",
       "\t<tr><td>1   </td><td>640 </td><td>3.19</td><td>4   </td></tr>\n",
       "\t<tr><td>0   </td><td>520 </td><td>2.93</td><td>4   </td></tr>\n",
       "\t<tr><td>1   </td><td>760 </td><td>3.00</td><td>2   </td></tr>\n",
       "</tbody>\n",
       "</table>\n"
      ],
      "text/latex": [
       "\\begin{tabular}{r|llll}\n",
       " admit & gre & gpa & rank\\\\\n",
       "\\hline\n",
       "\t 0    & 380  & 3.61 & 3   \\\\\n",
       "\t 1    & 660  & 3.67 & 3   \\\\\n",
       "\t 1    & 800  & 4.00 & 1   \\\\\n",
       "\t 1    & 640  & 3.19 & 4   \\\\\n",
       "\t 0    & 520  & 2.93 & 4   \\\\\n",
       "\t 1    & 760  & 3.00 & 2   \\\\\n",
       "\\end{tabular}\n"
      ],
      "text/markdown": [
       "\n",
       "admit | gre | gpa | rank | \n",
       "|---|---|---|---|---|---|\n",
       "| 0    | 380  | 3.61 | 3    | \n",
       "| 1    | 660  | 3.67 | 3    | \n",
       "| 1    | 800  | 4.00 | 1    | \n",
       "| 1    | 640  | 3.19 | 4    | \n",
       "| 0    | 520  | 2.93 | 4    | \n",
       "| 1    | 760  | 3.00 | 2    | \n",
       "\n",
       "\n"
      ],
      "text/plain": [
       "  admit gre gpa  rank\n",
       "1 0     380 3.61 3   \n",
       "2 1     660 3.67 3   \n",
       "3 1     800 4.00 1   \n",
       "4 1     640 3.19 4   \n",
       "5 0     520 2.93 4   \n",
       "6 1     760 3.00 2   "
      ]
     },
     "metadata": {},
     "output_type": "display_data"
    }
   ],
   "source": [
    "head(admit)"
   ]
  },
  {
   "cell_type": "code",
   "execution_count": 27,
   "metadata": {
    "collapsed": true
   },
   "outputs": [],
   "source": [
    "new.data <- with(admit, data.frame(gre=mean(gre), gpa=mean(gpa), rank=factor(1:4)))"
   ]
  },
  {
   "cell_type": "code",
   "execution_count": 28,
   "metadata": {},
   "outputs": [
    {
     "data": {
      "text/html": [
       "<table>\n",
       "<thead><tr><th scope=col>gre</th><th scope=col>gpa</th><th scope=col>rank</th></tr></thead>\n",
       "<tbody>\n",
       "\t<tr><td>587.7 </td><td>3.3899</td><td>1     </td></tr>\n",
       "\t<tr><td>587.7 </td><td>3.3899</td><td>2     </td></tr>\n",
       "\t<tr><td>587.7 </td><td>3.3899</td><td>3     </td></tr>\n",
       "\t<tr><td>587.7 </td><td>3.3899</td><td>4     </td></tr>\n",
       "</tbody>\n",
       "</table>\n"
      ],
      "text/latex": [
       "\\begin{tabular}{r|lll}\n",
       " gre & gpa & rank\\\\\n",
       "\\hline\n",
       "\t 587.7  & 3.3899 & 1     \\\\\n",
       "\t 587.7  & 3.3899 & 2     \\\\\n",
       "\t 587.7  & 3.3899 & 3     \\\\\n",
       "\t 587.7  & 3.3899 & 4     \\\\\n",
       "\\end{tabular}\n"
      ],
      "text/markdown": [
       "\n",
       "gre | gpa | rank | \n",
       "|---|---|---|---|\n",
       "| 587.7  | 3.3899 | 1      | \n",
       "| 587.7  | 3.3899 | 2      | \n",
       "| 587.7  | 3.3899 | 3      | \n",
       "| 587.7  | 3.3899 | 4      | \n",
       "\n",
       "\n"
      ],
      "text/plain": [
       "  gre   gpa    rank\n",
       "1 587.7 3.3899 1   \n",
       "2 587.7 3.3899 2   \n",
       "3 587.7 3.3899 3   \n",
       "4 587.7 3.3899 4   "
      ]
     },
     "metadata": {},
     "output_type": "display_data"
    }
   ],
   "source": [
    "new.data"
   ]
  },
  {
   "cell_type": "code",
   "execution_count": 29,
   "metadata": {},
   "outputs": [
    {
     "data": {
      "text/html": [
       "<table>\n",
       "<thead><tr><th scope=col>gre</th><th scope=col>gpa</th><th scope=col>rank</th><th scope=col>p</th></tr></thead>\n",
       "<tbody>\n",
       "\t<tr><td>587.7    </td><td>3.3899   </td><td>1        </td><td>0.5166016</td></tr>\n",
       "\t<tr><td>587.7    </td><td>3.3899   </td><td>2        </td><td>0.3522846</td></tr>\n",
       "\t<tr><td>587.7    </td><td>3.3899   </td><td>3        </td><td>0.2186120</td></tr>\n",
       "\t<tr><td>587.7    </td><td>3.3899   </td><td>4        </td><td>0.1846684</td></tr>\n",
       "</tbody>\n",
       "</table>\n"
      ],
      "text/latex": [
       "\\begin{tabular}{r|llll}\n",
       " gre & gpa & rank & p\\\\\n",
       "\\hline\n",
       "\t 587.7     & 3.3899    & 1         & 0.5166016\\\\\n",
       "\t 587.7     & 3.3899    & 2         & 0.3522846\\\\\n",
       "\t 587.7     & 3.3899    & 3         & 0.2186120\\\\\n",
       "\t 587.7     & 3.3899    & 4         & 0.1846684\\\\\n",
       "\\end{tabular}\n"
      ],
      "text/markdown": [
       "\n",
       "gre | gpa | rank | p | \n",
       "|---|---|---|---|\n",
       "| 587.7     | 3.3899    | 1         | 0.5166016 | \n",
       "| 587.7     | 3.3899    | 2         | 0.3522846 | \n",
       "| 587.7     | 3.3899    | 3         | 0.2186120 | \n",
       "| 587.7     | 3.3899    | 4         | 0.1846684 | \n",
       "\n",
       "\n"
      ],
      "text/plain": [
       "  gre   gpa    rank p        \n",
       "1 587.7 3.3899 1    0.5166016\n",
       "2 587.7 3.3899 2    0.3522846\n",
       "3 587.7 3.3899 3    0.2186120\n",
       "4 587.7 3.3899 4    0.1846684"
      ]
     },
     "metadata": {},
     "output_type": "display_data"
    }
   ],
   "source": [
    "new.data$p <- predict(m, new.data, type=\"response\")\n",
    "new.data"
   ]
  },
  {
   "cell_type": "markdown",
   "metadata": {},
   "source": [
    "## Exercise"
   ]
  },
  {
   "cell_type": "code",
   "execution_count": 30,
   "metadata": {
    "collapsed": true
   },
   "outputs": [],
   "source": [
    "library(titanic)"
   ]
  },
  {
   "cell_type": "code",
   "execution_count": 31,
   "metadata": {},
   "outputs": [
    {
     "data": {
      "text/html": [
       "<table>\n",
       "<thead><tr><th scope=col>PassengerId</th><th scope=col>Survived</th><th scope=col>Pclass</th><th scope=col>Name</th><th scope=col>Sex</th><th scope=col>Age</th><th scope=col>SibSp</th><th scope=col>Parch</th><th scope=col>Ticket</th><th scope=col>Fare</th><th scope=col>Cabin</th><th scope=col>Embarked</th></tr></thead>\n",
       "<tbody>\n",
       "\t<tr><td>1                                                  </td><td>0                                                  </td><td>3                                                  </td><td>Braund, Mr. Owen Harris                            </td><td>male                                               </td><td>22                                                 </td><td>1                                                  </td><td>0                                                  </td><td>A/5 21171                                          </td><td> 7.2500                                            </td><td>                                                   </td><td>S                                                  </td></tr>\n",
       "\t<tr><td>2                                                  </td><td>1                                                  </td><td>1                                                  </td><td>Cumings, Mrs. John Bradley (Florence Briggs Thayer)</td><td>female                                             </td><td>38                                                 </td><td>1                                                  </td><td>0                                                  </td><td>PC 17599                                           </td><td>71.2833                                            </td><td>C85                                                </td><td>C                                                  </td></tr>\n",
       "\t<tr><td>3                                                  </td><td>1                                                  </td><td>3                                                  </td><td>Heikkinen, Miss. Laina                             </td><td>female                                             </td><td>26                                                 </td><td>0                                                  </td><td>0                                                  </td><td>STON/O2. 3101282                                   </td><td> 7.9250                                            </td><td>                                                   </td><td>S                                                  </td></tr>\n",
       "\t<tr><td>4                                                  </td><td>1                                                  </td><td>1                                                  </td><td>Futrelle, Mrs. Jacques Heath (Lily May Peel)       </td><td>female                                             </td><td>35                                                 </td><td>1                                                  </td><td>0                                                  </td><td>113803                                             </td><td>53.1000                                            </td><td>C123                                               </td><td>S                                                  </td></tr>\n",
       "\t<tr><td>5                                                  </td><td>0                                                  </td><td>3                                                  </td><td>Allen, Mr. William Henry                           </td><td>male                                               </td><td>35                                                 </td><td>0                                                  </td><td>0                                                  </td><td>373450                                             </td><td> 8.0500                                            </td><td>                                                   </td><td>S                                                  </td></tr>\n",
       "\t<tr><td>6                                                  </td><td>0                                                  </td><td>3                                                  </td><td>Moran, Mr. James                                   </td><td>male                                               </td><td>NA                                                 </td><td>0                                                  </td><td>0                                                  </td><td>330877                                             </td><td> 8.4583                                            </td><td>                                                   </td><td>Q                                                  </td></tr>\n",
       "</tbody>\n",
       "</table>\n"
      ],
      "text/latex": [
       "\\begin{tabular}{r|llllllllllll}\n",
       " PassengerId & Survived & Pclass & Name & Sex & Age & SibSp & Parch & Ticket & Fare & Cabin & Embarked\\\\\n",
       "\\hline\n",
       "\t 1                                                   & 0                                                   & 3                                                   & Braund, Mr. Owen Harris                             & male                                                & 22                                                  & 1                                                   & 0                                                   & A/5 21171                                           &  7.2500                                             &                                                     & S                                                  \\\\\n",
       "\t 2                                                   & 1                                                   & 1                                                   & Cumings, Mrs. John Bradley (Florence Briggs Thayer) & female                                              & 38                                                  & 1                                                   & 0                                                   & PC 17599                                            & 71.2833                                             & C85                                                 & C                                                  \\\\\n",
       "\t 3                                                   & 1                                                   & 3                                                   & Heikkinen, Miss. Laina                              & female                                              & 26                                                  & 0                                                   & 0                                                   & STON/O2. 3101282                                    &  7.9250                                             &                                                     & S                                                  \\\\\n",
       "\t 4                                                   & 1                                                   & 1                                                   & Futrelle, Mrs. Jacques Heath (Lily May Peel)        & female                                              & 35                                                  & 1                                                   & 0                                                   & 113803                                              & 53.1000                                             & C123                                                & S                                                  \\\\\n",
       "\t 5                                                   & 0                                                   & 3                                                   & Allen, Mr. William Henry                            & male                                                & 35                                                  & 0                                                   & 0                                                   & 373450                                              &  8.0500                                             &                                                     & S                                                  \\\\\n",
       "\t 6                                                   & 0                                                   & 3                                                   & Moran, Mr. James                                    & male                                                & NA                                                  & 0                                                   & 0                                                   & 330877                                              &  8.4583                                             &                                                     & Q                                                  \\\\\n",
       "\\end{tabular}\n"
      ],
      "text/markdown": [
       "\n",
       "PassengerId | Survived | Pclass | Name | Sex | Age | SibSp | Parch | Ticket | Fare | Cabin | Embarked | \n",
       "|---|---|---|---|---|---|\n",
       "| 1                                                   | 0                                                   | 3                                                   | Braund, Mr. Owen Harris                             | male                                                | 22                                                  | 1                                                   | 0                                                   | A/5 21171                                           |  7.2500                                             |                                                     | S                                                   | \n",
       "| 2                                                   | 1                                                   | 1                                                   | Cumings, Mrs. John Bradley (Florence Briggs Thayer) | female                                              | 38                                                  | 1                                                   | 0                                                   | PC 17599                                            | 71.2833                                             | C85                                                 | C                                                   | \n",
       "| 3                                                   | 1                                                   | 3                                                   | Heikkinen, Miss. Laina                              | female                                              | 26                                                  | 0                                                   | 0                                                   | STON/O2. 3101282                                    |  7.9250                                             |                                                     | S                                                   | \n",
       "| 4                                                   | 1                                                   | 1                                                   | Futrelle, Mrs. Jacques Heath (Lily May Peel)        | female                                              | 35                                                  | 1                                                   | 0                                                   | 113803                                              | 53.1000                                             | C123                                                | S                                                   | \n",
       "| 5                                                   | 0                                                   | 3                                                   | Allen, Mr. William Henry                            | male                                                | 35                                                  | 0                                                   | 0                                                   | 373450                                              |  8.0500                                             |                                                     | S                                                   | \n",
       "| 6                                                   | 0                                                   | 3                                                   | Moran, Mr. James                                    | male                                                | NA                                                  | 0                                                   | 0                                                   | 330877                                              |  8.4583                                             |                                                     | Q                                                   | \n",
       "\n",
       "\n"
      ],
      "text/plain": [
       "  PassengerId Survived Pclass\n",
       "1 1           0        3     \n",
       "2 2           1        1     \n",
       "3 3           1        3     \n",
       "4 4           1        1     \n",
       "5 5           0        3     \n",
       "6 6           0        3     \n",
       "  Name                                                Sex    Age SibSp Parch\n",
       "1 Braund, Mr. Owen Harris                             male   22  1     0    \n",
       "2 Cumings, Mrs. John Bradley (Florence Briggs Thayer) female 38  1     0    \n",
       "3 Heikkinen, Miss. Laina                              female 26  0     0    \n",
       "4 Futrelle, Mrs. Jacques Heath (Lily May Peel)        female 35  1     0    \n",
       "5 Allen, Mr. William Henry                            male   35  0     0    \n",
       "6 Moran, Mr. James                                    male   NA  0     0    \n",
       "  Ticket           Fare    Cabin Embarked\n",
       "1 A/5 21171         7.2500       S       \n",
       "2 PC 17599         71.2833 C85   C       \n",
       "3 STON/O2. 3101282  7.9250       S       \n",
       "4 113803           53.1000 C123  S       \n",
       "5 373450            8.0500       S       \n",
       "6 330877            8.4583       Q       "
      ]
     },
     "metadata": {},
     "output_type": "display_data"
    }
   ],
   "source": [
    "head(titanic_train)"
   ]
  },
  {
   "cell_type": "code",
   "execution_count": 32,
   "metadata": {},
   "outputs": [
    {
     "name": "stdout",
     "output_type": "stream",
     "text": [
      "'data.frame':\t891 obs. of  12 variables:\n",
      " $ PassengerId: int  1 2 3 4 5 6 7 8 9 10 ...\n",
      " $ Survived   : int  0 1 1 1 0 0 0 0 1 1 ...\n",
      " $ Pclass     : int  3 1 3 1 3 3 1 3 3 2 ...\n",
      " $ Name       : chr  \"Braund, Mr. Owen Harris\" \"Cumings, Mrs. John Bradley (Florence Briggs Thayer)\" \"Heikkinen, Miss. Laina\" \"Futrelle, Mrs. Jacques Heath (Lily May Peel)\" ...\n",
      " $ Sex        : chr  \"male\" \"female\" \"female\" \"female\" ...\n",
      " $ Age        : num  22 38 26 35 35 NA 54 2 27 14 ...\n",
      " $ SibSp      : int  1 1 0 1 0 0 0 3 0 1 ...\n",
      " $ Parch      : int  0 0 0 0 0 0 0 1 2 0 ...\n",
      " $ Ticket     : chr  \"A/5 21171\" \"PC 17599\" \"STON/O2. 3101282\" \"113803\" ...\n",
      " $ Fare       : num  7.25 71.28 7.92 53.1 8.05 ...\n",
      " $ Cabin      : chr  \"\" \"C85\" \"\" \"C123\" ...\n",
      " $ Embarked   : chr  \"S\" \"C\" \"S\" \"S\" ...\n"
     ]
    }
   ],
   "source": [
    "str(titanic_train)"
   ]
  },
  {
   "cell_type": "markdown",
   "metadata": {},
   "source": [
    "**1**. Fit a logistic regression model of survival against sex, age, and passenger class (Pclass). Remember to convert to factors as appropriate. Evaluate and interpret the impact of sex, age and passenger class on survival."
   ]
  },
  {
   "cell_type": "code",
   "execution_count": null,
   "metadata": {
    "collapsed": true
   },
   "outputs": [],
   "source": []
  }
 ],
 "metadata": {
  "kernelspec": {
   "display_name": "R",
   "language": "R",
   "name": "ir"
  },
  "language_info": {
   "codemirror_mode": "r",
   "file_extension": ".r",
   "mimetype": "text/x-r-source",
   "name": "R",
   "pygments_lexer": "r",
   "version": "3.4.0"
  }
 },
 "nbformat": 4,
 "nbformat_minor": 2
}
