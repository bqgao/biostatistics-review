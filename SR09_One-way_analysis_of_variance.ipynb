{
 "cells": [
  {
   "cell_type": "markdown",
   "metadata": {},
   "source": [
    "# Statistics review 9: One-way analysis of variance\n",
    "\n",
    "R code accompanying [paper](https://www.ncbi.nlm.nih.gov/pmc/articles/PMC420045/pdf/cc2836.pdf)\n",
    "\n",
    "## Key learning points\n",
    "\n",
    "- How to test differences between more than two groups or treatments\n",
    "- Multiple comparison procedures\n",
    "- Orthogonal contrasts\n",
    "- Pairwise comparisons"
   ]
  },
  {
   "cell_type": "code",
   "execution_count": 162,
   "metadata": {
    "collapsed": true
   },
   "outputs": [],
   "source": [
    "suppressPackageStartupMessages(library(tidyverse))\n",
    "options(repr.plot.width=4, repr.plot.height=3)"
   ]
  },
  {
   "cell_type": "markdown",
   "metadata": {},
   "source": [
    "## Multiple comparisons\n",
    "\n",
    "For 4 groups, we can perform 6 pairwise comparisons. This inflates the error control from the expected 5% to 26%."
   ]
  },
  {
   "cell_type": "code",
   "execution_count": 16,
   "metadata": {},
   "outputs": [
    {
     "data": {
      "text/html": [
       "0.25"
      ],
      "text/latex": [
       "0.25"
      ],
      "text/markdown": [
       "0.25"
      ],
      "text/plain": [
       "[1] 0.25"
      ]
     },
     "metadata": {},
     "output_type": "display_data"
    }
   ],
   "source": [
    "s = 0\n",
    "for (n in 1:100) {\n",
    "    df <- data.frame(x1=rnorm(10), x2=rnorm(10), x3=rnorm(10), x4=rnorm(10))\n",
    "    for (i in 1:4) {\n",
    "        for (j in 1:4) {\n",
    "            if (i < j) {\n",
    "            if (t.test(df[,i], df[,j])$p.val < 0.05) {\n",
    "                s = s+1\n",
    "                }\n",
    "            }\n",
    "        }\n",
    "    }\n",
    "}\n",
    "s/100.0"
   ]
  },
  {
   "cell_type": "markdown",
   "metadata": {},
   "source": [
    "## One-way analysis of variance"
   ]
  },
  {
   "cell_type": "code",
   "execution_count": 86,
   "metadata": {},
   "outputs": [
    {
     "data": {
      "text/html": [
       "<table>\n",
       "<thead><tr><th scope=col>t1</th><th scope=col>t2</th><th scope=col>t3</th></tr></thead>\n",
       "<tbody>\n",
       "\t<tr><td>10</td><td>19</td><td>14</td></tr>\n",
       "\t<tr><td>12</td><td>20</td><td>16</td></tr>\n",
       "\t<tr><td>14</td><td>21</td><td>18</td></tr>\n",
       "</tbody>\n",
       "</table>\n"
      ],
      "text/latex": [
       "\\begin{tabular}{r|lll}\n",
       " t1 & t2 & t3\\\\\n",
       "\\hline\n",
       "\t 10 & 19 & 14\\\\\n",
       "\t 12 & 20 & 16\\\\\n",
       "\t 14 & 21 & 18\\\\\n",
       "\\end{tabular}\n"
      ],
      "text/markdown": [
       "\n",
       "t1 | t2 | t3 | \n",
       "|---|---|---|\n",
       "| 10 | 19 | 14 | \n",
       "| 12 | 20 | 16 | \n",
       "| 14 | 21 | 18 | \n",
       "\n",
       "\n"
      ],
      "text/plain": [
       "  t1 t2 t3\n",
       "1 10 19 14\n",
       "2 12 20 16\n",
       "3 14 21 18"
      ]
     },
     "metadata": {},
     "output_type": "display_data"
    }
   ],
   "source": [
    "t1 <- c(10, 12, 14)\n",
    "t2 <- c(19, 20, 21)\n",
    "t3 <- c(14, 16, 18)\n",
    "df <- data.frame(t1=t1, t2=t2, t3=t3)\n",
    "df"
   ]
  },
  {
   "cell_type": "markdown",
   "metadata": {},
   "source": [
    "### Manual calculation"
   ]
  },
  {
   "cell_type": "code",
   "execution_count": 87,
   "metadata": {},
   "outputs": [
    {
     "data": {
      "text/html": [
       "16"
      ],
      "text/latex": [
       "16"
      ],
      "text/markdown": [
       "16"
      ],
      "text/plain": [
       "[1] 16"
      ]
     },
     "metadata": {},
     "output_type": "display_data"
    }
   ],
   "source": [
    "grand.mean <- mean(unlist(df))\n",
    "grand.mean"
   ]
  },
  {
   "cell_type": "code",
   "execution_count": 88,
   "metadata": {},
   "outputs": [
    {
     "data": {
      "text/html": [
       "<table>\n",
       "<thead><tr><th scope=col>t1</th><th scope=col>t2</th><th scope=col>t3</th></tr></thead>\n",
       "<tbody>\n",
       "\t<tr><td>12</td><td>20</td><td>16</td></tr>\n",
       "</tbody>\n",
       "</table>\n"
      ],
      "text/latex": [
       "\\begin{tabular}{r|lll}\n",
       " t1 & t2 & t3\\\\\n",
       "\\hline\n",
       "\t 12 & 20 & 16\\\\\n",
       "\\end{tabular}\n"
      ],
      "text/markdown": [
       "\n",
       "t1 | t2 | t3 | \n",
       "|---|\n",
       "| 12 | 20 | 16 | \n",
       "\n",
       "\n"
      ],
      "text/plain": [
       "  t1 t2 t3\n",
       "1 12 20 16"
      ]
     },
     "metadata": {},
     "output_type": "display_data"
    }
   ],
   "source": [
    "treatment.mean <- df %>% summarize_each('mean')\n",
    "treatment.mean"
   ]
  },
  {
   "cell_type": "code",
   "execution_count": null,
   "metadata": {
    "collapsed": true
   },
   "outputs": [],
   "source": []
  },
  {
   "cell_type": "code",
   "execution_count": 90,
   "metadata": {},
   "outputs": [
    {
     "data": {
      "text/html": [
       "<table>\n",
       "<thead><tr><th scope=col>treatment</th><th scope=col>value</th><th scope=col>explained.variance</th><th scope=col>residual</th><th scope=col>deviation</th></tr></thead>\n",
       "<tbody>\n",
       "\t<tr><td>t1</td><td>10</td><td>-4</td><td>-2</td><td>-6</td></tr>\n",
       "\t<tr><td>t1</td><td>12</td><td>-4</td><td> 0</td><td>-4</td></tr>\n",
       "\t<tr><td>t1</td><td>14</td><td>-4</td><td> 2</td><td>-2</td></tr>\n",
       "\t<tr><td>t2</td><td>19</td><td> 4</td><td>-1</td><td> 3</td></tr>\n",
       "\t<tr><td>t2</td><td>20</td><td> 4</td><td> 0</td><td> 4</td></tr>\n",
       "\t<tr><td>t2</td><td>21</td><td> 4</td><td> 1</td><td> 5</td></tr>\n",
       "\t<tr><td>t3</td><td>14</td><td> 0</td><td>-2</td><td>-2</td></tr>\n",
       "\t<tr><td>t3</td><td>16</td><td> 0</td><td> 0</td><td> 0</td></tr>\n",
       "\t<tr><td>t3</td><td>18</td><td> 0</td><td> 2</td><td> 2</td></tr>\n",
       "</tbody>\n",
       "</table>\n"
      ],
      "text/latex": [
       "\\begin{tabular}{r|lllll}\n",
       " treatment & value & explained.variance & residual & deviation\\\\\n",
       "\\hline\n",
       "\t t1 & 10 & -4 & -2 & -6\\\\\n",
       "\t t1 & 12 & -4 &  0 & -4\\\\\n",
       "\t t1 & 14 & -4 &  2 & -2\\\\\n",
       "\t t2 & 19 &  4 & -1 &  3\\\\\n",
       "\t t2 & 20 &  4 &  0 &  4\\\\\n",
       "\t t2 & 21 &  4 &  1 &  5\\\\\n",
       "\t t3 & 14 &  0 & -2 & -2\\\\\n",
       "\t t3 & 16 &  0 &  0 &  0\\\\\n",
       "\t t3 & 18 &  0 &  2 &  2\\\\\n",
       "\\end{tabular}\n"
      ],
      "text/markdown": [
       "\n",
       "treatment | value | explained.variance | residual | deviation | \n",
       "|---|---|---|---|---|---|---|---|---|\n",
       "| t1 | 10 | -4 | -2 | -6 | \n",
       "| t1 | 12 | -4 |  0 | -4 | \n",
       "| t1 | 14 | -4 |  2 | -2 | \n",
       "| t2 | 19 |  4 | -1 |  3 | \n",
       "| t2 | 20 |  4 |  0 |  4 | \n",
       "| t2 | 21 |  4 |  1 |  5 | \n",
       "| t3 | 14 |  0 | -2 | -2 | \n",
       "| t3 | 16 |  0 |  0 |  0 | \n",
       "| t3 | 18 |  0 |  2 |  2 | \n",
       "\n",
       "\n"
      ],
      "text/plain": [
       "  treatment value explained.variance residual deviation\n",
       "1 t1        10    -4                 -2       -6       \n",
       "2 t1        12    -4                  0       -4       \n",
       "3 t1        14    -4                  2       -2       \n",
       "4 t2        19     4                 -1        3       \n",
       "5 t2        20     4                  0        4       \n",
       "6 t2        21     4                  1        5       \n",
       "7 t3        14     0                 -2       -2       \n",
       "8 t3        16     0                  0        0       \n",
       "9 t3        18     0                  2        2       "
      ]
     },
     "metadata": {},
     "output_type": "display_data"
    }
   ],
   "source": [
    "df1 <- df %>% gather(treatment) %>%\n",
    "mutate(explained.variance=as.numeric(rep(treatment.mean, each=3)) - grand.mean)  %>%\n",
    "mutate(residual=value - as.numeric(rep(treatment.mean, each=3))) %>%\n",
    "mutate(deviation=value - grand.mean)\n",
    "\n",
    "df1"
   ]
  },
  {
   "cell_type": "code",
   "execution_count": 125,
   "metadata": {
    "collapsed": true
   },
   "outputs": [],
   "source": [
    "between.ss <- sum(df1$explained.variance^2)\n",
    "between.df <- length(treatment.mean) - 1\n",
    "between.ms <- between.ss/between.df\n",
    "within.ss <- sum(df1$residual^2)\n",
    "within.df <- dim(df1)[1] - 1 - between.df\n",
    "within.ms <- within.ss/within.df"
   ]
  },
  {
   "cell_type": "code",
   "execution_count": 131,
   "metadata": {},
   "outputs": [
    {
     "data": {
      "text/html": [
       "48"
      ],
      "text/latex": [
       "48"
      ],
      "text/markdown": [
       "48"
      ],
      "text/plain": [
       "[1] 48"
      ]
     },
     "metadata": {},
     "output_type": "display_data"
    }
   ],
   "source": [
    "between.ms"
   ]
  },
  {
   "cell_type": "code",
   "execution_count": 132,
   "metadata": {},
   "outputs": [
    {
     "data": {
      "text/html": [
       "3"
      ],
      "text/latex": [
       "3"
      ],
      "text/markdown": [
       "3"
      ],
      "text/plain": [
       "[1] 3"
      ]
     },
     "metadata": {},
     "output_type": "display_data"
    }
   ],
   "source": [
    "within.ms"
   ]
  },
  {
   "cell_type": "code",
   "execution_count": 133,
   "metadata": {},
   "outputs": [
    {
     "data": {
      "text/html": [
       "16"
      ],
      "text/latex": [
       "16"
      ],
      "text/markdown": [
       "16"
      ],
      "text/plain": [
       "[1] 16"
      ]
     },
     "metadata": {},
     "output_type": "display_data"
    }
   ],
   "source": [
    "F <- between.ms/within.ms\n",
    "F"
   ]
  },
  {
   "cell_type": "code",
   "execution_count": 137,
   "metadata": {},
   "outputs": [
    {
     "data": {
      "text/html": [
       "0.0039"
      ],
      "text/latex": [
       "0.0039"
      ],
      "text/markdown": [
       "0.0039"
      ],
      "text/plain": [
       "[1] 0.0039"
      ]
     },
     "metadata": {},
     "output_type": "display_data"
    }
   ],
   "source": [
    "round(1 - pf(F, df1=between.df, df2=within.df), 4)"
   ]
  },
  {
   "cell_type": "markdown",
   "metadata": {},
   "source": [
    "### Using built-in test"
   ]
  },
  {
   "cell_type": "code",
   "execution_count": 186,
   "metadata": {
    "collapsed": true
   },
   "outputs": [],
   "source": [
    "df2 <- df %>% gather(treatment, value)\n",
    "df2$treatment <- as.factor(df2$treatment)"
   ]
  },
  {
   "cell_type": "code",
   "execution_count": 187,
   "metadata": {},
   "outputs": [
    {
     "data": {
      "text/html": [
       "<table>\n",
       "<thead><tr><th scope=col>treatment</th><th scope=col>value</th></tr></thead>\n",
       "<tbody>\n",
       "\t<tr><td>t1</td><td>10</td></tr>\n",
       "\t<tr><td>t1</td><td>12</td></tr>\n",
       "\t<tr><td>t1</td><td>14</td></tr>\n",
       "\t<tr><td>t2</td><td>19</td></tr>\n",
       "\t<tr><td>t2</td><td>20</td></tr>\n",
       "\t<tr><td>t2</td><td>21</td></tr>\n",
       "\t<tr><td>t3</td><td>14</td></tr>\n",
       "\t<tr><td>t3</td><td>16</td></tr>\n",
       "\t<tr><td>t3</td><td>18</td></tr>\n",
       "</tbody>\n",
       "</table>\n"
      ],
      "text/latex": [
       "\\begin{tabular}{r|ll}\n",
       " treatment & value\\\\\n",
       "\\hline\n",
       "\t t1 & 10\\\\\n",
       "\t t1 & 12\\\\\n",
       "\t t1 & 14\\\\\n",
       "\t t2 & 19\\\\\n",
       "\t t2 & 20\\\\\n",
       "\t t2 & 21\\\\\n",
       "\t t3 & 14\\\\\n",
       "\t t3 & 16\\\\\n",
       "\t t3 & 18\\\\\n",
       "\\end{tabular}\n"
      ],
      "text/markdown": [
       "\n",
       "treatment | value | \n",
       "|---|---|---|---|---|---|---|---|---|\n",
       "| t1 | 10 | \n",
       "| t1 | 12 | \n",
       "| t1 | 14 | \n",
       "| t2 | 19 | \n",
       "| t2 | 20 | \n",
       "| t2 | 21 | \n",
       "| t3 | 14 | \n",
       "| t3 | 16 | \n",
       "| t3 | 18 | \n",
       "\n",
       "\n"
      ],
      "text/plain": [
       "  treatment value\n",
       "1 t1        10   \n",
       "2 t1        12   \n",
       "3 t1        14   \n",
       "4 t2        19   \n",
       "5 t2        20   \n",
       "6 t2        21   \n",
       "7 t3        14   \n",
       "8 t3        16   \n",
       "9 t3        18   "
      ]
     },
     "metadata": {},
     "output_type": "display_data"
    }
   ],
   "source": [
    "df2"
   ]
  },
  {
   "cell_type": "code",
   "execution_count": 188,
   "metadata": {},
   "outputs": [
    {
     "data": {},
     "metadata": {},
     "output_type": "display_data"
    },
    {
     "data": {
      "image/png": "[encoded data removed]",
      "text/plain": [
       "plot without title"
      ]
     },
     "metadata": {},
     "output_type": "display_data"
    }
   ],
   "source": [
    "ggplot(df2, aes(x=treatment, y=value)) + geom_jitter(width=0.1)"
   ]
  },
  {
   "cell_type": "code",
   "execution_count": 189,
   "metadata": {},
   "outputs": [
    {
     "data": {
      "text/plain": [
       "            Df Sum Sq Mean Sq F value  Pr(>F)   \n",
       "treatment    2     96      48      16 0.00394 **\n",
       "Residuals    6     18       3                   \n",
       "---\n",
       "Signif. codes:  0 ‘***’ 0.001 ‘**’ 0.01 ‘*’ 0.05 ‘.’ 0.1 ‘ ’ 1"
      ]
     },
     "metadata": {},
     "output_type": "display_data"
    }
   ],
   "source": [
    "fit <- aov(value ~ treatment, data=df2)\n",
    "summary(fit)"
   ]
  },
  {
   "cell_type": "markdown",
   "metadata": {},
   "source": [
    "## Multiple comparison procedures"
   ]
  },
  {
   "cell_type": "code",
   "execution_count": 167,
   "metadata": {},
   "outputs": [
    {
     "data": {
      "text/plain": [
       "\n",
       "\tPairwise comparisons using t tests with pooled SD \n",
       "\n",
       "data:  df2$value and df2$treatment \n",
       "\n",
       "   t1     t2    \n",
       "t2 0.0013 -     \n",
       "t3 0.0300 0.0300\n",
       "\n",
       "P value adjustment method: none "
      ]
     },
     "metadata": {},
     "output_type": "display_data"
    }
   ],
   "source": [
    "pairwise.t.test(df2$value, df2$treatment, p.adjust.method = \"none\")"
   ]
  },
  {
   "cell_type": "code",
   "execution_count": 168,
   "metadata": {},
   "outputs": [
    {
     "data": {
      "text/plain": [
       "\n",
       "\tPairwise comparisons using t tests with pooled SD \n",
       "\n",
       "data:  df2$value and df2$treatment \n",
       "\n",
       "   t1     t2    \n",
       "t2 0.0039 -     \n",
       "t3 0.0901 0.0901\n",
       "\n",
       "P value adjustment method: bonferroni "
      ]
     },
     "metadata": {},
     "output_type": "display_data"
    }
   ],
   "source": [
    "pairwise.t.test(df2$value, df2$treatment, p.adjust.method = \"bonferroni\")"
   ]
  },
  {
   "cell_type": "markdown",
   "metadata": {},
   "source": [
    "### Duncan multiple range test\n",
    "\n",
    "We will not use this test as it does not properly control for Type 1 error. We suggest you use TukeyHSD instead."
   ]
  },
  {
   "cell_type": "markdown",
   "metadata": {},
   "source": [
    "### Tukey's method"
   ]
  },
  {
   "cell_type": "code",
   "execution_count": 175,
   "metadata": {},
   "outputs": [
    {
     "data": {
      "text/plain": [
       "  Tukey multiple comparisons of means\n",
       "    95% family-wise confidence level\n",
       "\n",
       "Fit: aov(formula = value ~ treatment, data = df2)\n",
       "\n",
       "$treatment\n",
       "      diff        lwr        upr     p adj\n",
       "t2-t1    8  3.6608047 12.3391953 0.0031658\n",
       "t3-t1    4 -0.3391953  8.3391953 0.0673680\n",
       "t3-t2   -4 -8.3391953  0.3391953 0.0673680\n"
      ]
     },
     "metadata": {},
     "output_type": "display_data"
    }
   ],
   "source": [
    "TukeyHSD(fit)"
   ]
  },
  {
   "cell_type": "markdown",
   "metadata": {},
   "source": [
    "## Contrasts"
   ]
  },
  {
   "cell_type": "markdown",
   "metadata": {},
   "source": [
    "In the regular one-way ANOVA, comparisons are made between treatments and the global mean. Other comparisons are possible, for example, between the mean of treatment 1 and the mean of treatments 2, 3 and 4. These alternative comparisons are known as contrasts. We show how to get different contrasts in R here."
   ]
  },
  {
   "cell_type": "code",
   "execution_count": 190,
   "metadata": {},
   "outputs": [
    {
     "data": {
      "text/html": [
       "<ol class=list-inline>\n",
       "\t<li>'t1'</li>\n",
       "\t<li>'t2'</li>\n",
       "\t<li>'t3'</li>\n",
       "</ol>\n"
      ],
      "text/latex": [
       "\\begin{enumerate*}\n",
       "\\item 't1'\n",
       "\\item 't2'\n",
       "\\item 't3'\n",
       "\\end{enumerate*}\n"
      ],
      "text/markdown": [
       "1. 't1'\n",
       "2. 't2'\n",
       "3. 't3'\n",
       "\n",
       "\n"
      ],
      "text/plain": [
       "[1] \"t1\" \"t2\" \"t3\""
      ]
     },
     "metadata": {},
     "output_type": "display_data"
    }
   ],
   "source": [
    "levels(df2$treatment)"
   ]
  },
  {
   "cell_type": "markdown",
   "metadata": {},
   "source": [
    "### Standard ANOVA"
   ]
  },
  {
   "cell_type": "code",
   "execution_count": null,
   "metadata": {
    "collapsed": true
   },
   "outputs": [],
   "source": [
    "            Df Sum Sq Mean Sq F value  Pr(>F)   \n",
    "treatment    2     96      48      16 0.00394 **\n",
    "Residuals    6     18       3                   \n",
    "---\n",
    "Signif. codes:  0 ‘***’ 0.001 ‘**’ 0.01 ‘*’ 0.05 ‘.’ 0.1 ‘ ’ 1"
   ]
  },
  {
   "cell_type": "markdown",
   "metadata": {},
   "source": [
    "### Zero-sum contrasts"
   ]
  },
  {
   "cell_type": "code",
   "execution_count": 253,
   "metadata": {
    "collapsed": true
   },
   "outputs": [],
   "source": [
    "mat <- contr.sum(3)"
   ]
  },
  {
   "cell_type": "code",
   "execution_count": 254,
   "metadata": {},
   "outputs": [
    {
     "data": {
      "text/html": [
       "<table>\n",
       "<tbody>\n",
       "\t<tr><th scope=row>1</th><td> 1</td><td> 0</td></tr>\n",
       "\t<tr><th scope=row>2</th><td> 0</td><td> 1</td></tr>\n",
       "\t<tr><th scope=row>3</th><td>-1</td><td>-1</td></tr>\n",
       "</tbody>\n",
       "</table>\n"
      ],
      "text/latex": [
       "\\begin{tabular}{r|ll}\n",
       "\t1 &  1 &  0\\\\\n",
       "\t2 &  0 &  1\\\\\n",
       "\t3 & -1 & -1\\\\\n",
       "\\end{tabular}\n"
      ],
      "text/markdown": [
       "\n",
       "| 1 |  1 |  0 | \n",
       "| 2 |  0 |  1 | \n",
       "| 3 | -1 | -1 | \n",
       "\n",
       "\n"
      ],
      "text/plain": [
       "  [,1] [,2]\n",
       "1  1    0  \n",
       "2  0    1  \n",
       "3 -1   -1  "
      ]
     },
     "metadata": {},
     "output_type": "display_data"
    }
   ],
   "source": [
    "mat"
   ]
  },
  {
   "cell_type": "code",
   "execution_count": 255,
   "metadata": {
    "collapsed": true
   },
   "outputs": [],
   "source": [
    "contrasts(df2$treatment) <- mat"
   ]
  },
  {
   "cell_type": "code",
   "execution_count": 256,
   "metadata": {
    "collapsed": true
   },
   "outputs": [],
   "source": [
    "m <- aov(value ~ treatment, df2)"
   ]
  },
  {
   "cell_type": "code",
   "execution_count": 257,
   "metadata": {},
   "outputs": [
    {
     "data": {
      "text/plain": [
       "            Df Sum Sq Mean Sq F value  Pr(>F)   \n",
       "treatment    2     96      48      16 0.00394 **\n",
       "Residuals    6     18       3                   \n",
       "---\n",
       "Signif. codes:  0 ‘***’ 0.001 ‘**’ 0.01 ‘*’ 0.05 ‘.’ 0.1 ‘ ’ 1"
      ]
     },
     "metadata": {},
     "output_type": "display_data"
    }
   ],
   "source": [
    "summary(m)"
   ]
  },
  {
   "cell_type": "code",
   "execution_count": 260,
   "metadata": {},
   "outputs": [
    {
     "data": {
      "text/plain": [
       "                             Df Sum Sq Mean Sq F value  Pr(>F)   \n",
       "treatment                     2     96      48      16 0.00394 **\n",
       "  treatment: T2 vs T1 and T3  1     24      24       8 0.03002 * \n",
       "  treatment: T1 vs T2 and T3  1     72      72      24 0.00271 **\n",
       "Residuals                     6     18       3                   \n",
       "---\n",
       "Signif. codes:  0 ‘***’ 0.001 ‘**’ 0.01 ‘*’ 0.05 ‘.’ 0.1 ‘ ’ 1"
      ]
     },
     "metadata": {},
     "output_type": "display_data"
    }
   ],
   "source": [
    "summary.aov(m, split=list(treatment=list(\"T2 vs T1 and T3\"=1, \"T1 vs T2 and T3\" = 2))) "
   ]
  },
  {
   "cell_type": "code",
   "execution_count": 225,
   "metadata": {},
   "outputs": [
    {
     "data": {
      "text/plain": [
       "\n",
       "\tWelch Two Sample t-test\n",
       "\n",
       "data:  df$t2 and df$t3\n",
       "t = 3.0984, df = 2.9412, p-value = 0.05479\n",
       "alternative hypothesis: true difference in means is not equal to 0\n",
       "95 percent confidence interval:\n",
       " -0.1553995  8.1553995\n",
       "sample estimates:\n",
       "mean of x mean of y \n",
       "       20        16 \n"
      ]
     },
     "metadata": {},
     "output_type": "display_data"
    }
   ],
   "source": [
    "t.test(df$t2, df$t3)"
   ]
  },
  {
   "cell_type": "markdown",
   "metadata": {},
   "source": [
    "### Polynomial contrasts\n",
    "\n",
    "If the categorical variable is ordinal, we can use polynomial contrasts to look for a trend."
   ]
  },
  {
   "cell_type": "code",
   "execution_count": 228,
   "metadata": {},
   "outputs": [
    {
     "data": {
      "text/html": [
       "<table>\n",
       "<thead><tr><th scope=col>a1</th><th scope=col>a2</th><th scope=col>a3</th></tr></thead>\n",
       "<tbody>\n",
       "\t<tr><td>24.4</td><td>25.8</td><td>26.1</td></tr>\n",
       "\t<tr><td>23.0</td><td>25.6</td><td>27.7</td></tr>\n",
       "\t<tr><td>25.4</td><td>28.2</td><td>21.8</td></tr>\n",
       "\t<tr><td>24.8</td><td>22.6</td><td>23.9</td></tr>\n",
       "\t<tr><td>23.6</td><td>22.0</td><td>27.7</td></tr>\n",
       "\t<tr><td>25.0</td><td>23.8</td><td>22.6</td></tr>\n",
       "\t<tr><td>23.4</td><td>27.3</td><td>26.0</td></tr>\n",
       "\t<tr><td>22.5</td><td>22.8</td><td>27.4</td></tr>\n",
       "\t<tr><td>21.7</td><td>25.4</td><td>26.6</td></tr>\n",
       "\t<tr><td>26.2</td><td>26.1</td><td>28.2</td></tr>\n",
       "</tbody>\n",
       "</table>\n"
      ],
      "text/latex": [
       "\\begin{tabular}{r|lll}\n",
       " a1 & a2 & a3\\\\\n",
       "\\hline\n",
       "\t 24.4 & 25.8 & 26.1\\\\\n",
       "\t 23.0 & 25.6 & 27.7\\\\\n",
       "\t 25.4 & 28.2 & 21.8\\\\\n",
       "\t 24.8 & 22.6 & 23.9\\\\\n",
       "\t 23.6 & 22.0 & 27.7\\\\\n",
       "\t 25.0 & 23.8 & 22.6\\\\\n",
       "\t 23.4 & 27.3 & 26.0\\\\\n",
       "\t 22.5 & 22.8 & 27.4\\\\\n",
       "\t 21.7 & 25.4 & 26.6\\\\\n",
       "\t 26.2 & 26.1 & 28.2\\\\\n",
       "\\end{tabular}\n"
      ],
      "text/markdown": [
       "\n",
       "a1 | a2 | a3 | \n",
       "|---|---|---|---|---|---|---|---|---|---|\n",
       "| 24.4 | 25.8 | 26.1 | \n",
       "| 23.0 | 25.6 | 27.7 | \n",
       "| 25.4 | 28.2 | 21.8 | \n",
       "| 24.8 | 22.6 | 23.9 | \n",
       "| 23.6 | 22.0 | 27.7 | \n",
       "| 25.0 | 23.8 | 22.6 | \n",
       "| 23.4 | 27.3 | 26.0 | \n",
       "| 22.5 | 22.8 | 27.4 | \n",
       "| 21.7 | 25.4 | 26.6 | \n",
       "| 26.2 | 26.1 | 28.2 | \n",
       "\n",
       "\n"
      ],
      "text/plain": [
       "   a1   a2   a3  \n",
       "1  24.4 25.8 26.1\n",
       "2  23.0 25.6 27.7\n",
       "3  25.4 28.2 21.8\n",
       "4  24.8 22.6 23.9\n",
       "5  23.6 22.0 27.7\n",
       "6  25.0 23.8 22.6\n",
       "7  23.4 27.3 26.0\n",
       "8  22.5 22.8 27.4\n",
       "9  21.7 25.4 26.6\n",
       "10 26.2 26.1 28.2"
      ]
     },
     "metadata": {},
     "output_type": "display_data"
    }
   ],
   "source": [
    "a1 <- c(24.4, 23.0, 25.4, 24.8, 23.6, 25.0, 23.4, 22.5, 21.7, 26.2)\n",
    "a2 <- c(25.8, 25.6, 28.2, 22.6, 22.0, 23.8, 27.3, 22.8, 25.4, 26.1)\n",
    "a3 <- c(26.1, 27.7, 21.8, 23.9, 27.7, 22.6, 26.0, 27.4, 26.6, 28.2)\n",
    "\n",
    "pressure <- data.frame(a1=a1, a2=a2, a3=a3)\n",
    "pressure"
   ]
  },
  {
   "cell_type": "code",
   "execution_count": 233,
   "metadata": {},
   "outputs": [
    {
     "data": {},
     "metadata": {},
     "output_type": "display_data"
    },
    {
     "data": {
      "image/png": "[encoded data removed]",
      "text/plain": [
       "plot without title"
      ]
     },
     "metadata": {},
     "output_type": "display_data"
    }
   ],
   "source": [
    "df3 <- pressure %>% gather(age.group, value)\n",
    "df3$age.group <- as.factor(df3$age.group)\n",
    "ggplot(df3, aes(x=age.group, y=value)) +\n",
    "geom_boxplot()"
   ]
  },
  {
   "cell_type": "markdown",
   "metadata": {},
   "source": [
    "### Regular ANOVA"
   ]
  },
  {
   "cell_type": "code",
   "execution_count": 234,
   "metadata": {},
   "outputs": [
    {
     "data": {
      "text/plain": [
       "            Df Sum Sq Mean Sq F value Pr(>F)\n",
       "age.group    2  16.22   8.112   2.132  0.138\n",
       "Residuals   27 102.74   3.805               "
      ]
     },
     "metadata": {},
     "output_type": "display_data"
    }
   ],
   "source": [
    "model <- aov(value ~ age.group, data=df3)\n",
    "summary(model)"
   ]
  },
  {
   "cell_type": "markdown",
   "metadata": {},
   "source": [
    "### Using polynomial contrasts to test for linear and quadratic trends"
   ]
  },
  {
   "cell_type": "code",
   "execution_count": 237,
   "metadata": {},
   "outputs": [
    {
     "data": {
      "text/plain": [
       "                       Df Sum Sq Mean Sq F value Pr(>F)  \n",
       "age.group               2  16.22   8.112   2.132 0.1382  \n",
       "  age.group: Linear     1  16.20  16.200   4.257 0.0488 *\n",
       "  age.group: Quadratic  1   0.02   0.024   0.006 0.9373  \n",
       "Residuals              27 102.74   3.805                 \n",
       "---\n",
       "Signif. codes:  0 ‘***’ 0.001 ‘**’ 0.01 ‘*’ 0.05 ‘.’ 0.1 ‘ ’ 1"
      ]
     },
     "metadata": {},
     "output_type": "display_data"
    }
   ],
   "source": [
    "c1 <- c(-1, 0, 1)\n",
    "c2 <- c(0.5, -1, 0.5)\n",
    "mat <- cbind(c1,c2)\n",
    "contrasts(df3$age.group) <- mat\n",
    "model1 <- aov(value ~ age.group, data = df3)\n",
    "summary.aov(model1, split=list(age.group=list(\"Linear\"=1, \"Quadratic\" = 2)))"
   ]
  },
  {
   "cell_type": "markdown",
   "metadata": {},
   "source": [
    "### We can also generate the contrast matrix automatically"
   ]
  },
  {
   "cell_type": "code",
   "execution_count": 251,
   "metadata": {},
   "outputs": [
    {
     "data": {
      "text/plain": [
       "                       Df Sum Sq Mean Sq F value Pr(>F)  \n",
       "age.group               2  16.22   8.112   2.132 0.1382  \n",
       "  age.group: Linear     1  16.20  16.200   4.257 0.0488 *\n",
       "  age.group: Quadratic  1   0.02   0.024   0.006 0.9373  \n",
       "Residuals              27 102.74   3.805                 \n",
       "---\n",
       "Signif. codes:  0 ‘***’ 0.001 ‘**’ 0.01 ‘*’ 0.05 ‘.’ 0.1 ‘ ’ 1"
      ]
     },
     "metadata": {},
     "output_type": "display_data"
    }
   ],
   "source": [
    "mat <- contr.poly(3)\n",
    "contrasts(df3$age.group) <- mat\n",
    "model1 <- aov(value ~ age.group, data = df3)\n",
    "summary.aov(model1, split=list(age.group=list(\"Linear\"=1, \"Quadratic\" = 2)))"
   ]
  },
  {
   "cell_type": "markdown",
   "metadata": {},
   "source": [
    "### Conclusion\n",
    "\n",
    "There is evidence for a linear trend in values across age groups."
   ]
  },
  {
   "cell_type": "markdown",
   "metadata": {},
   "source": [
    "## Exercise"
   ]
  },
  {
   "cell_type": "code",
   "execution_count": 163,
   "metadata": {},
   "outputs": [
    {
     "data": {},
     "metadata": {},
     "output_type": "display_data"
    },
    {
     "data": {
      "image/png": "[encoded data removed]",
      "text/plain": [
       "plot without title"
      ]
     },
     "metadata": {},
     "output_type": "display_data"
    }
   ],
   "source": [
    "ggplot(chickwts, aes(x=feed, y=weight)) + geom_boxplot()"
   ]
  },
  {
   "cell_type": "markdown",
   "metadata": {},
   "source": [
    "**1**. Perform a one-way analysis of variance for the effect of diet on chick weights in the `chickwts` data set."
   ]
  },
  {
   "cell_type": "code",
   "execution_count": null,
   "metadata": {
    "collapsed": true
   },
   "outputs": [],
   "source": []
  },
  {
   "cell_type": "markdown",
   "metadata": {},
   "source": [
    "**2**. Find which pairwise comparisons are statistically significant using Tukey's correction."
   ]
  },
  {
   "cell_type": "code",
   "execution_count": null,
   "metadata": {
    "collapsed": true
   },
   "outputs": [],
   "source": []
  }
 ],
 "metadata": {
  "kernelspec": {
   "display_name": "R",
   "language": "R",
   "name": "ir"
  },
  "language_info": {
   "codemirror_mode": "r",
   "file_extension": ".r",
   "mimetype": "text/x-r-source",
   "name": "R",
   "pygments_lexer": "r",
   "version": "3.4.0"
  }
 },
 "nbformat": 4,
 "nbformat_minor": 2
}
