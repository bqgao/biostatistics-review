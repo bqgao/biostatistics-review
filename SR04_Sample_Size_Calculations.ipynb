{
 "cells": [
  {
   "cell_type": "markdown",
   "metadata": {},
   "source": [
    "# Statistics review 4: Sample Size calculations\n",
    "\n",
    "R code accompanying [paper](https://www.ncbi.nlm.nih.gov/pmc/articles/PMC137461/pdf/cc1521.pdf)\n",
    "\n",
    "## Key learning points\n",
    "\n",
    "- Studies must be adequately powered to achieve their aims, and appropriate sample size calculations should be carried out at the design stage of any study.\n",
    "- Estimation of the expected size of effect can be difficult and should, wherever possible, be based on existing evidence and clinical expertise. It is important that any estimates be large enough to be clinically important while also remaining plausible.\n",
    "- Many apparently null studies may be under-powered rather than genuinely demonstrating no difference between groups; absence of evidence is not evidence of absence."
   ]
  },
  {
   "cell_type": "code",
   "execution_count": 1,
   "metadata": {
    "collapsed": true
   },
   "outputs": [],
   "source": [
    "suppressPackageStartupMessages(library(tidyverse))"
   ]
  },
  {
   "cell_type": "code",
   "execution_count": 40,
   "metadata": {
    "collapsed": true
   },
   "outputs": [],
   "source": [
    "options(repr.plot.width=4, repr.plot.height=3)"
   ]
  },
  {
   "cell_type": "markdown",
   "metadata": {},
   "source": [
    "## Power\n",
    "\n",
    "Power is is the probability of correctly identifying a difference between the two groups in the study sample when one genuinely exists in the populations from which the samples were drawn."
   ]
  },
  {
   "cell_type": "markdown",
   "metadata": {},
   "source": [
    "### Problem with small sample sizes"
   ]
  },
  {
   "cell_type": "markdown",
   "metadata": {},
   "source": [
    "Suppose that a drug can lower blood pressure by 10 mm Hg on average, and that the standard deviation of the drug effect is also 10 mm Hg. We will run some simulations with two populations each of size $n$ to see what sample size is needed to get a power of 0.9."
   ]
  },
  {
   "cell_type": "code",
   "execution_count": 26,
   "metadata": {},
   "outputs": [],
   "source": [
    "n.expts <- 1000\n",
    "alpha <- 0.05\n",
    "\n",
    "ns <- seq(3, 25, by=1)\n",
    "\n",
    "data <- matrix(NA, nrow=length(ns), ncol=2, dimnames=list(NULL, c(\"n\", \"power\")))\n",
    "\n",
    "for (n in seq(3, 25, by=1)) {\n",
    "    success <- 0\n",
    "    for (expt in 1:n.expts) {\n",
    "        effect <- rnorm(n, mean=10, sd=10)\n",
    "        p <- t.test(effect)$p.value\n",
    "        if (p < alpha) {\n",
    "            success <- success + 1\n",
    "        }\n",
    "    }\n",
    "    data[n-2, 1] <- n\n",
    "    data[n-2, 2] <- success/n.expts\n",
    "}"
   ]
  },
  {
   "cell_type": "code",
   "execution_count": 27,
   "metadata": {},
   "outputs": [
    {
     "data": {
      "text/html": [
       "<table>\n",
       "<thead><tr><th scope=col>n</th><th scope=col>power</th></tr></thead>\n",
       "<tbody>\n",
       "\t<tr><td> 3   </td><td>0.172</td></tr>\n",
       "\t<tr><td> 4   </td><td>0.309</td></tr>\n",
       "\t<tr><td> 5   </td><td>0.397</td></tr>\n",
       "\t<tr><td> 6   </td><td>0.510</td></tr>\n",
       "\t<tr><td> 7   </td><td>0.585</td></tr>\n",
       "\t<tr><td> 8   </td><td>0.689</td></tr>\n",
       "\t<tr><td> 9   </td><td>0.769</td></tr>\n",
       "\t<tr><td>10   </td><td>0.788</td></tr>\n",
       "\t<tr><td>11   </td><td>0.842</td></tr>\n",
       "\t<tr><td>12   </td><td>0.883</td></tr>\n",
       "\t<tr><td>13   </td><td>0.911</td></tr>\n",
       "\t<tr><td>14   </td><td>0.940</td></tr>\n",
       "\t<tr><td>15   </td><td>0.948</td></tr>\n",
       "\t<tr><td>16   </td><td>0.968</td></tr>\n",
       "\t<tr><td>17   </td><td>0.972</td></tr>\n",
       "\t<tr><td>18   </td><td>0.974</td></tr>\n",
       "\t<tr><td>19   </td><td>0.978</td></tr>\n",
       "\t<tr><td>20   </td><td>0.989</td></tr>\n",
       "\t<tr><td>21   </td><td>0.993</td></tr>\n",
       "\t<tr><td>22   </td><td>0.996</td></tr>\n",
       "\t<tr><td>23   </td><td>0.996</td></tr>\n",
       "\t<tr><td>24   </td><td>0.995</td></tr>\n",
       "\t<tr><td>25   </td><td>0.998</td></tr>\n",
       "</tbody>\n",
       "</table>\n"
      ],
      "text/latex": [
       "\\begin{tabular}{r|ll}\n",
       " n & power\\\\\n",
       "\\hline\n",
       "\t  3    & 0.172\\\\\n",
       "\t  4    & 0.309\\\\\n",
       "\t  5    & 0.397\\\\\n",
       "\t  6    & 0.510\\\\\n",
       "\t  7    & 0.585\\\\\n",
       "\t  8    & 0.689\\\\\n",
       "\t  9    & 0.769\\\\\n",
       "\t 10    & 0.788\\\\\n",
       "\t 11    & 0.842\\\\\n",
       "\t 12    & 0.883\\\\\n",
       "\t 13    & 0.911\\\\\n",
       "\t 14    & 0.940\\\\\n",
       "\t 15    & 0.948\\\\\n",
       "\t 16    & 0.968\\\\\n",
       "\t 17    & 0.972\\\\\n",
       "\t 18    & 0.974\\\\\n",
       "\t 19    & 0.978\\\\\n",
       "\t 20    & 0.989\\\\\n",
       "\t 21    & 0.993\\\\\n",
       "\t 22    & 0.996\\\\\n",
       "\t 23    & 0.996\\\\\n",
       "\t 24    & 0.995\\\\\n",
       "\t 25    & 0.998\\\\\n",
       "\\end{tabular}\n"
      ],
      "text/markdown": [
       "\n",
       "n | power | \n",
       "|---|---|---|---|---|---|---|---|---|---|---|---|---|---|---|---|---|---|---|---|---|---|---|\n",
       "|  3    | 0.172 | \n",
       "|  4    | 0.309 | \n",
       "|  5    | 0.397 | \n",
       "|  6    | 0.510 | \n",
       "|  7    | 0.585 | \n",
       "|  8    | 0.689 | \n",
       "|  9    | 0.769 | \n",
       "| 10    | 0.788 | \n",
       "| 11    | 0.842 | \n",
       "| 12    | 0.883 | \n",
       "| 13    | 0.911 | \n",
       "| 14    | 0.940 | \n",
       "| 15    | 0.948 | \n",
       "| 16    | 0.968 | \n",
       "| 17    | 0.972 | \n",
       "| 18    | 0.974 | \n",
       "| 19    | 0.978 | \n",
       "| 20    | 0.989 | \n",
       "| 21    | 0.993 | \n",
       "| 22    | 0.996 | \n",
       "| 23    | 0.996 | \n",
       "| 24    | 0.995 | \n",
       "| 25    | 0.998 | \n",
       "\n",
       "\n"
      ],
      "text/plain": [
       "   n  power\n",
       "1   3 0.172\n",
       "2   4 0.309\n",
       "3   5 0.397\n",
       "4   6 0.510\n",
       "5   7 0.585\n",
       "6   8 0.689\n",
       "7   9 0.769\n",
       "8  10 0.788\n",
       "9  11 0.842\n",
       "10 12 0.883\n",
       "11 13 0.911\n",
       "12 14 0.940\n",
       "13 15 0.948\n",
       "14 16 0.968\n",
       "15 17 0.972\n",
       "16 18 0.974\n",
       "17 19 0.978\n",
       "18 20 0.989\n",
       "19 21 0.993\n",
       "20 22 0.996\n",
       "21 23 0.996\n",
       "22 24 0.995\n",
       "23 25 0.998"
      ]
     },
     "metadata": {},
     "output_type": "display_data"
    }
   ],
   "source": [
    "as.data.frame(data)"
   ]
  },
  {
   "cell_type": "markdown",
   "metadata": {},
   "source": [
    "### Interpretation of simulation results\n",
    "\n",
    "It appears as if a sample size of 13 will give a power of 0.9 with the given effect size. "
   ]
  },
  {
   "cell_type": "markdown",
   "metadata": {},
   "source": [
    "## Factors that affect sample size calculations\n",
    "\n",
    "The following affect sample size calculations\n",
    "\n",
    "- p value threshold (a 0.01 threshold requires a larger sample size than a 0.05 threshold)\n",
    "- power (0.9 power requires a larger sample size than 0.8 power)\n",
    "- effect size (small effect sizes require a larger sample size than large effect sizes)"
   ]
  },
  {
   "cell_type": "markdown",
   "metadata": {},
   "source": [
    "### Using a library to calculate power\n",
    "\n",
    "One of the most convenient libraries in R for simple sample size calculations is `pwr`. We will use it to illustrate many of the calculations done in the paper."
   ]
  },
  {
   "cell_type": "code",
   "execution_count": 28,
   "metadata": {
    "collapsed": true
   },
   "outputs": [],
   "source": [
    "library(pwr)"
   ]
  },
  {
   "cell_type": "markdown",
   "metadata": {},
   "source": [
    "#### Check simulation results"
   ]
  },
  {
   "cell_type": "code",
   "execution_count": 30,
   "metadata": {},
   "outputs": [
    {
     "data": {
      "text/plain": [
       "\n",
       "     One-sample t test power calculation \n",
       "\n",
       "              n = 12.58546\n",
       "              d = 1\n",
       "      sig.level = 0.05\n",
       "          power = 0.9\n",
       "    alternative = two.sided\n"
      ]
     },
     "metadata": {},
     "output_type": "display_data"
    }
   ],
   "source": [
    "d <- 10/10 # effect size is change over standard deviaiton\n",
    "pwr.t.test(d = d, sig.level = 0.05, power = 0.9, type = \"one.sample\")"
   ]
  },
  {
   "cell_type": "markdown",
   "metadata": {},
   "source": [
    "#### Small p-value thresholds need larger sample sizes"
   ]
  },
  {
   "cell_type": "code",
   "execution_count": 31,
   "metadata": {},
   "outputs": [
    {
     "data": {
      "text/plain": [
       "\n",
       "     One-sample t test power calculation \n",
       "\n",
       "              n = 18.30346\n",
       "              d = 1\n",
       "      sig.level = 0.01\n",
       "          power = 0.9\n",
       "    alternative = two.sided\n"
      ]
     },
     "metadata": {},
     "output_type": "display_data"
    }
   ],
   "source": [
    "pwr.t.test(d = 1, sig.level = 0.01, power = 0.9, type = \"one.sample\")"
   ]
  },
  {
   "cell_type": "code",
   "execution_count": 32,
   "metadata": {},
   "outputs": [
    {
     "data": {
      "text/plain": [
       "\n",
       "     One-sample t test power calculation \n",
       "\n",
       "              n = 10.08101\n",
       "              d = 1\n",
       "      sig.level = 0.1\n",
       "          power = 0.9\n",
       "    alternative = two.sided\n"
      ]
     },
     "metadata": {},
     "output_type": "display_data"
    }
   ],
   "source": [
    "pwr.t.test(d = 1, sig.level = 0.1, power = 0.9, type = \"one.sample\")"
   ]
  },
  {
   "cell_type": "markdown",
   "metadata": {},
   "source": [
    "#### Large power needs larger sample sizes"
   ]
  },
  {
   "cell_type": "code",
   "execution_count": 33,
   "metadata": {},
   "outputs": [
    {
     "data": {
      "text/plain": [
       "\n",
       "     One-sample t test power calculation \n",
       "\n",
       "              n = 9.93785\n",
       "              d = 1\n",
       "      sig.level = 0.05\n",
       "          power = 0.8\n",
       "    alternative = two.sided\n"
      ]
     },
     "metadata": {},
     "output_type": "display_data"
    }
   ],
   "source": [
    "pwr.t.test(d = 1, sig.level = 0.05, power = 0.8, type = \"one.sample\")"
   ]
  },
  {
   "cell_type": "code",
   "execution_count": 34,
   "metadata": {},
   "outputs": [
    {
     "data": {
      "text/plain": [
       "\n",
       "     One-sample t test power calculation \n",
       "\n",
       "              n = 12.58546\n",
       "              d = 1\n",
       "      sig.level = 0.05\n",
       "          power = 0.9\n",
       "    alternative = two.sided\n"
      ]
     },
     "metadata": {},
     "output_type": "display_data"
    }
   ],
   "source": [
    "pwr.t.test(d = 1, sig.level = 0.05, power = 0.9, type = \"one.sample\")"
   ]
  },
  {
   "cell_type": "markdown",
   "metadata": {},
   "source": [
    "#### Small effect size needs larger sample size"
   ]
  },
  {
   "cell_type": "code",
   "execution_count": 35,
   "metadata": {},
   "outputs": [
    {
     "data": {
      "text/plain": [
       "\n",
       "     One-sample t test power calculation \n",
       "\n",
       "              n = 1052.665\n",
       "              d = 0.1\n",
       "      sig.level = 0.05\n",
       "          power = 0.9\n",
       "    alternative = two.sided\n"
      ]
     },
     "metadata": {},
     "output_type": "display_data"
    }
   ],
   "source": [
    "pwr.t.test(d = 0.1, sig.level = 0.05, power = 0.9, type = \"one.sample\")"
   ]
  },
  {
   "cell_type": "code",
   "execution_count": 36,
   "metadata": {},
   "outputs": [
    {
     "data": {
      "text/plain": [
       "\n",
       "     One-sample t test power calculation \n",
       "\n",
       "              n = 12.58546\n",
       "              d = 1\n",
       "      sig.level = 0.05\n",
       "          power = 0.9\n",
       "    alternative = two.sided\n"
      ]
     },
     "metadata": {},
     "output_type": "display_data"
    }
   ],
   "source": [
    "pwr.t.test(d = 1.0, sig.level = 0.05, power = 0.9, type = \"one.sample\")"
   ]
  },
  {
   "cell_type": "markdown",
   "metadata": {},
   "source": [
    "Note that an effect size of 1.0 is considered to be large. The before/after changes look like this when d=1."
   ]
  },
  {
   "cell_type": "code",
   "execution_count": 46,
   "metadata": {
    "collapsed": true
   },
   "outputs": [],
   "source": [
    "x <- seq(-3, 4, length.out = 100)\n",
    "y1 <- dnorm(x, 0, 1)\n",
    "y2 <- dnorm(x, 1, 1)\n",
    "df <- data.frame(x=x, y1=y1, y2=y2)"
   ]
  },
  {
   "cell_type": "code",
   "execution_count": 47,
   "metadata": {},
   "outputs": [
    {
     "data": {},
     "metadata": {},
     "output_type": "display_data"
    },
    {
     "data": {
      "image/png": "[encoded data removed]",
      "text/plain": [
       "plot without title"
      ]
     },
     "metadata": {},
     "output_type": "display_data"
    }
   ],
   "source": [
    "ggplot(df, aes(x=x, y=y1)) +\n",
    "geom_line() + \n",
    "geom_line(aes(y = y2), color=\"red\")"
   ]
  },
  {
   "cell_type": "markdown",
   "metadata": {},
   "source": [
    "### Sample size calculation for a difference in means (equal sized groups)"
   ]
  },
  {
   "cell_type": "code",
   "execution_count": 48,
   "metadata": {},
   "outputs": [
    {
     "data": {
      "text/plain": [
       "\n",
       "     Two-sample t test power calculation \n",
       "\n",
       "              n = 22.02109\n",
       "              d = 1\n",
       "      sig.level = 0.05\n",
       "          power = 0.9\n",
       "    alternative = two.sided\n",
       "\n",
       "NOTE: n is number in *each* group\n"
      ]
     },
     "metadata": {},
     "output_type": "display_data"
    }
   ],
   "source": [
    "pwr.t.test(d = 1.0, sig.level = 0.05, power = 0.9, type = \"two.sample\")"
   ]
  },
  {
   "cell_type": "markdown",
   "metadata": {},
   "source": [
    "### Sample size calculation for a difference in means (different sized groups)\n",
    "\n",
    "Suppose one of the treatment groups is fixed in size."
   ]
  },
  {
   "cell_type": "code",
   "execution_count": 51,
   "metadata": {},
   "outputs": [
    {
     "data": {
      "text/plain": [
       "\n",
       "     t test power calculation \n",
       "\n",
       "             n1 = 20\n",
       "             n2 = 24.47031\n",
       "              d = 1\n",
       "      sig.level = 0.05\n",
       "          power = 0.9\n",
       "    alternative = two.sided\n"
      ]
     },
     "metadata": {},
     "output_type": "display_data"
    }
   ],
   "source": [
    "pwr.t2n.test(d = 1.0, n1 = 20, sig.level = 0.05, power = 0.9)"
   ]
  },
  {
   "cell_type": "markdown",
   "metadata": {},
   "source": [
    "### Sample size calculation for a difference in proportions (equal sized groups)"
   ]
  },
  {
   "cell_type": "code",
   "execution_count": 55,
   "metadata": {},
   "outputs": [
    {
     "data": {
      "text/plain": [
       "\n",
       "     Difference of proportion power calculation for binomial distribution (arcsine transformation) \n",
       "\n",
       "              h = 0.4082483\n",
       "              n = 126.089\n",
       "      sig.level = 0.05\n",
       "          power = 0.9\n",
       "    alternative = two.sided\n",
       "\n",
       "NOTE: same sample sizes\n"
      ]
     },
     "metadata": {},
     "output_type": "display_data"
    }
   ],
   "source": [
    "p1 <- 0.4\n",
    "p2 <- 0.6\n",
    "p <- mean(p1, p2)\n",
    "h <- (p1 - p2)/sqrt(p*(1-p))\n",
    "\n",
    "pwr.2p.test(h = h, sig.level = 0.05, power = 0.9)"
   ]
  },
  {
   "cell_type": "markdown",
   "metadata": {},
   "source": [
    "### Sample size calculation for a difference in proportions (different sized groups)"
   ]
  },
  {
   "cell_type": "code",
   "execution_count": 56,
   "metadata": {},
   "outputs": [
    {
     "data": {
      "text/plain": [
       "\n",
       "     difference of proportion power calculation for binomial distribution (arcsine transformation) \n",
       "\n",
       "              h = 0.4082483\n",
       "             n1 = 100\n",
       "             n2 = 170.5958\n",
       "      sig.level = 0.05\n",
       "          power = 0.9\n",
       "    alternative = two.sided\n",
       "\n",
       "NOTE: different sample sizes\n"
      ]
     },
     "metadata": {},
     "output_type": "display_data"
    }
   ],
   "source": [
    "p1 <- 0.4\n",
    "p2 <- 0.6\n",
    "p <- mean(p1, p2)\n",
    "h <- (p1 - p2)/sqrt(p*(1-p))\n",
    "\n",
    "pwr.2p2n.test(h = h, n1 = 100, sig.level = 0.05, power = 0.9)"
   ]
  },
  {
   "cell_type": "markdown",
   "metadata": {},
   "source": [
    "### Loss, dropout etc\n",
    "\n",
    "Obvious adjustments have to be made if loss or dropout is expected. For example, if 10% of the patients in the study are expected to be lost to follow up, we need $n/0.9$ patients to be enrolled."
   ]
  },
  {
   "cell_type": "markdown",
   "metadata": {},
   "source": [
    "## Exercises"
   ]
  },
  {
   "cell_type": "markdown",
   "metadata": {},
   "source": [
    "Suppose we are interested in whether a particular diet results in change of weight. We enroll subjects into two group - group A follows the special diet, and group B follows their regular diet (control). Suppose also that the standard deviation in both groups is the same at 25 lbs. "
   ]
  },
  {
   "cell_type": "markdown",
   "metadata": {},
   "source": [
    "**1**. If we want to detect an effect of the diet of 10 lbs or more with 0.9 power and 0.05 significance level, how many subjects do we need for each group (assume equal size groups)?"
   ]
  },
  {
   "cell_type": "code",
   "execution_count": null,
   "metadata": {
    "collapsed": true
   },
   "outputs": [],
   "source": []
  },
  {
   "cell_type": "markdown",
   "metadata": {},
   "source": [
    "**2**. If 20% of the patients are expected to drop-out before the study is completed, how many subjects would need to be enrolled for the same study design as in Ex. 1?"
   ]
  },
  {
   "cell_type": "code",
   "execution_count": null,
   "metadata": {
    "collapsed": true
   },
   "outputs": [],
   "source": []
  },
  {
   "cell_type": "markdown",
   "metadata": {},
   "source": [
    "**3** Make a graph where the x-axis shows the sample size from 10 to 100, the y-axis shows the power from 0 to 1, and plot separate curves for effect sizes of 10, 25 and 40 lbs."
   ]
  },
  {
   "cell_type": "code",
   "execution_count": null,
   "metadata": {
    "collapsed": true
   },
   "outputs": [],
   "source": []
  }
 ],
 "metadata": {
  "kernelspec": {
   "display_name": "R",
   "language": "R",
   "name": "ir"
  },
  "language_info": {
   "codemirror_mode": "r",
   "file_extension": ".r",
   "mimetype": "text/x-r-source",
   "name": "R",
   "pygments_lexer": "r",
   "version": "3.4.0"
  }
 },
 "nbformat": 4,
 "nbformat_minor": 2
}
