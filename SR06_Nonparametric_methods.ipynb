{
 "cells": [
  {
   "cell_type": "markdown",
   "metadata": {},
   "source": [
    "# Statistics review 6: Nonparametric methods\n",
    "\n",
    "R code accompanying [paper](https://www.ncbi.nlm.nih.gov/pmc/articles/PMC153434/pdf/cc1820.pdf)\n",
    "\n",
    "## Key learning points\n",
    "\n",
    "- Common nonparametric methods\n",
    "- Advantages and disadvantages of nonparametric versus parametric methods"
   ]
  },
  {
   "cell_type": "code",
   "execution_count": 1,
   "metadata": {
    "collapsed": true
   },
   "outputs": [],
   "source": [
    "suppressPackageStartupMessages(library(tidyverse))"
   ]
  },
  {
   "cell_type": "code",
   "execution_count": 8,
   "metadata": {
    "collapsed": true
   },
   "outputs": [],
   "source": [
    "options(repr.plot.width=4, repr.plot.height=3)"
   ]
  },
  {
   "cell_type": "markdown",
   "metadata": {},
   "source": [
    "## The sign test"
   ]
  },
  {
   "cell_type": "code",
   "execution_count": 9,
   "metadata": {
    "collapsed": true
   },
   "outputs": [],
   "source": [
    "rr <- c(0.75, 2.03, 2.29, 2.11, 0.80, 1.50, 0.79, 1.01, \n",
    "        1.23, 1.48, 2.45, 1.02, 1.03, 1.30, 1.54, 1.27)"
   ]
  },
  {
   "cell_type": "code",
   "execution_count": 23,
   "metadata": {},
   "outputs": [
    {
     "data": {},
     "metadata": {},
     "output_type": "display_data"
    },
    {
     "data": {
      "image/png": "[encoded data removed]",
      "text/plain": [
       "plot without title"
      ]
     },
     "metadata": {},
     "output_type": "display_data"
    }
   ],
   "source": [
    "ggplot(data.frame(rr=rr), aes(x=rr)) +\n",
    "geom_histogram(breaks=seq(0.5, 2.5, 0.25), color='gray', fill='lightgray') "
   ]
  },
  {
   "cell_type": "code",
   "execution_count": 37,
   "metadata": {},
   "outputs": [],
   "source": [
    "n <- length(rr)\n",
    "k <- sum(rr > 1)\n",
    "p <- 0.5"
   ]
  },
  {
   "cell_type": "code",
   "execution_count": 40,
   "metadata": {},
   "outputs": [
    {
     "data": {
      "text/html": [
       "3"
      ],
      "text/latex": [
       "3"
      ],
      "text/markdown": [
       "3"
      ],
      "text/plain": [
       "[1] 3"
      ]
     },
     "metadata": {},
     "output_type": "display_data"
    }
   ],
   "source": [
    "S <- min(k, n-k)\n",
    "S"
   ]
  },
  {
   "cell_type": "markdown",
   "metadata": {},
   "source": [
    "#### Calculation of p value from binomial distribution\n",
    "\n",
    "How likely are we to see 3 heads or fewer in 16 tosses of a fair coin? This is the p-value (double for two-sided test)."
   ]
  },
  {
   "cell_type": "code",
   "execution_count": 46,
   "metadata": {},
   "outputs": [
    {
     "data": {
      "text/html": [
       "0.02"
      ],
      "text/latex": [
       "0.02"
      ],
      "text/markdown": [
       "0.02"
      ],
      "text/plain": [
       "[1] 0.02"
      ]
     },
     "metadata": {},
     "output_type": "display_data"
    }
   ],
   "source": [
    "round(2 * pbinom(S, n, p), 2)"
   ]
  },
  {
   "cell_type": "markdown",
   "metadata": {},
   "source": [
    "This is the same as summing the probabilities for 0, 1, 2, and 3 heads."
   ]
  },
  {
   "cell_type": "code",
   "execution_count": 48,
   "metadata": {},
   "outputs": [
    {
     "data": {
      "text/html": [
       "0.02"
      ],
      "text/latex": [
       "0.02"
      ],
      "text/markdown": [
       "0.02"
      ],
      "text/plain": [
       "[1] 0.02"
      ]
     },
     "metadata": {},
     "output_type": "display_data"
    }
   ],
   "source": [
    "round(2 * sum(dbinom(0:S, n, p)), 2)"
   ]
  },
  {
   "cell_type": "markdown",
   "metadata": {},
   "source": [
    "## Sign test for paired data"
   ]
  },
  {
   "cell_type": "code",
   "execution_count": 49,
   "metadata": {},
   "outputs": [
    {
     "data": {
      "text/html": [
       "<table>\n",
       "<thead><tr><th scope=col>Subject</th><th scope=col>Before</th><th scope=col>After</th></tr></thead>\n",
       "<tbody>\n",
       "\t<tr><td> 1  </td><td>39.7</td><td>52.9</td></tr>\n",
       "\t<tr><td> 2  </td><td>59.1</td><td>56.7</td></tr>\n",
       "\t<tr><td> 3  </td><td>56.1</td><td>61.9</td></tr>\n",
       "\t<tr><td> 4  </td><td>57.7</td><td>71.4</td></tr>\n",
       "\t<tr><td> 5  </td><td>60.6</td><td>67.7</td></tr>\n",
       "\t<tr><td> 6  </td><td>37.8</td><td>50.0</td></tr>\n",
       "\t<tr><td> 7  </td><td>58.2</td><td>60.7</td></tr>\n",
       "\t<tr><td> 8  </td><td>33.6</td><td>51.3</td></tr>\n",
       "\t<tr><td> 9  </td><td>56.0</td><td>59.5</td></tr>\n",
       "\t<tr><td>10  </td><td>65.3</td><td>59.8</td></tr>\n",
       "</tbody>\n",
       "</table>\n"
      ],
      "text/latex": [
       "\\begin{tabular}{r|lll}\n",
       " Subject & Before & After\\\\\n",
       "\\hline\n",
       "\t  1   & 39.7 & 52.9\\\\\n",
       "\t  2   & 59.1 & 56.7\\\\\n",
       "\t  3   & 56.1 & 61.9\\\\\n",
       "\t  4   & 57.7 & 71.4\\\\\n",
       "\t  5   & 60.6 & 67.7\\\\\n",
       "\t  6   & 37.8 & 50.0\\\\\n",
       "\t  7   & 58.2 & 60.7\\\\\n",
       "\t  8   & 33.6 & 51.3\\\\\n",
       "\t  9   & 56.0 & 59.5\\\\\n",
       "\t 10   & 65.3 & 59.8\\\\\n",
       "\\end{tabular}\n"
      ],
      "text/markdown": [
       "\n",
       "Subject | Before | After | \n",
       "|---|---|---|---|---|---|---|---|---|---|\n",
       "|  1   | 39.7 | 52.9 | \n",
       "|  2   | 59.1 | 56.7 | \n",
       "|  3   | 56.1 | 61.9 | \n",
       "|  4   | 57.7 | 71.4 | \n",
       "|  5   | 60.6 | 67.7 | \n",
       "|  6   | 37.8 | 50.0 | \n",
       "|  7   | 58.2 | 60.7 | \n",
       "|  8   | 33.6 | 51.3 | \n",
       "|  9   | 56.0 | 59.5 | \n",
       "| 10   | 65.3 | 59.8 | \n",
       "\n",
       "\n"
      ],
      "text/plain": [
       "   Subject Before After\n",
       "1   1      39.7   52.9 \n",
       "2   2      59.1   56.7 \n",
       "3   3      56.1   61.9 \n",
       "4   4      57.7   71.4 \n",
       "5   5      60.6   67.7 \n",
       "6   6      37.8   50.0 \n",
       "7   7      58.2   60.7 \n",
       "8   8      33.6   51.3 \n",
       "9   9      56.0   59.5 \n",
       "10 10      65.3   59.8 "
      ]
     },
     "metadata": {},
     "output_type": "display_data"
    }
   ],
   "source": [
    "before <- c(39.7, 59.1, 56.1, 57.7, 60.6, 37.8, 58.2, 33.6, 56.0, 65.3)\n",
    "after <- c(52.9, 56.7, 61.9, 71.4, 67.7, 50.0, 60.7, 51.3, 59.5, 59.8)\n",
    "\n",
    "df <- data.frame(\"Subject\" = 1:length(before), \"Before\" = before, \"After\" = after)\n",
    "df"
   ]
  },
  {
   "cell_type": "code",
   "execution_count": 50,
   "metadata": {
    "collapsed": true
   },
   "outputs": [],
   "source": [
    "d <- df$After - df$Before\n",
    "n <- length(d)\n",
    "k <- sum(d > 0)\n",
    "S <- min(k, n-k)"
   ]
  },
  {
   "cell_type": "code",
   "execution_count": 51,
   "metadata": {},
   "outputs": [
    {
     "data": {
      "text/html": [
       "0.11"
      ],
      "text/latex": [
       "0.11"
      ],
      "text/markdown": [
       "0.11"
      ],
      "text/plain": [
       "[1] 0.11"
      ]
     },
     "metadata": {},
     "output_type": "display_data"
    }
   ],
   "source": [
    "round(2 * pbinom(S, n, p), 2)"
   ]
  },
  {
   "cell_type": "markdown",
   "metadata": {},
   "source": [
    "### Note that T test is more powerful\n",
    "\n",
    "At the cost of assuming data follow a normal distribution."
   ]
  },
  {
   "cell_type": "code",
   "execution_count": 52,
   "metadata": {},
   "outputs": [
    {
     "data": {
      "text/plain": [
       "\n",
       "\tOne Sample t-test\n",
       "\n",
       "data:  d\n",
       "t = 2.8681, df = 9, p-value = 0.01853\n",
       "alternative hypothesis: true mean is not equal to 0\n",
       "95 percent confidence interval:\n",
       "  1.432413 12.127587\n",
       "sample estimates:\n",
       "mean of x \n",
       "     6.78 \n"
      ]
     },
     "metadata": {},
     "output_type": "display_data"
    }
   ],
   "source": [
    "t.test(d)"
   ]
  },
  {
   "cell_type": "markdown",
   "metadata": {},
   "source": [
    "## The Wilcoxon signed rank test"
   ]
  },
  {
   "cell_type": "code",
   "execution_count": 74,
   "metadata": {},
   "outputs": [
    {
     "data": {
      "text/html": [
       "<table>\n",
       "<thead><tr><th scope=col>Subject</th><th scope=col>Before</th><th scope=col>After</th><th scope=col>Difference</th><th scope=col>rank</th><th scope=col>sign</th></tr></thead>\n",
       "<tbody>\n",
       "\t<tr><td> 2  </td><td>59.1</td><td>56.7</td><td>-2.4</td><td> 1  </td><td>-1  </td></tr>\n",
       "\t<tr><td> 7  </td><td>58.2</td><td>60.7</td><td> 2.5</td><td> 2  </td><td> 1  </td></tr>\n",
       "\t<tr><td> 9  </td><td>56.0</td><td>59.5</td><td> 3.5</td><td> 3  </td><td> 1  </td></tr>\n",
       "\t<tr><td>10  </td><td>65.3</td><td>59.8</td><td>-5.5</td><td> 4  </td><td>-1  </td></tr>\n",
       "\t<tr><td> 3  </td><td>56.1</td><td>61.9</td><td> 5.8</td><td> 5  </td><td> 1  </td></tr>\n",
       "\t<tr><td> 5  </td><td>60.6</td><td>67.7</td><td> 7.1</td><td> 6  </td><td> 1  </td></tr>\n",
       "\t<tr><td> 6  </td><td>37.8</td><td>50.0</td><td>12.2</td><td> 7  </td><td> 1  </td></tr>\n",
       "\t<tr><td> 1  </td><td>39.7</td><td>52.9</td><td>13.2</td><td> 8  </td><td> 1  </td></tr>\n",
       "\t<tr><td> 4  </td><td>57.7</td><td>71.4</td><td>13.7</td><td> 9  </td><td> 1  </td></tr>\n",
       "\t<tr><td> 8  </td><td>33.6</td><td>51.3</td><td>17.7</td><td>10  </td><td> 1  </td></tr>\n",
       "</tbody>\n",
       "</table>\n"
      ],
      "text/latex": [
       "\\begin{tabular}{r|llllll}\n",
       " Subject & Before & After & Difference & rank & sign\\\\\n",
       "\\hline\n",
       "\t  2   & 59.1 & 56.7 & -2.4 &  1   & -1  \\\\\n",
       "\t  7   & 58.2 & 60.7 &  2.5 &  2   &  1  \\\\\n",
       "\t  9   & 56.0 & 59.5 &  3.5 &  3   &  1  \\\\\n",
       "\t 10   & 65.3 & 59.8 & -5.5 &  4   & -1  \\\\\n",
       "\t  3   & 56.1 & 61.9 &  5.8 &  5   &  1  \\\\\n",
       "\t  5   & 60.6 & 67.7 &  7.1 &  6   &  1  \\\\\n",
       "\t  6   & 37.8 & 50.0 & 12.2 &  7   &  1  \\\\\n",
       "\t  1   & 39.7 & 52.9 & 13.2 &  8   &  1  \\\\\n",
       "\t  4   & 57.7 & 71.4 & 13.7 &  9   &  1  \\\\\n",
       "\t  8   & 33.6 & 51.3 & 17.7 & 10   &  1  \\\\\n",
       "\\end{tabular}\n"
      ],
      "text/markdown": [
       "\n",
       "Subject | Before | After | Difference | rank | sign | \n",
       "|---|---|---|---|---|---|---|---|---|---|\n",
       "|  2   | 59.1 | 56.7 | -2.4 |  1   | -1   | \n",
       "|  7   | 58.2 | 60.7 |  2.5 |  2   |  1   | \n",
       "|  9   | 56.0 | 59.5 |  3.5 |  3   |  1   | \n",
       "| 10   | 65.3 | 59.8 | -5.5 |  4   | -1   | \n",
       "|  3   | 56.1 | 61.9 |  5.8 |  5   |  1   | \n",
       "|  5   | 60.6 | 67.7 |  7.1 |  6   |  1   | \n",
       "|  6   | 37.8 | 50.0 | 12.2 |  7   |  1   | \n",
       "|  1   | 39.7 | 52.9 | 13.2 |  8   |  1   | \n",
       "|  4   | 57.7 | 71.4 | 13.7 |  9   |  1   | \n",
       "|  8   | 33.6 | 51.3 | 17.7 | 10   |  1   | \n",
       "\n",
       "\n"
      ],
      "text/plain": [
       "   Subject Before After Difference rank sign\n",
       "1   2      59.1   56.7  -2.4        1   -1  \n",
       "2   7      58.2   60.7   2.5        2    1  \n",
       "3   9      56.0   59.5   3.5        3    1  \n",
       "4  10      65.3   59.8  -5.5        4   -1  \n",
       "5   3      56.1   61.9   5.8        5    1  \n",
       "6   5      60.6   67.7   7.1        6    1  \n",
       "7   6      37.8   50.0  12.2        7    1  \n",
       "8   1      39.7   52.9  13.2        8    1  \n",
       "9   4      57.7   71.4  13.7        9    1  \n",
       "10  8      33.6   51.3  17.7       10    1  "
      ]
     },
     "metadata": {},
     "output_type": "display_data"
    }
   ],
   "source": [
    "df$Difference <- d\n",
    "df <- df %>% mutate(rank=rank(abs(Difference))) %>%\n",
    "mutate(sign=sign(Difference)) %>%\n",
    "arrange(rank)\n",
    "df"
   ]
  },
  {
   "cell_type": "code",
   "execution_count": 77,
   "metadata": {},
   "outputs": [
    {
     "data": {
      "text/html": [
       "<table>\n",
       "<thead><tr><th scope=col>Rp</th></tr></thead>\n",
       "<tbody>\n",
       "\t<tr><td>50</td></tr>\n",
       "</tbody>\n",
       "</table>\n"
      ],
      "text/latex": [
       "\\begin{tabular}{r|l}\n",
       " Rp\\\\\n",
       "\\hline\n",
       "\t 50\\\\\n",
       "\\end{tabular}\n"
      ],
      "text/markdown": [
       "\n",
       "Rp | \n",
       "|---|\n",
       "| 50 | \n",
       "\n",
       "\n"
      ],
      "text/plain": [
       "  Rp\n",
       "1 50"
      ]
     },
     "metadata": {},
     "output_type": "display_data"
    }
   ],
   "source": [
    "df %>% filter(sign == 1) %>% summarise(Rp = sum(rank))"
   ]
  },
  {
   "cell_type": "code",
   "execution_count": 78,
   "metadata": {},
   "outputs": [
    {
     "data": {
      "text/html": [
       "<table>\n",
       "<thead><tr><th scope=col>Rn</th></tr></thead>\n",
       "<tbody>\n",
       "\t<tr><td>5</td></tr>\n",
       "</tbody>\n",
       "</table>\n"
      ],
      "text/latex": [
       "\\begin{tabular}{r|l}\n",
       " Rn\\\\\n",
       "\\hline\n",
       "\t 5\\\\\n",
       "\\end{tabular}\n"
      ],
      "text/markdown": [
       "\n",
       "Rn | \n",
       "|---|\n",
       "| 5 | \n",
       "\n",
       "\n"
      ],
      "text/plain": [
       "  Rn\n",
       "1 5 "
      ]
     },
     "metadata": {},
     "output_type": "display_data"
    }
   ],
   "source": [
    "df %>% filter(sign == -1) %>% summarise(Rn = sum(rank))"
   ]
  },
  {
   "cell_type": "markdown",
   "metadata": {},
   "source": [
    "### Practical application of Wilcoxon signed rank test\n",
    "\n",
    "There is no simple closed form distribution for the test statistic R, so we'll just use the built-in R function."
   ]
  },
  {
   "cell_type": "code",
   "execution_count": 89,
   "metadata": {},
   "outputs": [
    {
     "data": {
      "text/plain": [
       "\n",
       "\tWilcoxon signed rank test\n",
       "\n",
       "data:  df$After and df$Before\n",
       "V = 50, p-value = 0.01953\n",
       "alternative hypothesis: true location shift is not equal to 0\n"
      ]
     },
     "metadata": {},
     "output_type": "display_data"
    }
   ],
   "source": [
    "wilcox.test(df$After, df$Before, paired=TRUE)"
   ]
  },
  {
   "cell_type": "markdown",
   "metadata": {},
   "source": [
    "## The Wilcoxon rank sum or Mann–Whitney test"
   ]
  },
  {
   "cell_type": "code",
   "execution_count": 103,
   "metadata": {},
   "outputs": [],
   "source": [
    "dose <- c(7.2, 15.7, 19.1, 21.6, 26.8, 27.4, 28.5, 32.8, 36.3, 43.2, 44.7,\n",
    "          5.6, 14.6, 18.2, 21.6, 23.1, 28.3, 31.7, 32.4, 36.8)\n",
    "grp <- c(rep(\"Nonprotocolized\", 11), rep(\"Protocolized\", 9))\n",
    "df <- data.frame(dose=dose, grp=grp)"
   ]
  },
  {
   "cell_type": "code",
   "execution_count": 105,
   "metadata": {},
   "outputs": [
    {
     "data": {
      "text/html": [
       "<table>\n",
       "<thead><tr><th scope=col>dose</th><th scope=col>grp</th><th scope=col>rank</th></tr></thead>\n",
       "<tbody>\n",
       "\t<tr><td> 7.2           </td><td>Nonprotocolized</td><td> 2.0           </td></tr>\n",
       "\t<tr><td>15.7           </td><td>Nonprotocolized</td><td> 4.0           </td></tr>\n",
       "\t<tr><td>19.1           </td><td>Nonprotocolized</td><td> 6.0           </td></tr>\n",
       "\t<tr><td>21.6           </td><td>Nonprotocolized</td><td> 7.5           </td></tr>\n",
       "\t<tr><td>26.8           </td><td>Nonprotocolized</td><td>10.0           </td></tr>\n",
       "\t<tr><td>27.4           </td><td>Nonprotocolized</td><td>11.0           </td></tr>\n",
       "\t<tr><td>28.5           </td><td>Nonprotocolized</td><td>13.0           </td></tr>\n",
       "\t<tr><td>32.8           </td><td>Nonprotocolized</td><td>16.0           </td></tr>\n",
       "\t<tr><td>36.3           </td><td>Nonprotocolized</td><td>17.0           </td></tr>\n",
       "\t<tr><td>43.2           </td><td>Nonprotocolized</td><td>19.0           </td></tr>\n",
       "\t<tr><td>44.7           </td><td>Nonprotocolized</td><td>20.0           </td></tr>\n",
       "\t<tr><td> 5.6           </td><td>Protocolized   </td><td> 1.0           </td></tr>\n",
       "\t<tr><td>14.6           </td><td>Protocolized   </td><td> 3.0           </td></tr>\n",
       "\t<tr><td>18.2           </td><td>Protocolized   </td><td> 5.0           </td></tr>\n",
       "\t<tr><td>21.6           </td><td>Protocolized   </td><td> 7.5           </td></tr>\n",
       "\t<tr><td>23.1           </td><td>Protocolized   </td><td> 9.0           </td></tr>\n",
       "\t<tr><td>28.3           </td><td>Protocolized   </td><td>12.0           </td></tr>\n",
       "\t<tr><td>31.7           </td><td>Protocolized   </td><td>14.0           </td></tr>\n",
       "\t<tr><td>32.4           </td><td>Protocolized   </td><td>15.0           </td></tr>\n",
       "\t<tr><td>36.8           </td><td>Protocolized   </td><td>18.0           </td></tr>\n",
       "</tbody>\n",
       "</table>\n"
      ],
      "text/latex": [
       "\\begin{tabular}{r|lll}\n",
       " dose & grp & rank\\\\\n",
       "\\hline\n",
       "\t  7.2            & Nonprotocolized &  2.0           \\\\\n",
       "\t 15.7            & Nonprotocolized &  4.0           \\\\\n",
       "\t 19.1            & Nonprotocolized &  6.0           \\\\\n",
       "\t 21.6            & Nonprotocolized &  7.5           \\\\\n",
       "\t 26.8            & Nonprotocolized & 10.0           \\\\\n",
       "\t 27.4            & Nonprotocolized & 11.0           \\\\\n",
       "\t 28.5            & Nonprotocolized & 13.0           \\\\\n",
       "\t 32.8            & Nonprotocolized & 16.0           \\\\\n",
       "\t 36.3            & Nonprotocolized & 17.0           \\\\\n",
       "\t 43.2            & Nonprotocolized & 19.0           \\\\\n",
       "\t 44.7            & Nonprotocolized & 20.0           \\\\\n",
       "\t  5.6            & Protocolized    &  1.0           \\\\\n",
       "\t 14.6            & Protocolized    &  3.0           \\\\\n",
       "\t 18.2            & Protocolized    &  5.0           \\\\\n",
       "\t 21.6            & Protocolized    &  7.5           \\\\\n",
       "\t 23.1            & Protocolized    &  9.0           \\\\\n",
       "\t 28.3            & Protocolized    & 12.0           \\\\\n",
       "\t 31.7            & Protocolized    & 14.0           \\\\\n",
       "\t 32.4            & Protocolized    & 15.0           \\\\\n",
       "\t 36.8            & Protocolized    & 18.0           \\\\\n",
       "\\end{tabular}\n"
      ],
      "text/markdown": [
       "\n",
       "dose | grp | rank | \n",
       "|---|---|---|---|---|---|---|---|---|---|---|---|---|---|---|---|---|---|---|---|\n",
       "|  7.2            | Nonprotocolized |  2.0            | \n",
       "| 15.7            | Nonprotocolized |  4.0            | \n",
       "| 19.1            | Nonprotocolized |  6.0            | \n",
       "| 21.6            | Nonprotocolized |  7.5            | \n",
       "| 26.8            | Nonprotocolized | 10.0            | \n",
       "| 27.4            | Nonprotocolized | 11.0            | \n",
       "| 28.5            | Nonprotocolized | 13.0            | \n",
       "| 32.8            | Nonprotocolized | 16.0            | \n",
       "| 36.3            | Nonprotocolized | 17.0            | \n",
       "| 43.2            | Nonprotocolized | 19.0            | \n",
       "| 44.7            | Nonprotocolized | 20.0            | \n",
       "|  5.6            | Protocolized    |  1.0            | \n",
       "| 14.6            | Protocolized    |  3.0            | \n",
       "| 18.2            | Protocolized    |  5.0            | \n",
       "| 21.6            | Protocolized    |  7.5            | \n",
       "| 23.1            | Protocolized    |  9.0            | \n",
       "| 28.3            | Protocolized    | 12.0            | \n",
       "| 31.7            | Protocolized    | 14.0            | \n",
       "| 32.4            | Protocolized    | 15.0            | \n",
       "| 36.8            | Protocolized    | 18.0            | \n",
       "\n",
       "\n"
      ],
      "text/plain": [
       "   dose grp             rank\n",
       "1   7.2 Nonprotocolized  2.0\n",
       "2  15.7 Nonprotocolized  4.0\n",
       "3  19.1 Nonprotocolized  6.0\n",
       "4  21.6 Nonprotocolized  7.5\n",
       "5  26.8 Nonprotocolized 10.0\n",
       "6  27.4 Nonprotocolized 11.0\n",
       "7  28.5 Nonprotocolized 13.0\n",
       "8  32.8 Nonprotocolized 16.0\n",
       "9  36.3 Nonprotocolized 17.0\n",
       "10 43.2 Nonprotocolized 19.0\n",
       "11 44.7 Nonprotocolized 20.0\n",
       "12  5.6 Protocolized     1.0\n",
       "13 14.6 Protocolized     3.0\n",
       "14 18.2 Protocolized     5.0\n",
       "15 21.6 Protocolized     7.5\n",
       "16 23.1 Protocolized     9.0\n",
       "17 28.3 Protocolized    12.0\n",
       "18 31.7 Protocolized    14.0\n",
       "19 32.4 Protocolized    15.0\n",
       "20 36.8 Protocolized    18.0"
      ]
     },
     "metadata": {},
     "output_type": "display_data"
    }
   ],
   "source": [
    "df <- df %>% mutate(rank=rank(dose))\n",
    "df"
   ]
  },
  {
   "cell_type": "code",
   "execution_count": 107,
   "metadata": {},
   "outputs": [
    {
     "data": {
      "text/html": [
       "<table>\n",
       "<thead><tr><th scope=col>sum</th></tr></thead>\n",
       "<tbody>\n",
       "\t<tr><td>84.5</td></tr>\n",
       "</tbody>\n",
       "</table>\n"
      ],
      "text/latex": [
       "\\begin{tabular}{r|l}\n",
       " sum\\\\\n",
       "\\hline\n",
       "\t 84.5\\\\\n",
       "\\end{tabular}\n"
      ],
      "text/markdown": [
       "\n",
       "sum | \n",
       "|---|\n",
       "| 84.5 | \n",
       "\n",
       "\n"
      ],
      "text/plain": [
       "  sum \n",
       "1 84.5"
      ]
     },
     "metadata": {},
     "output_type": "display_data"
    }
   ],
   "source": [
    "df %>% filter(grp == \"Protocolized\") %>% summarise(sum=sum(rank))"
   ]
  },
  {
   "cell_type": "code",
   "execution_count": 114,
   "metadata": {},
   "outputs": [],
   "source": [
    "x <- df %>% filter(grp == \"Protocolized\") %>% select(dose)\n",
    "y <- df %>% filter(grp == \"Nonprotocolized\") %>% select(dose)"
   ]
  },
  {
   "cell_type": "code",
   "execution_count": 119,
   "metadata": {},
   "outputs": [
    {
     "name": "stderr",
     "output_type": "stream",
     "text": [
      "Warning message in wilcox.test.default(x[, ], y[, ]):\n",
      "“cannot compute exact p-value with ties”"
     ]
    },
    {
     "data": {
      "text/plain": [
       "\n",
       "\tWilcoxon rank sum test with continuity correction\n",
       "\n",
       "data:  x[, ] and y[, ]\n",
       "W = 39.5, p-value = 0.4703\n",
       "alternative hypothesis: true location shift is not equal to 0\n"
      ]
     },
     "metadata": {},
     "output_type": "display_data"
    }
   ],
   "source": [
    "wilcox.test(x[,], y[,])"
   ]
  },
  {
   "cell_type": "markdown",
   "metadata": {},
   "source": [
    "### Compare with T test"
   ]
  },
  {
   "cell_type": "code",
   "execution_count": 122,
   "metadata": {},
   "outputs": [
    {
     "data": {
      "text/plain": [
       "\n",
       "\tWelch Two Sample t-test\n",
       "\n",
       "data:  x and y\n",
       "t = -0.83661, df = 17.926, p-value = 0.4138\n",
       "alternative hypothesis: true difference in means is not equal to 0\n",
       "95 percent confidence interval:\n",
       " -13.991115   6.023438\n",
       "sample estimates:\n",
       "mean of x mean of y \n",
       " 23.58889  27.57273 \n"
      ]
     },
     "metadata": {},
     "output_type": "display_data"
    }
   ],
   "source": [
    "t.test(x, y)"
   ]
  },
  {
   "cell_type": "markdown",
   "metadata": {},
   "source": [
    "## Advantages of nonparametric methods"
   ]
  },
  {
   "cell_type": "markdown",
   "metadata": {},
   "source": [
    "- Nonparametric methods require no or very limited assump- tions to be made about the format of the data, and they may therefore be preferable when the assumptions required for parametric methods are not valid.\n",
    "- Nonparametric methods can be useful for dealing with unex- pected, outlying observations that might be problematic with a parametric approach.\n",
    "- Nonparametric methods are intuitive and are simple to carry out by hand, for small samples at least.\n",
    "- Nonparametric methods are often useful in the analysis of ordered categorical data in which assignation of scores to individual categories may be inappropriate."
   ]
  },
  {
   "cell_type": "markdown",
   "metadata": {},
   "source": [
    "## Disadvantages of nonparametric methods"
   ]
  },
  {
   "cell_type": "markdown",
   "metadata": {},
   "source": [
    "- Nonparametric methods may lack power as compared with more traditional approaches.\n",
    "- Nonparametric methods are geared toward hypothesis testing rather than estimation of effects. \n",
    "- Tied values can be problematic when these are common."
   ]
  },
  {
   "cell_type": "code",
   "execution_count": null,
   "metadata": {
    "collapsed": true
   },
   "outputs": [],
   "source": []
  }
 ],
 "metadata": {
  "kernelspec": {
   "display_name": "R",
   "language": "R",
   "name": "ir"
  },
  "language_info": {
   "codemirror_mode": "r",
   "file_extension": ".r",
   "mimetype": "text/x-r-source",
   "name": "R",
   "pygments_lexer": "r",
   "version": "3.4.0"
  }
 },
 "nbformat": 4,
 "nbformat_minor": 2
}
