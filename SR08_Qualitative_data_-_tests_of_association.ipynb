{
 "cells": [
  {
   "cell_type": "markdown",
   "metadata": {},
   "source": [
    "# Statistics review 8: Qualitative data – tests of association\n",
    "\n",
    "R code accompanying [paper](https://www.ncbi.nlm.nih.gov/pmc/articles/PMC420070/pdf/cc2428.pdf))\n",
    "\n",
    "## Key learning points\n",
    "\n",
    "- How to investigate relationships between two qualitative (categorical) variables\n",
    "- $\\chi^2$ test of association\n",
    "- Test for trend (one variable is ordinal)\n",
    "- Risk measurement\n",
    "- Evaluating proportions"
   ]
  },
  {
   "cell_type": "code",
   "execution_count": 68,
   "metadata": {
    "collapsed": true
   },
   "outputs": [],
   "source": [
    "suppressPackageStartupMessages(library(tidyverse))"
   ]
  },
  {
   "cell_type": "code",
   "execution_count": 103,
   "metadata": {
    "collapsed": true
   },
   "outputs": [],
   "source": [
    "options(repr.plot.width=4, repr.plot.height=3)"
   ]
  },
  {
   "cell_type": "markdown",
   "metadata": {},
   "source": [
    "## Categorical data"
   ]
  },
  {
   "cell_type": "markdown",
   "metadata": {},
   "source": [
    "### Unordered\n",
    "\n",
    "- sex\n",
    "- blood group\n",
    "- classification of disease\n",
    "- whether the patient survived\n",
    "\n",
    "### Ordinal\n",
    "\n",
    "- Age group\n",
    "- Clinical scales (e.g. Pain scale)"
   ]
  },
  {
   "cell_type": "markdown",
   "metadata": {},
   "source": [
    "## $\\chi^2$  test of association"
   ]
  },
  {
   "cell_type": "code",
   "execution_count": 1,
   "metadata": {
    "collapsed": true
   },
   "outputs": [],
   "source": [
    "none <-  c(686, 451, 168)\n",
    "exit <- c(152, 35, 58)\n",
    "bacteremia <- c(96, 38, 22)\n",
    "\n",
    "o <- data.frame(none=none, exit=exit, bacteremia=bacteremia, \n",
    "                row.names= c(\"jugular\", \"subclavian\", \"femoral\"))"
   ]
  },
  {
   "cell_type": "markdown",
   "metadata": {},
   "source": [
    "### Observed counts"
   ]
  },
  {
   "cell_type": "code",
   "execution_count": 2,
   "metadata": {},
   "outputs": [
    {
     "data": {
      "text/html": [
       "<table>\n",
       "<thead><tr><th></th><th scope=col>none</th><th scope=col>exit</th><th scope=col>bacteremia</th></tr></thead>\n",
       "<tbody>\n",
       "\t<tr><th scope=row>jugular</th><td>686</td><td>152</td><td>96 </td></tr>\n",
       "\t<tr><th scope=row>subclavian</th><td>451</td><td> 35</td><td>38 </td></tr>\n",
       "\t<tr><th scope=row>femoral</th><td>168</td><td> 58</td><td>22 </td></tr>\n",
       "</tbody>\n",
       "</table>\n"
      ],
      "text/latex": [
       "\\begin{tabular}{r|lll}\n",
       "  & none & exit & bacteremia\\\\\n",
       "\\hline\n",
       "\tjugular & 686 & 152 & 96 \\\\\n",
       "\tsubclavian & 451 &  35 & 38 \\\\\n",
       "\tfemoral & 168 &  58 & 22 \\\\\n",
       "\\end{tabular}\n"
      ],
      "text/markdown": [
       "\n",
       "| <!--/--> | none | exit | bacteremia | \n",
       "|---|---|---|\n",
       "| jugular | 686 | 152 | 96  | \n",
       "| subclavian | 451 |  35 | 38  | \n",
       "| femoral | 168 |  58 | 22  | \n",
       "\n",
       "\n"
      ],
      "text/plain": [
       "           none exit bacteremia\n",
       "jugular    686  152  96        \n",
       "subclavian 451   35  38        \n",
       "femoral    168   58  22        "
      ]
     },
     "metadata": {},
     "output_type": "display_data"
    }
   ],
   "source": [
    "o"
   ]
  },
  {
   "cell_type": "code",
   "execution_count": 3,
   "metadata": {},
   "outputs": [
    {
     "data": {
      "text/html": [
       "<table>\n",
       "<thead><tr><th></th><th scope=col>none</th><th scope=col>exit</th><th scope=col>bacteremia</th><th scope=col>Sum</th></tr></thead>\n",
       "<tbody>\n",
       "\t<tr><th scope=row>jugular</th><td> 686</td><td>152 </td><td> 96 </td><td> 934</td></tr>\n",
       "\t<tr><th scope=row>subclavian</th><td> 451</td><td> 35 </td><td> 38 </td><td> 524</td></tr>\n",
       "\t<tr><th scope=row>femoral</th><td> 168</td><td> 58 </td><td> 22 </td><td> 248</td></tr>\n",
       "\t<tr><th scope=row>Sum</th><td>1305</td><td>245 </td><td>156 </td><td>1706</td></tr>\n",
       "</tbody>\n",
       "</table>\n"
      ],
      "text/latex": [
       "\\begin{tabular}{r|llll}\n",
       "  & none & exit & bacteremia & Sum\\\\\n",
       "\\hline\n",
       "\tjugular &  686 & 152  &  96  &  934\\\\\n",
       "\tsubclavian &  451 &  35  &  38  &  524\\\\\n",
       "\tfemoral &  168 &  58  &  22  &  248\\\\\n",
       "\tSum & 1305 & 245  & 156  & 1706\\\\\n",
       "\\end{tabular}\n"
      ],
      "text/markdown": [
       "\n",
       "| <!--/--> | none | exit | bacteremia | Sum | \n",
       "|---|---|---|---|\n",
       "| jugular |  686 | 152  |  96  |  934 | \n",
       "| subclavian |  451 |  35  |  38  |  524 | \n",
       "| femoral |  168 |  58  |  22  |  248 | \n",
       "| Sum | 1305 | 245  | 156  | 1706 | \n",
       "\n",
       "\n"
      ],
      "text/plain": [
       "           none exit bacteremia Sum \n",
       "jugular     686 152   96         934\n",
       "subclavian  451  35   38         524\n",
       "femoral     168  58   22         248\n",
       "Sum        1305 245  156        1706"
      ]
     },
     "metadata": {},
     "output_type": "display_data"
    }
   ],
   "source": [
    "m <- addmargins(as.matrix(o))\n",
    "m"
   ]
  },
  {
   "cell_type": "markdown",
   "metadata": {},
   "source": [
    "### Expected counts"
   ]
  },
  {
   "cell_type": "code",
   "execution_count": 4,
   "metadata": {},
   "outputs": [
    {
     "data": {
      "text/html": [
       "<table>\n",
       "<thead><tr><th></th><th scope=col>none</th><th scope=col>exit</th><th scope=col>bacteremia</th></tr></thead>\n",
       "<tbody>\n",
       "\t<tr><th scope=row>jugular</th><td>714.5</td><td>134.1</td><td>85.4 </td></tr>\n",
       "\t<tr><th scope=row>subclavian</th><td>400.8</td><td> 75.3</td><td>47.9 </td></tr>\n",
       "\t<tr><th scope=row>femoral</th><td>189.7</td><td> 35.6</td><td>22.7 </td></tr>\n",
       "</tbody>\n",
       "</table>\n"
      ],
      "text/latex": [
       "\\begin{tabular}{r|lll}\n",
       "  & none & exit & bacteremia\\\\\n",
       "\\hline\n",
       "\tjugular & 714.5 & 134.1 & 85.4 \\\\\n",
       "\tsubclavian & 400.8 &  75.3 & 47.9 \\\\\n",
       "\tfemoral & 189.7 &  35.6 & 22.7 \\\\\n",
       "\\end{tabular}\n"
      ],
      "text/markdown": [
       "\n",
       "| <!--/--> | none | exit | bacteremia | \n",
       "|---|---|---|\n",
       "| jugular | 714.5 | 134.1 | 85.4  | \n",
       "| subclavian | 400.8 |  75.3 | 47.9  | \n",
       "| femoral | 189.7 |  35.6 | 22.7  | \n",
       "\n",
       "\n"
      ],
      "text/plain": [
       "           none  exit  bacteremia\n",
       "jugular    714.5 134.1 85.4      \n",
       "subclavian 400.8  75.3 47.9      \n",
       "femoral    189.7  35.6 22.7      "
      ]
     },
     "metadata": {},
     "output_type": "display_data"
    }
   ],
   "source": [
    "e <- outer(m[1:3,4], m[4,1:3]/m[4,4])\n",
    "round(e, 1)"
   ]
  },
  {
   "cell_type": "markdown",
   "metadata": {},
   "source": [
    "### Calculate $\\chi^2$ test statistic"
   ]
  },
  {
   "cell_type": "code",
   "execution_count": 5,
   "metadata": {},
   "outputs": [
    {
     "data": {
      "text/html": [
       "51.26"
      ],
      "text/latex": [
       "51.26"
      ],
      "text/markdown": [
       "51.26"
      ],
      "text/plain": [
       "[1] 51.26"
      ]
     },
     "metadata": {},
     "output_type": "display_data"
    }
   ],
   "source": [
    "T <- sum((o - e)^2/e)\n",
    "round(T, 2)"
   ]
  },
  {
   "cell_type": "code",
   "execution_count": 6,
   "metadata": {},
   "outputs": [
    {
     "data": {
      "text/html": [
       "4"
      ],
      "text/latex": [
       "4"
      ],
      "text/markdown": [
       "4"
      ],
      "text/plain": [
       "[1] 4"
      ]
     },
     "metadata": {},
     "output_type": "display_data"
    }
   ],
   "source": [
    "df <- (nrow(o) -1) * (ncol(o)  - 1)\n",
    "df"
   ]
  },
  {
   "cell_type": "markdown",
   "metadata": {},
   "source": [
    "### Calculate p-value from $\\chi^2$ distribution"
   ]
  },
  {
   "cell_type": "code",
   "execution_count": 7,
   "metadata": {},
   "outputs": [
    {
     "data": {
      "text/html": [
       "1.96774818661538e-10"
      ],
      "text/latex": [
       "1.96774818661538e-10"
      ],
      "text/markdown": [
       "1.96774818661538e-10"
      ],
      "text/plain": [
       "[1] 1.967748e-10"
      ]
     },
     "metadata": {},
     "output_type": "display_data"
    }
   ],
   "source": [
    "1 - pchisq(T, df)"
   ]
  },
  {
   "cell_type": "markdown",
   "metadata": {},
   "source": [
    "### Use built in test"
   ]
  },
  {
   "cell_type": "code",
   "execution_count": 8,
   "metadata": {},
   "outputs": [
    {
     "data": {
      "text/plain": [
       "\n",
       "\tPearson's Chi-squared test\n",
       "\n",
       "data:  o\n",
       "X-squared = 51.262, df = 4, p-value = 1.968e-10\n"
      ]
     },
     "metadata": {},
     "output_type": "display_data"
    }
   ],
   "source": [
    "chisq.test(o)"
   ]
  },
  {
   "cell_type": "markdown",
   "metadata": {},
   "source": [
    "## Residuals"
   ]
  },
  {
   "cell_type": "code",
   "execution_count": 9,
   "metadata": {},
   "outputs": [
    {
     "data": {
      "text/html": [
       "<table>\n",
       "<thead><tr><th></th><th scope=col>none</th><th scope=col>exit</th><th scope=col>bacteremia</th><th scope=col>Sum</th></tr></thead>\n",
       "<tbody>\n",
       "\t<tr><th scope=row>jugular</th><td>0.40211020</td><td>0.08909730</td><td>0.05627198</td><td>0.5474795 </td></tr>\n",
       "\t<tr><th scope=row>subclavian</th><td>0.26436108</td><td>0.02051583</td><td>0.02227433</td><td>0.3071512 </td></tr>\n",
       "\t<tr><th scope=row>femoral</th><td>0.09847597</td><td>0.03399766</td><td>0.01289566</td><td>0.1453693 </td></tr>\n",
       "\t<tr><th scope=row>Sum</th><td>0.76494725</td><td>0.14361079</td><td>0.09144197</td><td>1.0000000 </td></tr>\n",
       "</tbody>\n",
       "</table>\n"
      ],
      "text/latex": [
       "\\begin{tabular}{r|llll}\n",
       "  & none & exit & bacteremia & Sum\\\\\n",
       "\\hline\n",
       "\tjugular & 0.40211020 & 0.08909730 & 0.05627198 & 0.5474795 \\\\\n",
       "\tsubclavian & 0.26436108 & 0.02051583 & 0.02227433 & 0.3071512 \\\\\n",
       "\tfemoral & 0.09847597 & 0.03399766 & 0.01289566 & 0.1453693 \\\\\n",
       "\tSum & 0.76494725 & 0.14361079 & 0.09144197 & 1.0000000 \\\\\n",
       "\\end{tabular}\n"
      ],
      "text/markdown": [
       "\n",
       "| <!--/--> | none | exit | bacteremia | Sum | \n",
       "|---|---|---|---|\n",
       "| jugular | 0.40211020 | 0.08909730 | 0.05627198 | 0.5474795  | \n",
       "| subclavian | 0.26436108 | 0.02051583 | 0.02227433 | 0.3071512  | \n",
       "| femoral | 0.09847597 | 0.03399766 | 0.01289566 | 0.1453693  | \n",
       "| Sum | 0.76494725 | 0.14361079 | 0.09144197 | 1.0000000  | \n",
       "\n",
       "\n"
      ],
      "text/plain": [
       "           none       exit       bacteremia Sum      \n",
       "jugular    0.40211020 0.08909730 0.05627198 0.5474795\n",
       "subclavian 0.26436108 0.02051583 0.02227433 0.3071512\n",
       "femoral    0.09847597 0.03399766 0.01289566 0.1453693\n",
       "Sum        0.76494725 0.14361079 0.09144197 1.0000000"
      ]
     },
     "metadata": {},
     "output_type": "display_data"
    }
   ],
   "source": [
    "t <- addmargins(as.matrix(prop.table(o)))\n",
    "t"
   ]
  },
  {
   "cell_type": "markdown",
   "metadata": {},
   "source": [
    "### Adjusted standardized residues\n",
    "\n",
    "The numbers don't agree with table 4 in the paper. Student to check by hand calculations? "
   ]
  },
  {
   "cell_type": "code",
   "execution_count": 10,
   "metadata": {},
   "outputs": [
    {
     "data": {
      "text/html": [
       "<table>\n",
       "<thead><tr><th></th><th scope=col>none</th><th scope=col>exit</th><th scope=col>bacteremia</th></tr></thead>\n",
       "<tbody>\n",
       "\t<tr><th scope=row>jugular</th><td>-3.3</td><td> 4.7</td><td> 3.5</td></tr>\n",
       "\t<tr><th scope=row>subclavian</th><td> 3.3</td><td>-6.0</td><td>-1.9</td></tr>\n",
       "\t<tr><th scope=row>femoral</th><td>-1.8</td><td> 4.3</td><td>-0.2</td></tr>\n",
       "</tbody>\n",
       "</table>\n"
      ],
      "text/latex": [
       "\\begin{tabular}{r|lll}\n",
       "  & none & exit & bacteremia\\\\\n",
       "\\hline\n",
       "\tjugular & -3.3 &  4.7 &  3.5\\\\\n",
       "\tsubclavian &  3.3 & -6.0 & -1.9\\\\\n",
       "\tfemoral & -1.8 &  4.3 & -0.2\\\\\n",
       "\\end{tabular}\n"
      ],
      "text/markdown": [
       "\n",
       "| <!--/--> | none | exit | bacteremia | \n",
       "|---|---|---|\n",
       "| jugular | -3.3 |  4.7 |  3.5 | \n",
       "| subclavian |  3.3 | -6.0 | -1.9 | \n",
       "| femoral | -1.8 |  4.3 | -0.2 | \n",
       "\n",
       "\n"
      ],
      "text/plain": [
       "           none exit bacteremia\n",
       "jugular    -3.3  4.7  3.5      \n",
       "subclavian  3.3 -6.0 -1.9      \n",
       "femoral    -1.8  4.3 -0.2      "
      ]
     },
     "metadata": {},
     "output_type": "display_data"
    }
   ],
   "source": [
    "round((o - e)/sqrt(e*(1-t[1:3,4])*(1-t[4,1:3])), 1)"
   ]
  },
  {
   "cell_type": "markdown",
   "metadata": {},
   "source": [
    "## Two by two tables"
   ]
  },
  {
   "cell_type": "code",
   "execution_count": 24,
   "metadata": {},
   "outputs": [
    {
     "data": {
      "text/html": [
       "<table>\n",
       "<thead><tr><th scope=col>treatment</th><th scope=col>contorl</th></tr></thead>\n",
       "<tbody>\n",
       "\t<tr><td> 3</td><td> 8</td></tr>\n",
       "\t<tr><td>47</td><td>37</td></tr>\n",
       "</tbody>\n",
       "</table>\n"
      ],
      "text/latex": [
       "\\begin{tabular}{r|ll}\n",
       " treatment & contorl\\\\\n",
       "\\hline\n",
       "\t  3 &  8\\\\\n",
       "\t 47 & 37\\\\\n",
       "\\end{tabular}\n"
      ],
      "text/markdown": [
       "\n",
       "treatment | contorl | \n",
       "|---|---|\n",
       "|  3 |  8 | \n",
       "| 47 | 37 | \n",
       "\n",
       "\n"
      ],
      "text/plain": [
       "  treatment contorl\n",
       "1  3         8     \n",
       "2 47        37     "
      ]
     },
     "metadata": {},
     "output_type": "display_data"
    }
   ],
   "source": [
    "treatment <- c(3, 47)\n",
    "control <- c(8, 37)\n",
    "df1 <- data.frame(treatment=treatment, contorl=control)\n",
    "df1"
   ]
  },
  {
   "cell_type": "code",
   "execution_count": 25,
   "metadata": {},
   "outputs": [
    {
     "data": {
      "text/plain": [
       "\n",
       "\tPearson's Chi-squared test\n",
       "\n",
       "data:  df1\n",
       "X-squared = 3.2089, df = 1, p-value = 0.07324\n"
      ]
     },
     "metadata": {},
     "output_type": "display_data"
    }
   ],
   "source": [
    "chisq.test(df1, correct = FALSE)"
   ]
  },
  {
   "cell_type": "markdown",
   "metadata": {},
   "source": [
    "## Fisher’s exact test"
   ]
  },
  {
   "cell_type": "code",
   "execution_count": 26,
   "metadata": {},
   "outputs": [
    {
     "data": {
      "text/plain": [
       "\n",
       "\tFisher's Exact Test for Count Data\n",
       "\n",
       "data:  df1\n",
       "p-value = 0.1083\n",
       "alternative hypothesis: true odds ratio is not equal to 1\n",
       "95 percent confidence interval:\n",
       " 0.04775944 1.35642029\n",
       "sample estimates:\n",
       "odds ratio \n",
       " 0.2989279 \n"
      ]
     },
     "metadata": {},
     "output_type": "display_data"
    }
   ],
   "source": [
    "fisher.test(df1)"
   ]
  },
  {
   "cell_type": "markdown",
   "metadata": {},
   "source": [
    "## Yates’ continuity correction"
   ]
  },
  {
   "cell_type": "code",
   "execution_count": 27,
   "metadata": {},
   "outputs": [
    {
     "data": {
      "text/plain": [
       "\n",
       "\tPearson's Chi-squared test with Yates' continuity correction\n",
       "\n",
       "data:  df1\n",
       "X-squared = 2.1617, df = 1, p-value = 0.1415\n"
      ]
     },
     "metadata": {},
     "output_type": "display_data"
    }
   ],
   "source": [
    "chisq.test(df1, correct=TRUE)"
   ]
  },
  {
   "cell_type": "markdown",
   "metadata": {},
   "source": [
    "## Test for trend"
   ]
  },
  {
   "cell_type": "code",
   "execution_count": 29,
   "metadata": {},
   "outputs": [
    {
     "data": {
      "text/html": [
       "<table>\n",
       "<thead><tr><th></th><th scope=col>alert</th><th scope=col>vopr</th><th scope=col>unresponsive</th></tr></thead>\n",
       "<tbody>\n",
       "\t<tr><th scope=row>sruvived</th><td>1110</td><td>54  </td><td>14  </td></tr>\n",
       "\t<tr><th scope=row>died</th><td> 108</td><td>14  </td><td> 6  </td></tr>\n",
       "</tbody>\n",
       "</table>\n"
      ],
      "text/latex": [
       "\\begin{tabular}{r|lll}\n",
       "  & alert & vopr & unresponsive\\\\\n",
       "\\hline\n",
       "\tsruvived & 1110 & 54   & 14  \\\\\n",
       "\tdied &  108 & 14   &  6  \\\\\n",
       "\\end{tabular}\n"
      ],
      "text/markdown": [
       "\n",
       "| <!--/--> | alert | vopr | unresponsive | \n",
       "|---|---|\n",
       "| sruvived | 1110 | 54   | 14   | \n",
       "| died |  108 | 14   |  6   | \n",
       "\n",
       "\n"
      ],
      "text/plain": [
       "         alert vopr unresponsive\n",
       "sruvived 1110  54   14          \n",
       "died      108  14    6          "
      ]
     },
     "metadata": {},
     "output_type": "display_data"
    }
   ],
   "source": [
    "alert <- c(1110, 108)\n",
    "vopr <- c(54, 14)\n",
    "unresponsive <- c(14, 6)\n",
    "df2 <- data.frame(alert=alert, vopr=vopr, unresponsive=unresponsive, \n",
    "                  row.names=c(\"sruvived\", \"died\"))\n",
    "df2"
   ]
  },
  {
   "cell_type": "code",
   "execution_count": 30,
   "metadata": {},
   "outputs": [
    {
     "name": "stderr",
     "output_type": "stream",
     "text": [
      "Warning message in chisq.test(df2):\n",
      "“Chi-squared approximation may be incorrect”"
     ]
    },
    {
     "data": {
      "text/plain": [
       "\n",
       "\tPearson's Chi-squared test\n",
       "\n",
       "data:  df2\n",
       "X-squared = 19.383, df = 2, p-value = 6.18e-05\n"
      ]
     },
     "metadata": {},
     "output_type": "display_data"
    }
   ],
   "source": [
    "chisq.test(df2)"
   ]
  },
  {
   "cell_type": "markdown",
   "metadata": {},
   "source": [
    "### Calling the trend test\n",
    "\n",
    "The trend test takes two arguments\n",
    "\n",
    "- Number of events\n",
    "- Number of trials\n",
    "\n",
    "So we have to a little massaging to get the data in the correct format."
   ]
  },
  {
   "cell_type": "markdown",
   "metadata": {},
   "source": [
    "#### We can use either row as the number of events"
   ]
  },
  {
   "cell_type": "markdown",
   "metadata": {},
   "source": [
    "Using number of survivors."
   ]
  },
  {
   "cell_type": "code",
   "execution_count": 42,
   "metadata": {},
   "outputs": [
    {
     "data": {
      "text/plain": [
       "\n",
       "\tChi-squared Test for Trend in Proportions\n",
       "\n",
       "data:  as.matrix(df2[1, ]) out of colSums(df2) ,\n",
       " using scores: 1 2 3\n",
       "X-squared = 19.328, df = 1, p-value = 1.101e-05\n"
      ]
     },
     "metadata": {},
     "output_type": "display_data"
    }
   ],
   "source": [
    "prop.trend.test(as.matrix(df2[1,]), colSums(df2))"
   ]
  },
  {
   "cell_type": "markdown",
   "metadata": {},
   "source": [
    "Using number of deaths."
   ]
  },
  {
   "cell_type": "code",
   "execution_count": 46,
   "metadata": {},
   "outputs": [
    {
     "data": {
      "text/plain": [
       "\n",
       "\tChi-squared Test for Trend in Proportions\n",
       "\n",
       "data:  as.matrix(df2[2, ]) out of colSums(df2) ,\n",
       " using scores: 1 2 3\n",
       "X-squared = 19.328, df = 1, p-value = 1.101e-05\n"
      ]
     },
     "metadata": {},
     "output_type": "display_data"
    }
   ],
   "source": [
    "prop.trend.test(as.matrix(df2[2,]), colSums(df2))"
   ]
  },
  {
   "cell_type": "markdown",
   "metadata": {},
   "source": [
    "### Interpretation as slope of linear regression model"
   ]
  },
  {
   "cell_type": "code",
   "execution_count": 129,
   "metadata": {
    "collapsed": true
   },
   "outputs": [],
   "source": [
    "points <- c(replicate(1110, c(1,1)), replicate(108, c(1,2)), \n",
    "            replicate(54, c(2,1)),  replicate(14, c(2,2)), \n",
    "            replicate(14, c(3,1)), replicate(6, c(3,2)))"
   ]
  },
  {
   "cell_type": "code",
   "execution_count": 133,
   "metadata": {},
   "outputs": [
    {
     "data": {
      "text/html": [
       "2612"
      ],
      "text/latex": [
       "2612"
      ],
      "text/markdown": [
       "2612"
      ],
      "text/plain": [
       "[1] 2612"
      ]
     },
     "metadata": {},
     "output_type": "display_data"
    }
   ],
   "source": [
    "length(points)"
   ]
  },
  {
   "cell_type": "code",
   "execution_count": 142,
   "metadata": {
    "collapsed": true
   },
   "outputs": [],
   "source": [
    "df3 <- data.frame(matrix(points, ncol=2, byrow = T))\n",
    "colnames(df3) <- c(\"x\", \"y\")"
   ]
  },
  {
   "cell_type": "code",
   "execution_count": 144,
   "metadata": {},
   "outputs": [
    {
     "data": {
      "text/plain": [
       "\n",
       "Call:\n",
       "lm(formula = y ~ x - 1, data = df3)\n",
       "\n",
       "Residuals:\n",
       "     Min       1Q   Median       3Q      Max \n",
       "-1.81677  0.06108  0.06108  0.06108  1.06108 \n",
       "\n",
       "Coefficients:\n",
       "  Estimate Std. Error t value Pr(>|t|)    \n",
       "x 0.938922   0.009996   93.93   <2e-16 ***\n",
       "---\n",
       "Signif. codes:  0 ‘***’ 0.001 ‘**’ 0.01 ‘*’ 0.05 ‘.’ 0.1 ‘ ’ 1\n",
       "\n",
       "Residual standard error: 0.4085 on 1305 degrees of freedom\n",
       "Multiple R-squared:  0.8711,\tAdjusted R-squared:  0.871 \n",
       "F-statistic:  8822 on 1 and 1305 DF,  p-value: < 2.2e-16\n"
      ]
     },
     "metadata": {},
     "output_type": "display_data"
    }
   ],
   "source": [
    "summary(lm(y ~ x - 1 , data=df3))"
   ]
  },
  {
   "cell_type": "code",
   "execution_count": 171,
   "metadata": {},
   "outputs": [
    {
     "data": {},
     "metadata": {},
     "output_type": "display_data"
    },
    {
     "data": {
      "image/png": "[encoded data removed]",
      "text/plain": [
       "plot without title"
      ]
     },
     "metadata": {},
     "output_type": "display_data"
    }
   ],
   "source": [
    "ggplot(df3, aes(x=x, y=y)) + geom_jitter(width = .3, height=.3) +\n",
    "geom_smooth(method=\"lm\") +\n",
    "scale_x_continuous(breaks=1:3, labels=c(\"alert\", \"vopr\", \"unresp\")) + \n",
    "scale_y_continuous(breaks=1:2, labels=c(\"survided\", \"died\")) + \n",
    "xlab(\"\") + ylab(\"\")"
   ]
  },
  {
   "cell_type": "markdown",
   "metadata": {},
   "source": [
    "## Measurement of risk"
   ]
  },
  {
   "cell_type": "code",
   "execution_count": 172,
   "metadata": {
    "collapsed": true
   },
   "outputs": [],
   "source": [
    "died <- c(38, 59)\n",
    "survived <- c(79, 60)\n",
    "df4 <- data.frame(died=died, survived=survived, row.names=c(\"early\", \"standard\"))"
   ]
  },
  {
   "cell_type": "code",
   "execution_count": 173,
   "metadata": {},
   "outputs": [
    {
     "data": {
      "text/html": [
       "<table>\n",
       "<thead><tr><th></th><th scope=col>died</th><th scope=col>survived</th></tr></thead>\n",
       "<tbody>\n",
       "\t<tr><th scope=row>early</th><td>38</td><td>79</td></tr>\n",
       "\t<tr><th scope=row>standard</th><td>59</td><td>60</td></tr>\n",
       "</tbody>\n",
       "</table>\n"
      ],
      "text/latex": [
       "\\begin{tabular}{r|ll}\n",
       "  & died & survived\\\\\n",
       "\\hline\n",
       "\tearly & 38 & 79\\\\\n",
       "\tstandard & 59 & 60\\\\\n",
       "\\end{tabular}\n"
      ],
      "text/markdown": [
       "\n",
       "| <!--/--> | died | survived | \n",
       "|---|---|\n",
       "| early | 38 | 79 | \n",
       "| standard | 59 | 60 | \n",
       "\n",
       "\n"
      ],
      "text/plain": [
       "         died survived\n",
       "early    38   79      \n",
       "standard 59   60      "
      ]
     },
     "metadata": {},
     "output_type": "display_data"
    }
   ],
   "source": [
    "df4"
   ]
  },
  {
   "cell_type": "markdown",
   "metadata": {},
   "source": [
    "#### Risk of death on early treatment"
   ]
  },
  {
   "cell_type": "code",
   "execution_count": 186,
   "metadata": {},
   "outputs": [
    {
     "data": {
      "text/html": [
       "32.5"
      ],
      "text/latex": [
       "32.5"
      ],
      "text/markdown": [
       "32.5"
      ],
      "text/plain": [
       "[1] 32.5"
      ]
     },
     "metadata": {},
     "output_type": "display_data"
    }
   ],
   "source": [
    "round(100*df4[1,1]/sum(df4[1,]), 1)"
   ]
  },
  {
   "cell_type": "markdown",
   "metadata": {},
   "source": [
    "#### Risk of death on standard treatment"
   ]
  },
  {
   "cell_type": "code",
   "execution_count": 189,
   "metadata": {},
   "outputs": [
    {
     "data": {
      "text/html": [
       "49.6"
      ],
      "text/latex": [
       "49.6"
      ],
      "text/markdown": [
       "49.6"
      ],
      "text/plain": [
       "[1] 49.6"
      ]
     },
     "metadata": {},
     "output_type": "display_data"
    }
   ],
   "source": [
    "round(100*df4[2,1]/sum(df4[2,]), 1)"
   ]
  },
  {
   "cell_type": "markdown",
   "metadata": {},
   "source": [
    "#### Odds of death on early treatment"
   ]
  },
  {
   "cell_type": "code",
   "execution_count": 193,
   "metadata": {},
   "outputs": [
    {
     "data": {
      "text/html": [
       "0.48"
      ],
      "text/latex": [
       "0.48"
      ],
      "text/markdown": [
       "0.48"
      ],
      "text/plain": [
       "[1] 0.48"
      ]
     },
     "metadata": {},
     "output_type": "display_data"
    }
   ],
   "source": [
    "round(df4[1,1]/sum(df4[1,2]), 2)"
   ]
  },
  {
   "cell_type": "markdown",
   "metadata": {},
   "source": [
    "#### Odds of death on standard treatment"
   ]
  },
  {
   "cell_type": "code",
   "execution_count": 194,
   "metadata": {},
   "outputs": [
    {
     "data": {
      "text/html": [
       "0.98"
      ],
      "text/latex": [
       "0.98"
      ],
      "text/markdown": [
       "0.98"
      ],
      "text/plain": [
       "[1] 0.98"
      ]
     },
     "metadata": {},
     "output_type": "display_data"
    }
   ],
   "source": [
    "round(df4[2,1]/sum(df4[2,2]), 2)"
   ]
  },
  {
   "cell_type": "markdown",
   "metadata": {},
   "source": [
    "### Confidence interval for a proportion"
   ]
  },
  {
   "cell_type": "markdown",
   "metadata": {},
   "source": [
    "#### Confidence interval for death with early treatment"
   ]
  },
  {
   "cell_type": "code",
   "execution_count": 197,
   "metadata": {
    "collapsed": true
   },
   "outputs": [],
   "source": [
    "n <- sum(df4[1,])\n",
    "p <- df4[1,1]/n"
   ]
  },
  {
   "cell_type": "code",
   "execution_count": 200,
   "metadata": {},
   "outputs": [
    {
     "data": {
      "text/html": [
       "<ol class=list-inline>\n",
       "\t<li>24</li>\n",
       "\t<li>41</li>\n",
       "</ol>\n"
      ],
      "text/latex": [
       "\\begin{enumerate*}\n",
       "\\item 24\n",
       "\\item 41\n",
       "\\end{enumerate*}\n"
      ],
      "text/markdown": [
       "1. 24\n",
       "2. 41\n",
       "\n",
       "\n"
      ],
      "text/plain": [
       "[1] 24 41"
      ]
     },
     "metadata": {},
     "output_type": "display_data"
    }
   ],
   "source": [
    "alpha <- 0.05\n",
    "k <- qnorm(1 - alpha/2)\n",
    "se <- sqrt(p*(1-p)/n)\n",
    "round(100*c(p - k*se, p + k*se), 1)"
   ]
  },
  {
   "cell_type": "markdown",
   "metadata": {},
   "source": [
    "#### Confidence interval for death with early treatment"
   ]
  },
  {
   "cell_type": "code",
   "execution_count": 201,
   "metadata": {
    "collapsed": true
   },
   "outputs": [],
   "source": [
    "n <- sum(df4[2,])\n",
    "p <- df4[2,1]/n"
   ]
  },
  {
   "cell_type": "code",
   "execution_count": 202,
   "metadata": {},
   "outputs": [
    {
     "data": {
      "text/html": [
       "<ol class=list-inline>\n",
       "\t<li>40.6</li>\n",
       "\t<li>58.6</li>\n",
       "</ol>\n"
      ],
      "text/latex": [
       "\\begin{enumerate*}\n",
       "\\item 40.6\n",
       "\\item 58.6\n",
       "\\end{enumerate*}\n"
      ],
      "text/markdown": [
       "1. 40.6\n",
       "2. 58.6\n",
       "\n",
       "\n"
      ],
      "text/plain": [
       "[1] 40.6 58.6"
      ]
     },
     "metadata": {},
     "output_type": "display_data"
    }
   ],
   "source": [
    "alpha <- 0.05\n",
    "k <- qnorm(1 - alpha/2)\n",
    "se <- sqrt(p*(1-p)/n)\n",
    "round(100*c(p - k*se, p + k*se), 1)"
   ]
  },
  {
   "cell_type": "markdown",
   "metadata": {},
   "source": [
    "### Comparing risks"
   ]
  },
  {
   "cell_type": "markdown",
   "metadata": {},
   "source": [
    "#### Risk ratio (relative risk)"
   ]
  },
  {
   "cell_type": "code",
   "execution_count": 214,
   "metadata": {},
   "outputs": [
    {
     "data": {
      "text/html": [
       "0.66"
      ],
      "text/latex": [
       "0.66"
      ],
      "text/markdown": [
       "0.66"
      ],
      "text/plain": [
       "[1] 0.66"
      ]
     },
     "metadata": {},
     "output_type": "display_data"
    }
   ],
   "source": [
    "round(df4[1,1]/sum(df4[1,])/ (df4[2,1]/sum(df4[2,])), 2)"
   ]
  },
  {
   "cell_type": "markdown",
   "metadata": {},
   "source": [
    "#### Odds ratio"
   ]
  },
  {
   "cell_type": "code",
   "execution_count": 217,
   "metadata": {},
   "outputs": [
    {
     "data": {
      "text/html": [
       "0.49"
      ],
      "text/latex": [
       "0.49"
      ],
      "text/markdown": [
       "0.49"
      ],
      "text/plain": [
       "[1] 0.49"
      ]
     },
     "metadata": {},
     "output_type": "display_data"
    }
   ],
   "source": [
    "round((df4[1,1]/sum(df4[1,2]))/(df4[2,1]/sum(df4[2,2])), 2)"
   ]
  },
  {
   "cell_type": "markdown",
   "metadata": {},
   "source": [
    "## Testing for difference between two proportions"
   ]
  },
  {
   "cell_type": "code",
   "execution_count": 218,
   "metadata": {},
   "outputs": [
    {
     "data": {
      "text/html": [
       "<table>\n",
       "<thead><tr><th></th><th scope=col>died</th><th scope=col>survived</th></tr></thead>\n",
       "<tbody>\n",
       "\t<tr><th scope=row>early</th><td>38</td><td>79</td></tr>\n",
       "\t<tr><th scope=row>standard</th><td>59</td><td>60</td></tr>\n",
       "</tbody>\n",
       "</table>\n"
      ],
      "text/latex": [
       "\\begin{tabular}{r|ll}\n",
       "  & died & survived\\\\\n",
       "\\hline\n",
       "\tearly & 38 & 79\\\\\n",
       "\tstandard & 59 & 60\\\\\n",
       "\\end{tabular}\n"
      ],
      "text/markdown": [
       "\n",
       "| <!--/--> | died | survived | \n",
       "|---|---|\n",
       "| early | 38 | 79 | \n",
       "| standard | 59 | 60 | \n",
       "\n",
       "\n"
      ],
      "text/plain": [
       "         died survived\n",
       "early    38   79      \n",
       "standard 59   60      "
      ]
     },
     "metadata": {},
     "output_type": "display_data"
    }
   ],
   "source": [
    "df4"
   ]
  },
  {
   "cell_type": "code",
   "execution_count": 226,
   "metadata": {},
   "outputs": [
    {
     "data": {
      "text/html": [
       "<table>\n",
       "<thead><tr><th scope=col>died</th><th scope=col>survived</th><th scope=col>total</th></tr></thead>\n",
       "<tbody>\n",
       "\t<tr><td>38 </td><td>79 </td><td>117</td></tr>\n",
       "\t<tr><td>59 </td><td>60 </td><td>119</td></tr>\n",
       "</tbody>\n",
       "</table>\n"
      ],
      "text/latex": [
       "\\begin{tabular}{r|lll}\n",
       " died & survived & total\\\\\n",
       "\\hline\n",
       "\t 38  & 79  & 117\\\\\n",
       "\t 59  & 60  & 119\\\\\n",
       "\\end{tabular}\n"
      ],
      "text/markdown": [
       "\n",
       "died | survived | total | \n",
       "|---|---|\n",
       "| 38  | 79  | 117 | \n",
       "| 59  | 60  | 119 | \n",
       "\n",
       "\n"
      ],
      "text/plain": [
       "  died survived total\n",
       "1 38   79       117  \n",
       "2 59   60       119  "
      ]
     },
     "metadata": {},
     "output_type": "display_data"
    }
   ],
   "source": [
    "df4 <- df4 %>% mutate(total=died+survived)\n",
    "df4"
   ]
  },
  {
   "cell_type": "code",
   "execution_count": 229,
   "metadata": {},
   "outputs": [
    {
     "data": {
      "text/plain": [
       "\n",
       "\t2-sample test for equality of proportions without continuity\n",
       "\tcorrection\n",
       "\n",
       "data:  df4[, 1] out of df4[, 3]\n",
       "X-squared = 7.1271, df = 1, p-value = 0.007593\n",
       "alternative hypothesis: two.sided\n",
       "95 percent confidence interval:\n",
       " -0.29458384 -0.04744015\n",
       "sample estimates:\n",
       "   prop 1    prop 2 \n",
       "0.3247863 0.4957983 \n"
      ]
     },
     "metadata": {},
     "output_type": "display_data"
    }
   ],
   "source": [
    "prop.test(df4[,1], df4[,3], correct = FALSE)"
   ]
  },
  {
   "cell_type": "markdown",
   "metadata": {},
   "source": [
    "## Matched samples"
   ]
  },
  {
   "cell_type": "code",
   "execution_count": 230,
   "metadata": {},
   "outputs": [
    {
     "data": {
      "text/html": [
       "<table>\n",
       "<thead><tr><th></th><th scope=col>breath_plus</th><th scope=col>breath_minus</th></tr></thead>\n",
       "<tbody>\n",
       "\t<tr><th scope=row>xxoid_plus</th><td>40</td><td> 8</td></tr>\n",
       "\t<tr><th scope=row>oxoid_minus</th><td> 4</td><td>32</td></tr>\n",
       "</tbody>\n",
       "</table>\n"
      ],
      "text/latex": [
       "\\begin{tabular}{r|ll}\n",
       "  & breath\\_plus & breath\\_minus\\\\\n",
       "\\hline\n",
       "\txxoid\\_plus & 40 &  8\\\\\n",
       "\toxoid\\_minus &  4 & 32\\\\\n",
       "\\end{tabular}\n"
      ],
      "text/markdown": [
       "\n",
       "| <!--/--> | breath_plus | breath_minus | \n",
       "|---|---|\n",
       "| xxoid_plus | 40 |  8 | \n",
       "| oxoid_minus |  4 | 32 | \n",
       "\n",
       "\n"
      ],
      "text/plain": [
       "            breath_plus breath_minus\n",
       "xxoid_plus  40           8          \n",
       "oxoid_minus  4          32          "
      ]
     },
     "metadata": {},
     "output_type": "display_data"
    }
   ],
   "source": [
    "breath_plus <- c(40, 4)\n",
    "breath_minus <- c(8, 32)\n",
    "df5 <- data.frame(breath_plus=breath_plus, breath_minus=breath_minus,\n",
    "                 row.names=c(\"xxoid_plus\", \"oxoid_minus\"))\n",
    "df5"
   ]
  },
  {
   "cell_type": "markdown",
   "metadata": {},
   "source": [
    "### Manual (with Yates correction)"
   ]
  },
  {
   "cell_type": "code",
   "execution_count": 233,
   "metadata": {},
   "outputs": [
    {
     "data": {
      "text/html": [
       "0.75"
      ],
      "text/latex": [
       "0.75"
      ],
      "text/markdown": [
       "0.75"
      ],
      "text/plain": [
       "[1] 0.75"
      ]
     },
     "metadata": {},
     "output_type": "display_data"
    }
   ],
   "source": [
    "T <- ((8-4)-1)^2/((8+4))\n",
    "T"
   ]
  },
  {
   "cell_type": "code",
   "execution_count": 235,
   "metadata": {},
   "outputs": [
    {
     "data": {
      "text/html": [
       "0.3865"
      ],
      "text/latex": [
       "0.3865"
      ],
      "text/markdown": [
       "0.3865"
      ],
      "text/plain": [
       "[1] 0.3865"
      ]
     },
     "metadata": {},
     "output_type": "display_data"
    }
   ],
   "source": [
    "round(1 - pchisq(T, 1), 4)"
   ]
  },
  {
   "cell_type": "markdown",
   "metadata": {},
   "source": [
    "### Using built in test"
   ]
  },
  {
   "cell_type": "code",
   "execution_count": 232,
   "metadata": {},
   "outputs": [
    {
     "data": {
      "text/plain": [
       "\n",
       "\tMcNemar's Chi-squared test with continuity correction\n",
       "\n",
       "data:  as.matrix(df5)\n",
       "McNemar's chi-squared = 0.75, df = 1, p-value = 0.3865\n"
      ]
     },
     "metadata": {},
     "output_type": "display_data"
    }
   ],
   "source": [
    "mcnemar.test(as.matrix(df5))"
   ]
  },
  {
   "cell_type": "markdown",
   "metadata": {},
   "source": [
    "## Exercises"
   ]
  },
  {
   "cell_type": "code",
   "execution_count": 237,
   "metadata": {
    "collapsed": true
   },
   "outputs": [],
   "source": [
    "suppressPackageStartupMessages(library(MASS))"
   ]
  },
  {
   "cell_type": "markdown",
   "metadata": {},
   "source": [
    "### The rows indicate smoking history, and the columns indicate frequency of exercise\n",
    "\n",
    "The allowed values in Smoke are \"Heavy\", \"Regul\" (regularly), \"Occas\" (occasionally) and \"Never\", and \"Freq\" (frequently), \"Some\" and \"None\" for Exercise."
   ]
  },
  {
   "cell_type": "code",
   "execution_count": 238,
   "metadata": {},
   "outputs": [
    {
     "data": {
      "text/plain": [
       "       \n",
       "        Freq None Some\n",
       "  Heavy    7    1    3\n",
       "  Never   87   18   84\n",
       "  Occas   12    3    4\n",
       "  Regul    9    1    7"
      ]
     },
     "metadata": {},
     "output_type": "display_data"
    }
   ],
   "source": [
    "tbl = table(survey$Smoke, survey$Exer) \n",
    "tbl"
   ]
  },
  {
   "cell_type": "markdown",
   "metadata": {},
   "source": [
    "**1**. Is there a evidence for a relationship between smoking history and frequency of exercise? Solve this a) by manual calculation, and b) by using the chisq.test."
   ]
  },
  {
   "cell_type": "code",
   "execution_count": null,
   "metadata": {
    "collapsed": true
   },
   "outputs": [],
   "source": []
  },
  {
   "cell_type": "markdown",
   "metadata": {},
   "source": [
    "**2**. Is there evidence for a trend for exercise with frequency of smoking if we consider smoking as an ordinal variables?"
   ]
  },
  {
   "cell_type": "code",
   "execution_count": null,
   "metadata": {
    "collapsed": true
   },
   "outputs": [],
   "source": []
  },
  {
   "cell_type": "markdown",
   "metadata": {},
   "source": [
    "**3**. Create a new table that uses only the (Freq, None) columns and (Heavy, Never) rows. Compare the results of the $\\chi^2$ test with and without Yates continuity correction, as well as the Fisher exact test."
   ]
  },
  {
   "cell_type": "code",
   "execution_count": null,
   "metadata": {
    "collapsed": true
   },
   "outputs": [],
   "source": []
  }
 ],
 "metadata": {
  "kernelspec": {
   "display_name": "R",
   "language": "R",
   "name": "ir"
  },
  "language_info": {
   "codemirror_mode": "r",
   "file_extension": ".r",
   "mimetype": "text/x-r-source",
   "name": "R",
   "pygments_lexer": "r",
   "version": "3.4.0"
  }
 },
 "nbformat": 4,
 "nbformat_minor": 2
}
