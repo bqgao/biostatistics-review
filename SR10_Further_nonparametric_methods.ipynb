{
 "cells": [
  {
   "cell_type": "markdown",
   "metadata": {},
   "source": [
    "# Statistics review 10: Further nonparametric methods\n",
    "\n",
    "R code accompanying [paper](https://www.ncbi.nlm.nih.gov/pmc/articles/PMC420045/pdf/cc2836.pdf)\n",
    "\n",
    "## Key learning points\n",
    "\n",
    "- Nonparametric methods for testing differences between more than two groups or treatments"
   ]
  },
  {
   "cell_type": "code",
   "execution_count": 14,
   "metadata": {
    "collapsed": true
   },
   "outputs": [],
   "source": [
    "suppressPackageStartupMessages(library(tidyverse))"
   ]
  },
  {
   "cell_type": "code",
   "execution_count": 15,
   "metadata": {
    "collapsed": true
   },
   "outputs": [],
   "source": [
    "options(repr.plot.width=4, repr.plot.height=3)"
   ]
  },
  {
   "cell_type": "markdown",
   "metadata": {},
   "source": [
    "## Kruskal–Wallis test\n",
    "\n",
    "Nonparametric alternative to one-way analysis of variance."
   ]
  },
  {
   "cell_type": "markdown",
   "metadata": {},
   "source": [
    "### Manual calculation"
   ]
  },
  {
   "cell_type": "code",
   "execution_count": 68,
   "metadata": {
    "collapsed": true
   },
   "outputs": [],
   "source": [
    "ct <- c(7,1,2,6,11,8)\n",
    "m <- c(4,7,16,11,21)\n",
    "ns <- c(20,25,13,9,14,11)"
   ]
  },
  {
   "cell_type": "code",
   "execution_count": 69,
   "metadata": {},
   "outputs": [],
   "source": [
    "icu <- c(rep(\"ct\", length(ct)), rep(\"m\", length(m)), rep(\"ns\", length(ns)))\n",
    "days <- c(ct, m, ns)\n",
    "\n",
    "df <- data.frame(icu=icu, days=days)"
   ]
  },
  {
   "cell_type": "code",
   "execution_count": 70,
   "metadata": {},
   "outputs": [
    {
     "data": {
      "text/html": [
       "<table>\n",
       "<thead><tr><th scope=col>icu</th><th scope=col>days</th></tr></thead>\n",
       "<tbody>\n",
       "\t<tr><td>ct</td><td> 7</td></tr>\n",
       "\t<tr><td>ct</td><td> 1</td></tr>\n",
       "\t<tr><td>ct</td><td> 2</td></tr>\n",
       "\t<tr><td>ct</td><td> 6</td></tr>\n",
       "\t<tr><td>ct</td><td>11</td></tr>\n",
       "\t<tr><td>ct</td><td> 8</td></tr>\n",
       "</tbody>\n",
       "</table>\n"
      ],
      "text/latex": [
       "\\begin{tabular}{r|ll}\n",
       " icu & days\\\\\n",
       "\\hline\n",
       "\t ct &  7\\\\\n",
       "\t ct &  1\\\\\n",
       "\t ct &  2\\\\\n",
       "\t ct &  6\\\\\n",
       "\t ct & 11\\\\\n",
       "\t ct &  8\\\\\n",
       "\\end{tabular}\n"
      ],
      "text/markdown": [
       "\n",
       "icu | days | \n",
       "|---|---|---|---|---|---|\n",
       "| ct |  7 | \n",
       "| ct |  1 | \n",
       "| ct |  2 | \n",
       "| ct |  6 | \n",
       "| ct | 11 | \n",
       "| ct |  8 | \n",
       "\n",
       "\n"
      ],
      "text/plain": [
       "  icu days\n",
       "1 ct   7  \n",
       "2 ct   1  \n",
       "3 ct   2  \n",
       "4 ct   6  \n",
       "5 ct  11  \n",
       "6 ct   8  "
      ]
     },
     "metadata": {},
     "output_type": "display_data"
    }
   ],
   "source": [
    "head(df)"
   ]
  },
  {
   "cell_type": "code",
   "execution_count": 71,
   "metadata": {},
   "outputs": [
    {
     "data": {},
     "metadata": {},
     "output_type": "display_data"
    },
    {
     "data": {
      "image/png": "[encoded data removed]",
      "text/plain": [
       "plot without title"
      ]
     },
     "metadata": {},
     "output_type": "display_data"
    }
   ],
   "source": [
    "ggplot(df, aes(x=icu, y=days)) + geom_boxplot()"
   ]
  },
  {
   "cell_type": "code",
   "execution_count": 37,
   "metadata": {},
   "outputs": [
    {
     "data": {
      "text/html": [
       "<table>\n",
       "<thead><tr><th scope=col>icu</th><th scope=col>days</th><th scope=col>rank</th></tr></thead>\n",
       "<tbody>\n",
       "\t<tr><td>ct  </td><td> 7  </td><td> 5.5</td></tr>\n",
       "\t<tr><td>ct  </td><td> 1  </td><td> 1.0</td></tr>\n",
       "\t<tr><td>ct  </td><td> 2  </td><td> 2.0</td></tr>\n",
       "\t<tr><td>ct  </td><td> 6  </td><td> 4.0</td></tr>\n",
       "\t<tr><td>ct  </td><td>11  </td><td>10.0</td></tr>\n",
       "\t<tr><td>ct  </td><td> 8  </td><td> 7.0</td></tr>\n",
       "</tbody>\n",
       "</table>\n"
      ],
      "text/latex": [
       "\\begin{tabular}{r|lll}\n",
       " icu & days & rank\\\\\n",
       "\\hline\n",
       "\t ct   &  7   &  5.5\\\\\n",
       "\t ct   &  1   &  1.0\\\\\n",
       "\t ct   &  2   &  2.0\\\\\n",
       "\t ct   &  6   &  4.0\\\\\n",
       "\t ct   & 11   & 10.0\\\\\n",
       "\t ct   &  8   &  7.0\\\\\n",
       "\\end{tabular}\n"
      ],
      "text/markdown": [
       "\n",
       "icu | days | rank | \n",
       "|---|---|---|---|---|---|\n",
       "| ct   |  7   |  5.5 | \n",
       "| ct   |  1   |  1.0 | \n",
       "| ct   |  2   |  2.0 | \n",
       "| ct   |  6   |  4.0 | \n",
       "| ct   | 11   | 10.0 | \n",
       "| ct   |  8   |  7.0 | \n",
       "\n",
       "\n"
      ],
      "text/plain": [
       "  icu days rank\n",
       "1 ct   7    5.5\n",
       "2 ct   1    1.0\n",
       "3 ct   2    2.0\n",
       "4 ct   6    4.0\n",
       "5 ct  11   10.0\n",
       "6 ct   8    7.0"
      ]
     },
     "metadata": {},
     "output_type": "display_data"
    }
   ],
   "source": [
    "df1 <- df %>% mutate(rank=rank(days))\n",
    "head(df1)"
   ]
  },
  {
   "cell_type": "code",
   "execution_count": 42,
   "metadata": {},
   "outputs": [
    {
     "data": {
      "text/html": [
       "<table>\n",
       "<thead><tr><th scope=col>icu</th><th scope=col>r</th><th scope=col>n</th></tr></thead>\n",
       "<tbody>\n",
       "\t<tr><td>ct  </td><td>29.5</td><td>6   </td></tr>\n",
       "\t<tr><td>m   </td><td>48.5</td><td>5   </td></tr>\n",
       "\t<tr><td>ns  </td><td>75.0</td><td>6   </td></tr>\n",
       "</tbody>\n",
       "</table>\n"
      ],
      "text/latex": [
       "\\begin{tabular}{r|lll}\n",
       " icu & r & n\\\\\n",
       "\\hline\n",
       "\t ct   & 29.5 & 6   \\\\\n",
       "\t m    & 48.5 & 5   \\\\\n",
       "\t ns   & 75.0 & 6   \\\\\n",
       "\\end{tabular}\n"
      ],
      "text/markdown": [
       "\n",
       "icu | r | n | \n",
       "|---|---|---|\n",
       "| ct   | 29.5 | 6    | \n",
       "| m    | 48.5 | 5    | \n",
       "| ns   | 75.0 | 6    | \n",
       "\n",
       "\n"
      ],
      "text/plain": [
       "  icu r    n\n",
       "1 ct  29.5 6\n",
       "2 m   48.5 5\n",
       "3 ns  75.0 6"
      ]
     },
     "metadata": {},
     "output_type": "display_data"
    }
   ],
   "source": [
    "df2 <- df1 %>% group_by(icu) %>% summarize(r = sum(rank), n=n())\n",
    "df2"
   ]
  },
  {
   "cell_type": "code",
   "execution_count": 57,
   "metadata": {
    "collapsed": true
   },
   "outputs": [],
   "source": [
    "N <- dim(df1)[1]\n",
    "\n",
    "T <- (12/(N*(N+1)))*sum((df2$r^2/df2$n)) - 3*(N+1)"
   ]
  },
  {
   "cell_type": "code",
   "execution_count": 58,
   "metadata": {},
   "outputs": [
    {
     "data": {
      "text/html": [
       "6.9"
      ],
      "text/latex": [
       "6.9"
      ],
      "text/markdown": [
       "6.9"
      ],
      "text/plain": [
       "[1] 6.9"
      ]
     },
     "metadata": {},
     "output_type": "display_data"
    }
   ],
   "source": [
    "round(T, 2)"
   ]
  },
  {
   "cell_type": "code",
   "execution_count": 59,
   "metadata": {},
   "outputs": [
    {
     "data": {
      "text/html": [
       "2"
      ],
      "text/latex": [
       "2"
      ],
      "text/markdown": [
       "2"
      ],
      "text/plain": [
       "[1] 2"
      ]
     },
     "metadata": {},
     "output_type": "display_data"
    }
   ],
   "source": [
    "df <- dim(df2)[1]- 1\n",
    "df"
   ]
  },
  {
   "cell_type": "code",
   "execution_count": 60,
   "metadata": {},
   "outputs": [
    {
     "data": {
      "text/html": [
       "0.0317"
      ],
      "text/latex": [
       "0.0317"
      ],
      "text/markdown": [
       "0.0317"
      ],
      "text/plain": [
       "[1] 0.0317"
      ]
     },
     "metadata": {},
     "output_type": "display_data"
    }
   ],
   "source": [
    "round(1 - pchisq(T, df), 4)"
   ]
  },
  {
   "cell_type": "markdown",
   "metadata": {},
   "source": [
    "### Using built in function"
   ]
  },
  {
   "cell_type": "code",
   "execution_count": 61,
   "metadata": {},
   "outputs": [
    {
     "data": {
      "text/plain": [
       "\n",
       "\tKruskal-Wallis rank sum test\n",
       "\n",
       "data:  days by icu\n",
       "Kruskal-Wallis chi-squared = 6.9442, df = 2, p-value = 0.03105\n"
      ]
     },
     "metadata": {},
     "output_type": "display_data"
    }
   ],
   "source": [
    "kruskal.test(days ~ icu, data=df1)"
   ]
  },
  {
   "cell_type": "markdown",
   "metadata": {},
   "source": [
    "### Dunn test for multiple comparisons"
   ]
  },
  {
   "cell_type": "code",
   "execution_count": 63,
   "metadata": {},
   "outputs": [],
   "source": [
    "suppressPackageStartupMessages(library(FSA))"
   ]
  },
  {
   "cell_type": "code",
   "execution_count": 65,
   "metadata": {},
   "outputs": [
    {
     "name": "stderr",
     "output_type": "stream",
     "text": [
      "Dunn (1964) Kruskal-Wallis multiple comparison\n",
      "  p-values adjusted with the Holm method.\n",
      "\n"
     ]
    },
    {
     "data": {
      "text/plain": [
       "  Comparison          Z    P.unadj      P.adj\n",
       "1     ct - m -1.5691321 0.11661717 0.23323435\n",
       "2    ct - ns -2.6090676 0.00907893 0.02723679\n",
       "3     m - ns -0.9185163 0.35834862 0.35834862"
      ]
     },
     "metadata": {},
     "output_type": "display_data"
    }
   ],
   "source": [
    "dunnTest(df1$days, df1$icu)"
   ]
  },
  {
   "cell_type": "markdown",
   "metadata": {},
   "source": [
    "### Ad-hoc comparisons with Wilcoxon"
   ]
  },
  {
   "cell_type": "code",
   "execution_count": 73,
   "metadata": {},
   "outputs": [
    {
     "name": "stderr",
     "output_type": "stream",
     "text": [
      "Warning message in wilcox.test.default(xi, xj, paired = paired, ...):\n",
      "“cannot compute exact p-value with ties”Warning message in wilcox.test.default(xi, xj, paired = paired, ...):\n",
      "“cannot compute exact p-value with ties”Warning message in wilcox.test.default(xi, xj, paired = paired, ...):\n",
      "“cannot compute exact p-value with ties”"
     ]
    },
    {
     "data": {
      "text/plain": [
       "\n",
       "\tPairwise comparisons using Wilcoxon rank sum test \n",
       "\n",
       "data:  df1$days and df1$icu \n",
       "\n",
       "   ct    m    \n",
       "m  0.338 -    \n",
       "ns 0.031 0.464\n",
       "\n",
       "P value adjustment method: holm "
      ]
     },
     "metadata": {},
     "output_type": "display_data"
    }
   ],
   "source": [
    "pairwise.wilcox.test(df1$days, df1$icu, p.adjust.method = \"holm\")"
   ]
  },
  {
   "cell_type": "markdown",
   "metadata": {},
   "source": [
    "## The Jonckheere–Terpstra test\n",
    "\n",
    "For comparisons where the treatment group is ordinal.\n",
    "\n",
    "We re-use the same data set, assuming that the ICU ordering is ct, m, ns."
   ]
  },
  {
   "cell_type": "markdown",
   "metadata": {},
   "source": [
    "### Using a package"
   ]
  },
  {
   "cell_type": "code",
   "execution_count": 92,
   "metadata": {},
   "outputs": [
    {
     "data": {
      "text/html": [
       "<table>\n",
       "<thead><tr><th scope=col>icu</th><th scope=col>days</th><th scope=col>rank</th></tr></thead>\n",
       "<tbody>\n",
       "\t<tr><td>ct  </td><td> 7  </td><td> 5.5</td></tr>\n",
       "\t<tr><td>ct  </td><td> 1  </td><td> 1.0</td></tr>\n",
       "\t<tr><td>ct  </td><td> 2  </td><td> 2.0</td></tr>\n",
       "\t<tr><td>ct  </td><td> 6  </td><td> 4.0</td></tr>\n",
       "\t<tr><td>ct  </td><td>11  </td><td>10.0</td></tr>\n",
       "\t<tr><td>ct  </td><td> 8  </td><td> 7.0</td></tr>\n",
       "</tbody>\n",
       "</table>\n"
      ],
      "text/latex": [
       "\\begin{tabular}{r|lll}\n",
       " icu & days & rank\\\\\n",
       "\\hline\n",
       "\t ct   &  7   &  5.5\\\\\n",
       "\t ct   &  1   &  1.0\\\\\n",
       "\t ct   &  2   &  2.0\\\\\n",
       "\t ct   &  6   &  4.0\\\\\n",
       "\t ct   & 11   & 10.0\\\\\n",
       "\t ct   &  8   &  7.0\\\\\n",
       "\\end{tabular}\n"
      ],
      "text/markdown": [
       "\n",
       "icu | days | rank | \n",
       "|---|---|---|---|---|---|\n",
       "| ct   |  7   |  5.5 | \n",
       "| ct   |  1   |  1.0 | \n",
       "| ct   |  2   |  2.0 | \n",
       "| ct   |  6   |  4.0 | \n",
       "| ct   | 11   | 10.0 | \n",
       "| ct   |  8   |  7.0 | \n",
       "\n",
       "\n"
      ],
      "text/plain": [
       "  icu days rank\n",
       "1 ct   7    5.5\n",
       "2 ct   1    1.0\n",
       "3 ct   2    2.0\n",
       "4 ct   6    4.0\n",
       "5 ct  11   10.0\n",
       "6 ct   8    7.0"
      ]
     },
     "metadata": {},
     "output_type": "display_data"
    }
   ],
   "source": [
    "head(df1)"
   ]
  },
  {
   "cell_type": "code",
   "execution_count": 94,
   "metadata": {
    "collapsed": true
   },
   "outputs": [],
   "source": [
    "df1$icu <- factor(df1$icu, levels=c(\"ct\", \"m\",\"ns\"))"
   ]
  },
  {
   "cell_type": "code",
   "execution_count": 95,
   "metadata": {},
   "outputs": [
    {
     "name": "stdout",
     "output_type": "stream",
     "text": [
      "'data.frame':\t17 obs. of  3 variables:\n",
      " $ icu : Factor w/ 3 levels \"ct\",\"m\",\"ns\": 1 1 1 1 1 1 2 2 2 2 ...\n",
      " $ days: num  7 1 2 6 11 8 4 7 16 11 ...\n",
      " $ rank: num  5.5 1 2 4 10 7 3 5.5 14 10 ...\n"
     ]
    }
   ],
   "source": [
    "str(df1)"
   ]
  },
  {
   "cell_type": "code",
   "execution_count": 74,
   "metadata": {
    "collapsed": true
   },
   "outputs": [],
   "source": [
    "library(clinfun)"
   ]
  },
  {
   "cell_type": "code",
   "execution_count": 91,
   "metadata": {},
   "outputs": [
    {
     "data": {
      "text/plain": [
       "\n",
       "\tJonckheere-Terpstra test\n",
       "\n",
       "data:  \n",
       "JT = 77, p-value = 0.0102\n",
       "alternative hypothesis: two.sided\n"
      ]
     },
     "metadata": {},
     "output_type": "display_data"
    }
   ],
   "source": [
    "jonckheere.test(df1$days, as.numeric(df1$icu), nperm=10000)"
   ]
  },
  {
   "cell_type": "code",
   "execution_count": 85,
   "metadata": {},
   "outputs": [
    {
     "data": {
      "text/html": [
       "<ol class=list-inline>\n",
       "\t<li>7</li>\n",
       "\t<li>1</li>\n",
       "\t<li>2</li>\n",
       "\t<li>6</li>\n",
       "\t<li>11</li>\n",
       "\t<li>8</li>\n",
       "\t<li>4</li>\n",
       "\t<li>7</li>\n",
       "\t<li>16</li>\n",
       "\t<li>11</li>\n",
       "\t<li>21</li>\n",
       "\t<li>20</li>\n",
       "\t<li>25</li>\n",
       "\t<li>13</li>\n",
       "\t<li>9</li>\n",
       "\t<li>14</li>\n",
       "\t<li>11</li>\n",
       "</ol>\n"
      ],
      "text/latex": [
       "\\begin{enumerate*}\n",
       "\\item 7\n",
       "\\item 1\n",
       "\\item 2\n",
       "\\item 6\n",
       "\\item 11\n",
       "\\item 8\n",
       "\\item 4\n",
       "\\item 7\n",
       "\\item 16\n",
       "\\item 11\n",
       "\\item 21\n",
       "\\item 20\n",
       "\\item 25\n",
       "\\item 13\n",
       "\\item 9\n",
       "\\item 14\n",
       "\\item 11\n",
       "\\end{enumerate*}\n"
      ],
      "text/markdown": [
       "1. 7\n",
       "2. 1\n",
       "3. 2\n",
       "4. 6\n",
       "5. 11\n",
       "6. 8\n",
       "7. 4\n",
       "8. 7\n",
       "9. 16\n",
       "10. 11\n",
       "11. 21\n",
       "12. 20\n",
       "13. 25\n",
       "14. 13\n",
       "15. 9\n",
       "16. 14\n",
       "17. 11\n",
       "\n",
       "\n"
      ],
      "text/plain": [
       " [1]  7  1  2  6 11  8  4  7 16 11 21 20 25 13  9 14 11"
      ]
     },
     "metadata": {},
     "output_type": "display_data"
    }
   ],
   "source": [
    "df1$days"
   ]
  },
  {
   "cell_type": "code",
   "execution_count": 89,
   "metadata": {},
   "outputs": [
    {
     "data": {
      "text/html": [
       "<ol class=list-inline>\n",
       "\t<li>1</li>\n",
       "\t<li>1</li>\n",
       "\t<li>1</li>\n",
       "\t<li>1</li>\n",
       "\t<li>1</li>\n",
       "\t<li>1</li>\n",
       "\t<li>2</li>\n",
       "\t<li>2</li>\n",
       "\t<li>2</li>\n",
       "\t<li>2</li>\n",
       "\t<li>2</li>\n",
       "\t<li>3</li>\n",
       "\t<li>3</li>\n",
       "\t<li>3</li>\n",
       "\t<li>3</li>\n",
       "\t<li>3</li>\n",
       "\t<li>3</li>\n",
       "</ol>\n"
      ],
      "text/latex": [
       "\\begin{enumerate*}\n",
       "\\item 1\n",
       "\\item 1\n",
       "\\item 1\n",
       "\\item 1\n",
       "\\item 1\n",
       "\\item 1\n",
       "\\item 2\n",
       "\\item 2\n",
       "\\item 2\n",
       "\\item 2\n",
       "\\item 2\n",
       "\\item 3\n",
       "\\item 3\n",
       "\\item 3\n",
       "\\item 3\n",
       "\\item 3\n",
       "\\item 3\n",
       "\\end{enumerate*}\n"
      ],
      "text/markdown": [
       "1. 1\n",
       "2. 1\n",
       "3. 1\n",
       "4. 1\n",
       "5. 1\n",
       "6. 1\n",
       "7. 2\n",
       "8. 2\n",
       "9. 2\n",
       "10. 2\n",
       "11. 2\n",
       "12. 3\n",
       "13. 3\n",
       "14. 3\n",
       "15. 3\n",
       "16. 3\n",
       "17. 3\n",
       "\n",
       "\n"
      ],
      "text/plain": [
       " [1] 1 1 1 1 1 1 2 2 2 2 2 3 3 3 3 3 3"
      ]
     },
     "metadata": {},
     "output_type": "display_data"
    }
   ],
   "source": [
    "as.numeric(df1$icu)"
   ]
  },
  {
   "cell_type": "markdown",
   "metadata": {},
   "source": [
    "## The Friedman Test\n",
    "\n",
    "Extension of the sign test for matched pairs and is used when the data arise from more than two related samples. The Friedman test is the non-parametric alternative to the one-way ANOVA with repeated measures. Used as a two-way ANOVA with a completely balanced design."
   ]
  },
  {
   "cell_type": "code",
   "execution_count": 196,
   "metadata": {},
   "outputs": [],
   "source": [
    "A <- c(6,9,10,14,11)\n",
    "B <- c(9,16,14,14,16)\n",
    "C <- c(10,16,22,40,17)\n",
    "D <- c(16,32,67,19,60)\n",
    "\n",
    "df3 <- data.frame(Patient = 1:5, A=A, B=B, C=C, D=D)"
   ]
  },
  {
   "cell_type": "code",
   "execution_count": 197,
   "metadata": {},
   "outputs": [
    {
     "data": {
      "text/html": [
       "<table>\n",
       "<thead><tr><th scope=col>A</th><th scope=col>B</th><th scope=col>C</th><th scope=col>D</th></tr></thead>\n",
       "<tbody>\n",
       "\t<tr><td>1.0</td><td>2.0</td><td>3.0</td><td>4  </td></tr>\n",
       "\t<tr><td>1.0</td><td>2.5</td><td>2.5</td><td>4  </td></tr>\n",
       "\t<tr><td>1.0</td><td>2.0</td><td>3.0</td><td>4  </td></tr>\n",
       "\t<tr><td>1.5</td><td>1.5</td><td>4.0</td><td>3  </td></tr>\n",
       "\t<tr><td>1.0</td><td>2.0</td><td>3.0</td><td>4  </td></tr>\n",
       "</tbody>\n",
       "</table>\n"
      ],
      "text/latex": [
       "\\begin{tabular}{r|llll}\n",
       " A & B & C & D\\\\\n",
       "\\hline\n",
       "\t 1.0 & 2.0 & 3.0 & 4  \\\\\n",
       "\t 1.0 & 2.5 & 2.5 & 4  \\\\\n",
       "\t 1.0 & 2.0 & 3.0 & 4  \\\\\n",
       "\t 1.5 & 1.5 & 4.0 & 3  \\\\\n",
       "\t 1.0 & 2.0 & 3.0 & 4  \\\\\n",
       "\\end{tabular}\n"
      ],
      "text/markdown": [
       "\n",
       "A | B | C | D | \n",
       "|---|---|---|---|---|\n",
       "| 1.0 | 2.0 | 3.0 | 4   | \n",
       "| 1.0 | 2.5 | 2.5 | 4   | \n",
       "| 1.0 | 2.0 | 3.0 | 4   | \n",
       "| 1.5 | 1.5 | 4.0 | 3   | \n",
       "| 1.0 | 2.0 | 3.0 | 4   | \n",
       "\n",
       "\n"
      ],
      "text/plain": [
       "  A   B   C   D\n",
       "1 1.0 2.0 3.0 4\n",
       "2 1.0 2.5 2.5 4\n",
       "3 1.0 2.0 3.0 4\n",
       "4 1.5 1.5 4.0 3\n",
       "5 1.0 2.0 3.0 4"
      ]
     },
     "metadata": {},
     "output_type": "display_data"
    }
   ],
   "source": [
    "df3.rank <- t(apply(df3[,2:5], 1, rank))\n",
    "df3.rank <- data.frame(df3.rank)\n",
    "df3.rank"
   ]
  },
  {
   "cell_type": "code",
   "execution_count": 198,
   "metadata": {},
   "outputs": [
    {
     "data": {
      "text/html": [
       "<table>\n",
       "<thead><tr><th scope=col>A</th><th scope=col>B</th><th scope=col>C</th><th scope=col>D</th></tr></thead>\n",
       "<tbody>\n",
       "\t<tr><td>5.5 </td><td>10  </td><td>15.5</td><td>19  </td></tr>\n",
       "</tbody>\n",
       "</table>\n"
      ],
      "text/latex": [
       "\\begin{tabular}{r|llll}\n",
       " A & B & C & D\\\\\n",
       "\\hline\n",
       "\t 5.5  & 10   & 15.5 & 19  \\\\\n",
       "\\end{tabular}\n"
      ],
      "text/markdown": [
       "\n",
       "A | B | C | D | \n",
       "|---|\n",
       "| 5.5  | 10   | 15.5 | 19   | \n",
       "\n",
       "\n"
      ],
      "text/plain": [
       "  A   B  C    D \n",
       "1 5.5 10 15.5 19"
      ]
     },
     "metadata": {},
     "output_type": "display_data"
    }
   ],
   "source": [
    "df4 <- df3.rank %>% summarise_each(\"sum\")\n",
    "df4"
   ]
  },
  {
   "cell_type": "code",
   "execution_count": 199,
   "metadata": {},
   "outputs": [],
   "source": [
    "k <- dim(df3.rank)[2] \n",
    "b <- dim(df3.rank)[1]\n",
    "\n",
    "T <- (12/(b*k*(k+1)))*sum(df4^2) - 3*b*(k+1)"
   ]
  },
  {
   "cell_type": "code",
   "execution_count": 200,
   "metadata": {},
   "outputs": [
    {
     "data": {
      "text/html": [
       "12.78"
      ],
      "text/latex": [
       "12.78"
      ],
      "text/markdown": [
       "12.78"
      ],
      "text/plain": [
       "[1] 12.78"
      ]
     },
     "metadata": {},
     "output_type": "display_data"
    }
   ],
   "source": [
    "T"
   ]
  },
  {
   "cell_type": "code",
   "execution_count": 201,
   "metadata": {},
   "outputs": [
    {
     "data": {
      "text/html": [
       "0.0051"
      ],
      "text/latex": [
       "0.0051"
      ],
      "text/markdown": [
       "0.0051"
      ],
      "text/plain": [
       "[1] 0.0051"
      ]
     },
     "metadata": {},
     "output_type": "display_data"
    }
   ],
   "source": [
    "round(1 - pchisq(T, k-1), 4)"
   ]
  },
  {
   "cell_type": "code",
   "execution_count": 202,
   "metadata": {},
   "outputs": [
    {
     "data": {
      "text/html": [
       "<table>\n",
       "<thead><tr><th scope=col>Patient</th><th scope=col>A</th><th scope=col>B</th><th scope=col>C</th><th scope=col>D</th></tr></thead>\n",
       "<tbody>\n",
       "\t<tr><td>1 </td><td> 6</td><td> 9</td><td>10</td><td>16</td></tr>\n",
       "\t<tr><td>2 </td><td> 9</td><td>16</td><td>16</td><td>32</td></tr>\n",
       "\t<tr><td>3 </td><td>10</td><td>14</td><td>22</td><td>67</td></tr>\n",
       "\t<tr><td>4 </td><td>14</td><td>14</td><td>40</td><td>19</td></tr>\n",
       "\t<tr><td>5 </td><td>11</td><td>16</td><td>17</td><td>60</td></tr>\n",
       "</tbody>\n",
       "</table>\n"
      ],
      "text/latex": [
       "\\begin{tabular}{r|lllll}\n",
       " Patient & A & B & C & D\\\\\n",
       "\\hline\n",
       "\t 1  &  6 &  9 & 10 & 16\\\\\n",
       "\t 2  &  9 & 16 & 16 & 32\\\\\n",
       "\t 3  & 10 & 14 & 22 & 67\\\\\n",
       "\t 4  & 14 & 14 & 40 & 19\\\\\n",
       "\t 5  & 11 & 16 & 17 & 60\\\\\n",
       "\\end{tabular}\n"
      ],
      "text/markdown": [
       "\n",
       "Patient | A | B | C | D | \n",
       "|---|---|---|---|---|\n",
       "| 1  |  6 |  9 | 10 | 16 | \n",
       "| 2  |  9 | 16 | 16 | 32 | \n",
       "| 3  | 10 | 14 | 22 | 67 | \n",
       "| 4  | 14 | 14 | 40 | 19 | \n",
       "| 5  | 11 | 16 | 17 | 60 | \n",
       "\n",
       "\n"
      ],
      "text/plain": [
       "  Patient A  B  C  D \n",
       "1 1        6  9 10 16\n",
       "2 2        9 16 16 32\n",
       "3 3       10 14 22 67\n",
       "4 4       14 14 40 19\n",
       "5 5       11 16 17 60"
      ]
     },
     "metadata": {},
     "output_type": "display_data"
    }
   ],
   "source": [
    "df3"
   ]
  },
  {
   "cell_type": "code",
   "execution_count": 203,
   "metadata": {},
   "outputs": [
    {
     "data": {
      "text/html": [
       "<table>\n",
       "<thead><tr><th scope=col>Patient</th><th scope=col>treatment</th><th scope=col>score</th></tr></thead>\n",
       "<tbody>\n",
       "\t<tr><td>1 </td><td>A </td><td> 6</td></tr>\n",
       "\t<tr><td>2 </td><td>A </td><td> 9</td></tr>\n",
       "\t<tr><td>3 </td><td>A </td><td>10</td></tr>\n",
       "\t<tr><td>4 </td><td>A </td><td>14</td></tr>\n",
       "\t<tr><td>5 </td><td>A </td><td>11</td></tr>\n",
       "\t<tr><td>1 </td><td>B </td><td> 9</td></tr>\n",
       "</tbody>\n",
       "</table>\n"
      ],
      "text/latex": [
       "\\begin{tabular}{r|lll}\n",
       " Patient & treatment & score\\\\\n",
       "\\hline\n",
       "\t 1  & A  &  6\\\\\n",
       "\t 2  & A  &  9\\\\\n",
       "\t 3  & A  & 10\\\\\n",
       "\t 4  & A  & 14\\\\\n",
       "\t 5  & A  & 11\\\\\n",
       "\t 1  & B  &  9\\\\\n",
       "\\end{tabular}\n"
      ],
      "text/markdown": [
       "\n",
       "Patient | treatment | score | \n",
       "|---|---|---|---|---|---|\n",
       "| 1  | A  |  6 | \n",
       "| 2  | A  |  9 | \n",
       "| 3  | A  | 10 | \n",
       "| 4  | A  | 14 | \n",
       "| 5  | A  | 11 | \n",
       "| 1  | B  |  9 | \n",
       "\n",
       "\n"
      ],
      "text/plain": [
       "  Patient treatment score\n",
       "1 1       A          6   \n",
       "2 2       A          9   \n",
       "3 3       A         10   \n",
       "4 4       A         14   \n",
       "5 5       A         11   \n",
       "6 1       B          9   "
      ]
     },
     "metadata": {},
     "output_type": "display_data"
    }
   ],
   "source": [
    "df5 <- df3 %>% gather(treatment, score, A:D)\n",
    "head(df5)"
   ]
  },
  {
   "cell_type": "code",
   "execution_count": 204,
   "metadata": {},
   "outputs": [
    {
     "name": "stdout",
     "output_type": "stream",
     "text": [
      "'data.frame':\t20 obs. of  3 variables:\n",
      " $ Patient  : int  1 2 3 4 5 1 2 3 4 5 ...\n",
      " $ treatment: chr  \"A\" \"A\" \"A\" \"A\" ...\n",
      " $ score    : num  6 9 10 14 11 9 16 14 14 16 ...\n"
     ]
    }
   ],
   "source": [
    "str(df5)"
   ]
  },
  {
   "cell_type": "markdown",
   "metadata": {},
   "source": [
    "#### First way  to call Friedman test"
   ]
  },
  {
   "cell_type": "code",
   "execution_count": 206,
   "metadata": {},
   "outputs": [
    {
     "data": {
      "text/plain": [
       "\n",
       "\tFriedman rank sum test\n",
       "\n",
       "data:  score and treatment and Patient\n",
       "Friedman chi-squared = 13.312, df = 3, p-value = 0.004007\n"
      ]
     },
     "metadata": {},
     "output_type": "display_data"
    }
   ],
   "source": [
    "friedman.test(score ~ treatment | Patient, data=df5)"
   ]
  },
  {
   "cell_type": "markdown",
   "metadata": {},
   "source": [
    "#### Second way to call Friedman test"
   ]
  },
  {
   "cell_type": "code",
   "execution_count": 209,
   "metadata": {},
   "outputs": [
    {
     "data": {
      "text/plain": [
       "\n",
       "\tFriedman rank sum test\n",
       "\n",
       "data:  df5$score, df5$treatment and df5$Patient\n",
       "Friedman chi-squared = 13.312, df = 3, p-value = 0.004007\n"
      ]
     },
     "metadata": {},
     "output_type": "display_data"
    }
   ],
   "source": [
    "friedman.test(df5$score, df5$treatment, df5$Patient)"
   ]
  },
  {
   "cell_type": "code",
   "execution_count": 1,
   "metadata": {},
   "outputs": [
    {
     "data": {
      "text/html": [
       "<table>\n",
       "<thead><tr><th scope=col>weight</th><th scope=col>feed</th></tr></thead>\n",
       "<tbody>\n",
       "\t<tr><td>179      </td><td>horsebean</td></tr>\n",
       "\t<tr><td>160      </td><td>horsebean</td></tr>\n",
       "\t<tr><td>136      </td><td>horsebean</td></tr>\n",
       "\t<tr><td>227      </td><td>horsebean</td></tr>\n",
       "\t<tr><td>217      </td><td>horsebean</td></tr>\n",
       "\t<tr><td>168      </td><td>horsebean</td></tr>\n",
       "</tbody>\n",
       "</table>\n"
      ],
      "text/latex": [
       "\\begin{tabular}{r|ll}\n",
       " weight & feed\\\\\n",
       "\\hline\n",
       "\t 179       & horsebean\\\\\n",
       "\t 160       & horsebean\\\\\n",
       "\t 136       & horsebean\\\\\n",
       "\t 227       & horsebean\\\\\n",
       "\t 217       & horsebean\\\\\n",
       "\t 168       & horsebean\\\\\n",
       "\\end{tabular}\n"
      ],
      "text/markdown": [
       "\n",
       "weight | feed | \n",
       "|---|---|---|---|---|---|\n",
       "| 179       | horsebean | \n",
       "| 160       | horsebean | \n",
       "| 136       | horsebean | \n",
       "| 227       | horsebean | \n",
       "| 217       | horsebean | \n",
       "| 168       | horsebean | \n",
       "\n",
       "\n"
      ],
      "text/plain": [
       "  weight feed     \n",
       "1 179    horsebean\n",
       "2 160    horsebean\n",
       "3 136    horsebean\n",
       "4 227    horsebean\n",
       "5 217    horsebean\n",
       "6 168    horsebean"
      ]
     },
     "metadata": {},
     "output_type": "display_data"
    }
   ],
   "source": [
    "head(chickwts)"
   ]
  },
  {
   "cell_type": "markdown",
   "metadata": {},
   "source": [
    "## Exercise"
   ]
  },
  {
   "cell_type": "markdown",
   "metadata": {},
   "source": [
    "**1**. Practice using the non-parametric tests on the `chickwts` data set."
   ]
  },
  {
   "cell_type": "code",
   "execution_count": null,
   "metadata": {
    "collapsed": true
   },
   "outputs": [],
   "source": []
  }
 ],
 "metadata": {
  "kernelspec": {
   "display_name": "R",
   "language": "R",
   "name": "ir"
  },
  "language_info": {
   "codemirror_mode": "r",
   "file_extension": ".r",
   "mimetype": "text/x-r-source",
   "name": "R",
   "pygments_lexer": "r",
   "version": "3.4.0"
  }
 },
 "nbformat": 4,
 "nbformat_minor": 2
}
