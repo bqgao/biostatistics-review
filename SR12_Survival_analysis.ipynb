{
 "cells": [
  {
   "cell_type": "markdown",
   "metadata": {},
   "source": [
    "# Statistics review 12: Survival analysis\n",
    "\n",
    "R code accompanying [paper](https://www.ncbi.nlm.nih.gov/pmc/articles/PMC1065034/pdf/cc2955.pdf)\n",
    "\n",
    "## Key learning points\n",
    "\n",
    "- Analysis of time-to-event data\n",
    "- Kaplan–Meier methods\n",
    "- log rank test \n",
    "- Cox’s proportional hazards"
   ]
  },
  {
   "cell_type": "code",
   "execution_count": 3,
   "metadata": {
    "collapsed": true
   },
   "outputs": [],
   "source": [
    "suppressPackageStartupMessages(library(tidyverse))"
   ]
  },
  {
   "cell_type": "code",
   "execution_count": 17,
   "metadata": {
    "collapsed": true
   },
   "outputs": [],
   "source": [
    "options(repr.plot.width=4, repr.plot.height=3)"
   ]
  },
  {
   "cell_type": "markdown",
   "metadata": {},
   "source": [
    "## Survival Data"
   ]
  },
  {
   "cell_type": "code",
   "execution_count": 18,
   "metadata": {},
   "outputs": [
    {
     "data": {
      "text/html": [
       "<table>\n",
       "<thead><tr><th scope=col>pt</th><th scope=col>days</th><th scope=col>outcome</th><th scope=col>treatment</th><th scope=col>age</th></tr></thead>\n",
       "<tbody>\n",
       "\t<tr><td> 1</td><td> 1</td><td>d </td><td>2 </td><td>75</td></tr>\n",
       "\t<tr><td> 2</td><td> 1</td><td>d </td><td>2 </td><td>79</td></tr>\n",
       "\t<tr><td> 3</td><td> 4</td><td>d </td><td>2 </td><td>85</td></tr>\n",
       "\t<tr><td> 4</td><td> 5</td><td>d </td><td>2 </td><td>76</td></tr>\n",
       "\t<tr><td> 5</td><td> 6</td><td>NA</td><td>2 </td><td>66</td></tr>\n",
       "\t<tr><td> 6</td><td> 8</td><td>d </td><td>1 </td><td>75</td></tr>\n",
       "\t<tr><td> 7</td><td> 9</td><td>s </td><td>2 </td><td>72</td></tr>\n",
       "\t<tr><td> 8</td><td> 9</td><td>d </td><td>2 </td><td>70</td></tr>\n",
       "\t<tr><td> 9</td><td>12</td><td>d </td><td>1 </td><td>71</td></tr>\n",
       "\t<tr><td>10</td><td>15</td><td>NA</td><td>1 </td><td>73</td></tr>\n",
       "\t<tr><td>11</td><td>22</td><td>d </td><td>2 </td><td>66</td></tr>\n",
       "\t<tr><td>12</td><td>25</td><td>s </td><td>1 </td><td>73</td></tr>\n",
       "\t<tr><td>13</td><td>37</td><td>d </td><td>1 </td><td>68</td></tr>\n",
       "\t<tr><td>14</td><td>55</td><td>d </td><td>1 </td><td>59</td></tr>\n",
       "\t<tr><td>15</td><td>72</td><td>s </td><td>1 </td><td>61</td></tr>\n",
       "</tbody>\n",
       "</table>\n"
      ],
      "text/latex": [
       "\\begin{tabular}{r|lllll}\n",
       " pt & days & outcome & treatment & age\\\\\n",
       "\\hline\n",
       "\t  1 &  1 & d  & 2  & 75\\\\\n",
       "\t  2 &  1 & d  & 2  & 79\\\\\n",
       "\t  3 &  4 & d  & 2  & 85\\\\\n",
       "\t  4 &  5 & d  & 2  & 76\\\\\n",
       "\t  5 &  6 & NA & 2  & 66\\\\\n",
       "\t  6 &  8 & d  & 1  & 75\\\\\n",
       "\t  7 &  9 & s  & 2  & 72\\\\\n",
       "\t  8 &  9 & d  & 2  & 70\\\\\n",
       "\t  9 & 12 & d  & 1  & 71\\\\\n",
       "\t 10 & 15 & NA & 1  & 73\\\\\n",
       "\t 11 & 22 & d  & 2  & 66\\\\\n",
       "\t 12 & 25 & s  & 1  & 73\\\\\n",
       "\t 13 & 37 & d  & 1  & 68\\\\\n",
       "\t 14 & 55 & d  & 1  & 59\\\\\n",
       "\t 15 & 72 & s  & 1  & 61\\\\\n",
       "\\end{tabular}\n"
      ],
      "text/markdown": [
       "\n",
       "pt | days | outcome | treatment | age | \n",
       "|---|---|---|---|---|---|---|---|---|---|---|---|---|---|---|\n",
       "|  1 |  1 | d  | 2  | 75 | \n",
       "|  2 |  1 | d  | 2  | 79 | \n",
       "|  3 |  4 | d  | 2  | 85 | \n",
       "|  4 |  5 | d  | 2  | 76 | \n",
       "|  5 |  6 | NA | 2  | 66 | \n",
       "|  6 |  8 | d  | 1  | 75 | \n",
       "|  7 |  9 | s  | 2  | 72 | \n",
       "|  8 |  9 | d  | 2  | 70 | \n",
       "|  9 | 12 | d  | 1  | 71 | \n",
       "| 10 | 15 | NA | 1  | 73 | \n",
       "| 11 | 22 | d  | 2  | 66 | \n",
       "| 12 | 25 | s  | 1  | 73 | \n",
       "| 13 | 37 | d  | 1  | 68 | \n",
       "| 14 | 55 | d  | 1  | 59 | \n",
       "| 15 | 72 | s  | 1  | 61 | \n",
       "\n",
       "\n"
      ],
      "text/plain": [
       "   pt days outcome treatment age\n",
       "1   1  1   d       2         75 \n",
       "2   2  1   d       2         79 \n",
       "3   3  4   d       2         85 \n",
       "4   4  5   d       2         76 \n",
       "5   5  6   NA      2         66 \n",
       "6   6  8   d       1         75 \n",
       "7   7  9   s       2         72 \n",
       "8   8  9   d       2         70 \n",
       "9   9 12   d       1         71 \n",
       "10 10 15   NA      1         73 \n",
       "11 11 22   d       2         66 \n",
       "12 12 25   s       1         73 \n",
       "13 13 37   d       1         68 \n",
       "14 14 55   d       1         59 \n",
       "15 15 72   s       1         61 "
      ]
     },
     "metadata": {},
     "output_type": "display_data"
    }
   ],
   "source": [
    "pt <- 1:15\n",
    "days <- c(1,1,4,5,6,8,9,9,12,15,22,25,37,55,72)\n",
    "outcome <- c('d', 'd', 'd', 'd', NA, 'd', 's', 'd', 'd',\n",
    "            NA, 'd', 's', 'd', 'd', 's')\n",
    "treatment <- c(2,2,2,2,2,1,2,2,1,1,2,1,1,1,1)\n",
    "age <- c(75,79,85,76,66,75,72,70,71,73,66,73,68,59,61)\n",
    "\n",
    "df <- data.frame(pt=pt, days=days, outcome=outcome, treatment=treatment, age=age)\n",
    "df"
   ]
  },
  {
   "cell_type": "markdown",
   "metadata": {},
   "source": [
    "## Estimating the survival curve using the Kaplan–Meier method"
   ]
  },
  {
   "cell_type": "code",
   "execution_count": 24,
   "metadata": {},
   "outputs": [],
   "source": [
    "library(survival)\n",
    "library(ggfortify)"
   ]
  },
  {
   "cell_type": "code",
   "execution_count": 20,
   "metadata": {},
   "outputs": [],
   "source": [
    "df$surv <- with(df, Surv(days, outcome=='d'))"
   ]
  },
  {
   "cell_type": "code",
   "execution_count": 21,
   "metadata": {},
   "outputs": [
    {
     "data": {
      "text/html": [
       "<table>\n",
       "<thead><tr><th scope=col>pt</th><th scope=col>days</th><th scope=col>outcome</th><th scope=col>treatment</th><th scope=col>age</th><th scope=col>surv</th></tr></thead>\n",
       "<tbody>\n",
       "\t<tr><td>1 </td><td>1 </td><td>d </td><td>2 </td><td>75</td><td>1 </td></tr>\n",
       "\t<tr><td>2 </td><td>1 </td><td>d </td><td>2 </td><td>79</td><td>1 </td></tr>\n",
       "\t<tr><td>3 </td><td>4 </td><td>d </td><td>2 </td><td>85</td><td>4 </td></tr>\n",
       "\t<tr><td>4 </td><td>5 </td><td>d </td><td>2 </td><td>76</td><td>5 </td></tr>\n",
       "\t<tr><td>5 </td><td>6 </td><td>NA</td><td>2 </td><td>66</td><td>6?</td></tr>\n",
       "\t<tr><td>6 </td><td>8 </td><td>d </td><td>1 </td><td>75</td><td>8 </td></tr>\n",
       "</tbody>\n",
       "</table>\n"
      ],
      "text/latex": [
       "\\begin{tabular}{r|llllll}\n",
       " pt & days & outcome & treatment & age & surv\\\\\n",
       "\\hline\n",
       "\t 1  & 1  & d  & 2  & 75 & 1 \\\\\n",
       "\t 2  & 1  & d  & 2  & 79 & 1 \\\\\n",
       "\t 3  & 4  & d  & 2  & 85 & 4 \\\\\n",
       "\t 4  & 5  & d  & 2  & 76 & 5 \\\\\n",
       "\t 5  & 6  & NA & 2  & 66 & 6?\\\\\n",
       "\t 6  & 8  & d  & 1  & 75 & 8 \\\\\n",
       "\\end{tabular}\n"
      ],
      "text/markdown": [
       "\n",
       "pt | days | outcome | treatment | age | surv | \n",
       "|---|---|---|---|---|---|\n",
       "| 1  | 1  | d  | 2  | 75 | 1  | \n",
       "| 2  | 1  | d  | 2  | 79 | 1  | \n",
       "| 3  | 4  | d  | 2  | 85 | 4  | \n",
       "| 4  | 5  | d  | 2  | 76 | 5  | \n",
       "| 5  | 6  | NA | 2  | 66 | 6? | \n",
       "| 6  | 8  | d  | 1  | 75 | 8  | \n",
       "\n",
       "\n"
      ],
      "text/plain": [
       "  pt days outcome treatment age surv\n",
       "1 1  1    d       2         75  1   \n",
       "2 2  1    d       2         79  1   \n",
       "3 3  4    d       2         85  4   \n",
       "4 4  5    d       2         76  5   \n",
       "5 5  6    NA      2         66  6?  \n",
       "6 6  8    d       1         75  8   "
      ]
     },
     "metadata": {},
     "output_type": "display_data"
    }
   ],
   "source": [
    "head(df)"
   ]
  },
  {
   "cell_type": "markdown",
   "metadata": {},
   "source": [
    "### Overall "
   ]
  },
  {
   "cell_type": "code",
   "execution_count": 30,
   "metadata": {
    "collapsed": true
   },
   "outputs": [],
   "source": [
    "km1 <- survfit(surv ~ 1, data=df)"
   ]
  },
  {
   "cell_type": "code",
   "execution_count": 41,
   "metadata": {},
   "outputs": [
    {
     "data": {},
     "metadata": {},
     "output_type": "display_data"
    },
    {
     "data": {
      "image/png": "[encoded data removed]",
      "text/plain": [
       "plot without title"
      ]
     },
     "metadata": {},
     "output_type": "display_data"
    }
   ],
   "source": [
    "autoplot(km1)"
   ]
  },
  {
   "cell_type": "markdown",
   "metadata": {},
   "source": [
    "### By treatment"
   ]
  },
  {
   "cell_type": "code",
   "execution_count": 32,
   "metadata": {
    "collapsed": true
   },
   "outputs": [],
   "source": [
    "km2 <- survfit(surv ~ treatment, data=df)"
   ]
  },
  {
   "cell_type": "code",
   "execution_count": 33,
   "metadata": {},
   "outputs": [
    {
     "data": {},
     "metadata": {},
     "output_type": "display_data"
    },
    {
     "data": {
      "image/png": "[encoded data removed]",
      "text/plain": [
       "plot without title"
      ]
     },
     "metadata": {},
     "output_type": "display_data"
    }
   ],
   "source": [
    "autoplot(km2)"
   ]
  },
  {
   "cell_type": "markdown",
   "metadata": {},
   "source": [
    "### Plotting cumulative hazard"
   ]
  },
  {
   "cell_type": "code",
   "execution_count": 44,
   "metadata": {},
   "outputs": [
    {
     "data": {},
     "metadata": {},
     "output_type": "display_data"
    },
    {
     "data": {
      "image/png": "[encoded data removed]",
      "text/plain": [
       "plot without title"
      ]
     },
     "metadata": {},
     "output_type": "display_data"
    }
   ],
   "source": [
    "autoplot(km2, fun='event')"
   ]
  },
  {
   "cell_type": "markdown",
   "metadata": {},
   "source": [
    "## Comparing survival curves of two groups using the log rank test"
   ]
  },
  {
   "cell_type": "code",
   "execution_count": 35,
   "metadata": {},
   "outputs": [
    {
     "data": {
      "text/plain": [
       "Call:\n",
       "survdiff(formula = surv ~ treatment, data = df)\n",
       "\n",
       "n=13, 2 observations deleted due to missingness.\n",
       "\n",
       "            N Observed Expected (O-E)^2/E (O-E)^2/V\n",
       "treatment=1 6        4     6.99      1.28      5.27\n",
       "treatment=2 7        6     3.01      2.98      5.27\n",
       "\n",
       " Chisq= 5.3  on 1 degrees of freedom, p= 0.0216 "
      ]
     },
     "metadata": {},
     "output_type": "display_data"
    }
   ],
   "source": [
    "survdiff(surv ~ treatment, data=df)"
   ]
  },
  {
   "cell_type": "markdown",
   "metadata": {},
   "source": [
    "## Cox’s proportional hazards model"
   ]
  },
  {
   "cell_type": "markdown",
   "metadata": {},
   "source": [
    "### Treatment only"
   ]
  },
  {
   "cell_type": "code",
   "execution_count": 36,
   "metadata": {
    "collapsed": true
   },
   "outputs": [],
   "source": [
    "m1 <- coxph(surv ~ treatment, data=df)"
   ]
  },
  {
   "cell_type": "code",
   "execution_count": 37,
   "metadata": {},
   "outputs": [
    {
     "data": {
      "text/plain": [
       "Call:\n",
       "coxph(formula = surv ~ treatment, data = df)\n",
       "\n",
       "  n= 13, number of events= 10 \n",
       "   (2 observations deleted due to missingness)\n",
       "\n",
       "            coef exp(coef) se(coef)    z Pr(>|z|)  \n",
       "treatment 1.7603    5.8144   0.8465 2.08   0.0376 *\n",
       "---\n",
       "Signif. codes:  0 ‘***’ 0.001 ‘**’ 0.01 ‘*’ 0.05 ‘.’ 0.1 ‘ ’ 1\n",
       "\n",
       "          exp(coef) exp(-coef) lower .95 upper .95\n",
       "treatment     5.814      0.172     1.107     30.55\n",
       "\n",
       "Concordance= 0.713  (se = 0.099 )\n",
       "Rsquare= 0.327   (max possible= 0.948 )\n",
       "Likelihood ratio test= 5.14  on 1 df,   p=0.02333\n",
       "Wald test            = 4.32  on 1 df,   p=0.03756\n",
       "Score (logrank) test = 5.28  on 1 df,   p=0.0216\n"
      ]
     },
     "metadata": {},
     "output_type": "display_data"
    }
   ],
   "source": [
    "summary(m1)"
   ]
  },
  {
   "cell_type": "markdown",
   "metadata": {},
   "source": [
    "### Treatment and age"
   ]
  },
  {
   "cell_type": "code",
   "execution_count": 38,
   "metadata": {
    "collapsed": true
   },
   "outputs": [],
   "source": [
    "m2 <- coxph(surv ~ treatment + age, data=df)"
   ]
  },
  {
   "cell_type": "code",
   "execution_count": 39,
   "metadata": {},
   "outputs": [
    {
     "data": {
      "text/plain": [
       "Call:\n",
       "coxph(formula = surv ~ treatment + age, data = df)\n",
       "\n",
       "  n= 13, number of events= 10 \n",
       "   (2 observations deleted due to missingness)\n",
       "\n",
       "             coef exp(coef) se(coef)     z Pr(>|z|)  \n",
       "treatment 1.65039   5.20901  0.96397 1.712   0.0869 .\n",
       "age       0.21523   1.24015  0.08562 2.514   0.0119 *\n",
       "---\n",
       "Signif. codes:  0 ‘***’ 0.001 ‘**’ 0.01 ‘*’ 0.05 ‘.’ 0.1 ‘ ’ 1\n",
       "\n",
       "          exp(coef) exp(-coef) lower .95 upper .95\n",
       "treatment     5.209     0.1920    0.7875    34.458\n",
       "age           1.240     0.8064    1.0486     1.467\n",
       "\n",
       "Concordance= 0.868  (se = 0.118 )\n",
       "Rsquare= 0.646   (max possible= 0.948 )\n",
       "Likelihood ratio test= 13.5  on 2 df,   p=0.001173\n",
       "Wald test            = 8.23  on 2 df,   p=0.01632\n",
       "Score (logrank) test = 11.43  on 2 df,   p=0.003298\n"
      ]
     },
     "metadata": {},
     "output_type": "display_data"
    }
   ],
   "source": [
    "summary(m2)"
   ]
  },
  {
   "cell_type": "markdown",
   "metadata": {},
   "source": [
    "### Check for violation of proportional hazard (constant HR over time)"
   ]
  },
  {
   "cell_type": "code",
   "execution_count": 62,
   "metadata": {},
   "outputs": [
    {
     "data": {
      "text/plain": [
       "            rho  chisq     p\n",
       "treatment 0.110 0.0994 0.753\n",
       "age       0.274 0.4489 0.503\n",
       "GLOBAL       NA 0.5000 0.779"
      ]
     },
     "metadata": {},
     "output_type": "display_data"
    }
   ],
   "source": [
    "res <- cox.zph(m2)\n",
    "res"
   ]
  },
  {
   "cell_type": "code",
   "execution_count": 63,
   "metadata": {},
   "outputs": [
    {
     "data": {
      "image/png": "[encoded data removed]",
      "text/plain": [
       "plot without title"
      ]
     },
     "metadata": {},
     "output_type": "display_data"
    },
    {
     "data": {
      "image/png": "[encoded data removed]",
      "text/plain": [
       "plot without title"
      ]
     },
     "metadata": {},
     "output_type": "display_data"
    }
   ],
   "source": [
    "plot(res)"
   ]
  },
  {
   "cell_type": "markdown",
   "metadata": {},
   "source": [
    "## Exercise"
   ]
  },
  {
   "cell_type": "code",
   "execution_count": 65,
   "metadata": {
    "collapsed": true
   },
   "outputs": [],
   "source": [
    "library(KMsurv)"
   ]
  },
  {
   "cell_type": "code",
   "execution_count": 68,
   "metadata": {},
   "outputs": [],
   "source": [
    "data(tongue)"
   ]
  },
  {
   "cell_type": "code",
   "execution_count": 76,
   "metadata": {},
   "outputs": [],
   "source": [
    "help(tongue)"
   ]
  },
  {
   "cell_type": "code",
   "execution_count": 69,
   "metadata": {},
   "outputs": [
    {
     "data": {
      "text/html": [
       "<table>\n",
       "<thead><tr><th scope=col>type</th><th scope=col>time</th><th scope=col>delta</th></tr></thead>\n",
       "<tbody>\n",
       "\t<tr><td>1 </td><td> 1</td><td>1 </td></tr>\n",
       "\t<tr><td>1 </td><td> 3</td><td>1 </td></tr>\n",
       "\t<tr><td>1 </td><td> 3</td><td>1 </td></tr>\n",
       "\t<tr><td>1 </td><td> 4</td><td>1 </td></tr>\n",
       "\t<tr><td>1 </td><td>10</td><td>1 </td></tr>\n",
       "\t<tr><td>1 </td><td>13</td><td>1 </td></tr>\n",
       "</tbody>\n",
       "</table>\n"
      ],
      "text/latex": [
       "\\begin{tabular}{r|lll}\n",
       " type & time & delta\\\\\n",
       "\\hline\n",
       "\t 1  &  1 & 1 \\\\\n",
       "\t 1  &  3 & 1 \\\\\n",
       "\t 1  &  3 & 1 \\\\\n",
       "\t 1  &  4 & 1 \\\\\n",
       "\t 1  & 10 & 1 \\\\\n",
       "\t 1  & 13 & 1 \\\\\n",
       "\\end{tabular}\n"
      ],
      "text/markdown": [
       "\n",
       "type | time | delta | \n",
       "|---|---|---|---|---|---|\n",
       "| 1  |  1 | 1  | \n",
       "| 1  |  3 | 1  | \n",
       "| 1  |  3 | 1  | \n",
       "| 1  |  4 | 1  | \n",
       "| 1  | 10 | 1  | \n",
       "| 1  | 13 | 1  | \n",
       "\n",
       "\n"
      ],
      "text/plain": [
       "  type time delta\n",
       "1 1     1   1    \n",
       "2 1     3   1    \n",
       "3 1     3   1    \n",
       "4 1     4   1    \n",
       "5 1    10   1    \n",
       "6 1    13   1    "
      ]
     },
     "metadata": {},
     "output_type": "display_data"
    }
   ],
   "source": [
    "head(tongue)"
   ]
  },
  {
   "cell_type": "markdown",
   "metadata": {},
   "source": [
    "**1**. Create a KM plot for the tongue data set."
   ]
  },
  {
   "cell_type": "code",
   "execution_count": null,
   "metadata": {
    "collapsed": true
   },
   "outputs": [],
   "source": []
  },
  {
   "cell_type": "markdown",
   "metadata": {},
   "source": [
    "**2**. Evaluate if the type of tumor affects survival using a log-rank test"
   ]
  },
  {
   "cell_type": "code",
   "execution_count": null,
   "metadata": {
    "collapsed": true
   },
   "outputs": [],
   "source": []
  },
  {
   "cell_type": "markdown",
   "metadata": {},
   "source": [
    "**3**. Evaluate if the type of tumor affects survival using Cox PH test."
   ]
  },
  {
   "cell_type": "code",
   "execution_count": null,
   "metadata": {
    "collapsed": true
   },
   "outputs": [],
   "source": []
  },
  {
   "cell_type": "markdown",
   "metadata": {},
   "source": [
    "**4**. Check if the Cox PH assumptions are met."
   ]
  },
  {
   "cell_type": "code",
   "execution_count": null,
   "metadata": {
    "collapsed": true
   },
   "outputs": [],
   "source": []
  }
 ],
 "metadata": {
  "kernelspec": {
   "display_name": "R",
   "language": "R",
   "name": "ir"
  },
  "language_info": {
   "codemirror_mode": "r",
   "file_extension": ".r",
   "mimetype": "text/x-r-source",
   "name": "R",
   "pygments_lexer": "r",
   "version": "3.4.0"
  }
 },
 "nbformat": 4,
 "nbformat_minor": 2
}
